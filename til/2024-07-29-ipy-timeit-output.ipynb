{
  "cells": [
    {
      "cell_type": "raw",
      "metadata": {},
      "source": [
        "---\n",
        "author: Fabrizio Damicelli\n",
        "badges: true\n",
        "categories:\n",
        "- python\n",
        "- IPython\n",
        "comments: false\n",
        "date: '2024-07-29'\n",
        "description: ''\n",
        "filters:\n",
        "- social-share\n",
        "output-file: ipy-timeit-output.html\n",
        "share:\n",
        "  description: '\"Catch output of IPython magic `%timeit`. \"'\n",
        "  linkedin: true\n",
        "  mastodon: true\n",
        "  permalink: '\"https://fabridamicelli.github.io/posts/ipy-timeit-output.html\"'\n",
        "  reddit: true\n",
        "  twitter: true\n",
        "title: Catch output of IPython magic `%timeit`\n",
        "toc: true\n",
        "\n",
        "---\n"
      ]
    },
    {
      "cell_type": "markdown",
      "metadata": {},
      "source": [
        "[IPython \"magic\" commands](https://ipython.readthedocs.io/en/stable/interactive/magics.html#built-in-magic-commands) are pretty handy in general.  \n",
        "In particular, I often use `%time` and `%timeit` for rapid profiling of little code snippets, for example:"
      ]
    },
    {
      "cell_type": "code",
      "execution_count": 37,
      "metadata": {},
      "outputs": [],
      "source": [
        "#| code-fold: true\n",
        "\n",
        "import time\n",
        "import random\n",
        "\n",
        "import numpy as np\n",
        "import seaborn as sns\n",
        "sns.set(style=\"whitegrid\")"
      ]
    },
    {
      "cell_type": "code",
      "execution_count": 5,
      "metadata": {},
      "outputs": [
        {
          "name": "stdout",
          "output_type": "stream",
          "text": [
            "The slowest run took 67.00 times longer than the fastest. This could mean that an intermediate result is being cached.\n",
            "400 ms ± 347 ms per loop (mean ± std. dev. of 7 runs, 1 loop each)\n"
          ]
        }
      ],
      "source": [
        "%timeit time.sleep(random.random())"
      ]
    },
    {
      "cell_type": "markdown",
      "metadata": {},
      "source": [
        "As the output shows, we get `mean ± std` across several runs (IPython will try to guesstimate how many runs are actually necessary, but you can change those parameters too).  \n",
        "That does the job almost always.\n",
        "But what if we want to get all run values?  \n",
        "You can pass the parameter `-o` and that'll do!"
      ]
    },
    {
      "cell_type": "code",
      "execution_count": 27,
      "metadata": {},
      "outputs": [
        {
          "name": "stdout",
          "output_type": "stream",
          "text": [
            "The slowest run took 111.58 times longer than the fastest. This could mean that an intermediate result is being cached.\n",
            "497 ms ± 292 ms per loop (mean ± std. dev. of 100 runs, 1 loop each)\n"
          ]
        }
      ],
      "source": [
        "times = %timeit -o -r 100 time.sleep(random.random())  # -r -> repeat R times the measurement"
      ]
    },
    {
      "cell_type": "markdown",
      "metadata": {},
      "source": [
        "So we can do stuff with the output:"
      ]
    },
    {
      "cell_type": "code",
      "execution_count": 30,
      "metadata": {},
      "outputs": [
        {
          "data": {
            "text/plain": [
              "[0.22056039492599666,\n",
              " 0.23466998199000955,\n",
              " 0.26134258206002414,\n",
              " 0.8024904718622565,\n",
              " 0.9086503440048546]"
            ]
          },
          "execution_count": 30,
          "metadata": {},
          "output_type": "execute_result"
        }
      ],
      "source": [
        "times.timings[:5]"
      ]
    },
    {
      "cell_type": "code",
      "execution_count": 38,
      "metadata": {},
      "outputs": [
        {
          "data": {
            "text/plain": [
              "0.014373812611727044"
            ]
          },
          "execution_count": 38,
          "metadata": {},
          "output_type": "execute_result"
        }
      ],
      "source": [
        "np.percentile(times.timings, .99)"
      ]
    },
    {
      "cell_type": "markdown",
      "metadata": {},
      "source": [
        "Or plotting them:"
      ]
    },
    {
      "cell_type": "code",
      "execution_count": 36,
      "metadata": {},
      "outputs": [
        {
          "data": {
            "image/png": "[encoded data removed]",
            "text/plain": [
              "<Figure size 640x480 with 1 Axes>"
            ]
          },
          "metadata": {},
          "output_type": "display_data"
        }
      ],
      "source": [
        "sns.histplot(times.timings);"
      ]
    },
    {
      "cell_type": "markdown",
      "metadata": {},
      "source": [
        "Let's run the same thing, 10 loops each time (`-n`):"
      ]
    },
    {
      "cell_type": "code",
      "execution_count": 13,
      "metadata": {},
      "outputs": [
        {
          "name": "stdout",
          "output_type": "stream",
          "text": [
            "486 ms ± 85.2 ms per loop (mean ± std. dev. of 7 runs, 10 loops each)\n"
          ]
        }
      ],
      "source": [
        "times = %timeit -o -n 10 time.sleep(random.random())"
      ]
    },
    {
      "cell_type": "markdown",
      "metadata": {},
      "source": [
        "The output is in fact a proper object with some potentially useful attributes as well:"
      ]
    },
    {
      "cell_type": "code",
      "execution_count": 22,
      "metadata": {},
      "outputs": [
        {
          "data": {
            "text/plain": [
              "<TimeitResult : 486 ms ± 85.2 ms per loop (mean ± std. dev. of 7 runs, 10 loops each)>"
            ]
          },
          "execution_count": 22,
          "metadata": {},
          "output_type": "execute_result"
        }
      ],
      "source": [
        "times"
      ]
    },
    {
      "cell_type": "code",
      "execution_count": 25,
      "metadata": {},
      "outputs": [
        {
          "data": {
            "text/plain": [
              "(10, 0.6338168126065284, 0.37239220049232247, 0.00032199999999993345)"
            ]
          },
          "execution_count": 25,
          "metadata": {},
          "output_type": "execute_result"
        }
      ],
      "source": [
        "times.loops, times.worst, times.best, times.compile_time"
      ]
    },
    {
      "cell_type": "markdown",
      "id": "e12e34ba-338c-4be9-8750-10b3751c208e",
      "metadata": {},
      "source": [
        "<div style=\"text-align: right; font-size: 40px; font-family: 'Inconsolata', monospace;\">\n",
        "  /Fin\n",
        "</div>\n",
        "    \n",
        "<div style=\"font-family: 'Inconsolata', monospace;\">\n",
        "Any bugs, questions, comments, suggestions? Ping me on [twitter](https://www.twitter.com/fabridamicelli) or drop me an e-mail (fabridamicelli at gmail).  \n",
        "Share this article on your favourite platform:\n",
        "</div>"
      ]
    }
  ],
  "metadata": {
    "kernelspec": {
      "display_name": "Python 3 (ipykernel)",
      "language": "python",
      "name": "python3"
    },
    "language_info": {
      "codemirror_mode": {
        "name": "ipython",
        "version": 3
      },
      "file_extension": ".py",
      "mimetype": "text/x-python",
      "name": "python",
      "nbconvert_exporter": "python",
      "pygments_lexer": "ipython3",
      "version": "3.11.9"
    }
  },
  "nbformat": 4,
  "nbformat_minor": 4
}

