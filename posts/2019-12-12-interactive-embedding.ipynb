{
 "cells": [
  {
   "cell_type": "raw",
   "metadata": {},
   "source": [
    "---\n",
    "aliases:\n",
    "- /dataviz/dimensionality-reduction/python/2019/12/12/interactive-embedding\n",
    "author: Fabrizio Damicelli\n",
    "badges: false\n",
    "branch: master\n",
    "categories:\n",
    "- python\n",
    "- dataviz\n",
    "- dimensionality-reduction\n",
    "comments: false\n",
    "date: '2019-12-12'\n",
    "description: \"Projecting data is easy. Understanding the outcome, less so. Interactive plots can help.\"\n",
    "output-file: 2019-12-12-interactive-embedding.html\n",
    "title: Does your embedding make sense?\n",
    "toc: false\n",
    "---"
   ]
  },
  {
   "cell_type": "markdown",
   "metadata": {},
   "source": [
    "It's not about the projections for the rest of 2020, I promise. Nor 2021."
   ]
  },
  {
   "cell_type": "markdown",
   "metadata": {},
   "source": [
    "TL;DR:"
   ]
  },
  {
   "cell_type": "markdown",
   "metadata": {},
   "source": [
    "{{< tweet user=fabridamicelli id=1205136026987089920 >}}"
   ]
  },
  {
   "cell_type": "markdown",
   "metadata": {},
   "source": [
    "Imagine you are working with high-dimensional data, that is, the position of each data point in that multidimensional space can be represented by a large number of other features/coordinates.\n",
    "For example, you measure a bunch of properties of a product where each item has some values associated, say, size, cost of production, price, CO2 footprint, etc.\n",
    "It could also be the case that your features are more abstract quantities.\n",
    "Instead of price or size, you could just have a bunch of numbers representing each item that don't necessarily have a human meaning, for instance a vector like this [0.11, 0.34, 0.15, 0.9].\n",
    "Hopefully, those number actually mean something (whatever we understand by \"meaning something\").\n",
    "Hopefully.\n",
    "Things start to get trickier.\n",
    "A beautiful example of that are [word-embeddings](https://en.wikipedia.org/wiki/Word_embedding), which is the thing I was originally playing with when I needed the visualization that I will show you.\n",
    "These embeddings represent each word with a vector, typically having between 300 and 1000 dimensions.\n",
    "That's what I mean by high-dimensional.\n",
    "What the coordinates actually mean in that case is highly non-trivial and you can find out about it in the above-mentioned article.\n",
    "Other datasets are even more massive in terms of the number of features though, e.g., [gene expression data](https://en.wikipedia.org/wiki/DNA_microarray) are usually orders of magnitude larger.\n",
    "\n",
    "I'd be saying nothing new if I pointed out that humans (we typically don't talk about that with other animals) have a hard time visualizing space with more than three dimensions. \n",
    "Even with [86 billion of neurons](https://en.wikipedia.org/wiki/List_of_animals_by_number_of_neurons) between their ears.\n",
    "At this point, several of you will be saying: \"but! Carl Sagan... bla, bla\"..\n",
    "In case you're too young, too old or simple had something else better to do and didn't watch that episode, just watch this short video and then get back – you won't regreat:"
   ]
  },
  {
   "cell_type": "markdown",
   "metadata": {},
   "source": [
    "{{< video https://www.youtu.be/N0WjV6MmCyM >}}"
   ]
  },
  {
   "cell_type": "markdown",
   "metadata": {},
   "source": [
    "Back to the data.\n",
    "People do all sorts of tricks to wrap their mind around those wild, high-dimensional data in spaces with really funky shapes and fundamentally counterintuitive to our daily spatial perception of the world.\n",
    "Here comes a whole zoo of [dimensionality reduction methods](https://en.wikipedia.org/wiki/Dimensionality_reduction) (e.g., PCA, tSNE) that project your data down to something your visual system can deal with. \n",
    "Of course, visualization is just one use case, but you may also want to store your data more efficiently or find outliers, or simply make life easier to your machine learning algorithm.\n",
    "We won't talk about those here.\n",
    "\n",
    "#### Why bother? *The good, the bad and the ugly* metric.\n",
    "Let's say you have your projected data in 2D, for example, after tSNE.\n",
    "First things first: you might want to check if the projection that your method just spit out makes any sense at all.\n",
    "But, why, what can go wrong?\n",
    "Well, a lot.\n",
    "For instance, your dimensionality reduction method might be using an inappropiate metric.\n",
    "In other words, the algorithm could be using a notion of distance between points in the multidimensional space which does not capture some fundamental aspect of the funky space that those data points live in.\n",
    "Thus, further operations we do with/to our data might be strongly misleading.\n",
    "That is not what we want.\n",
    "To keep it concrete, just take a look at these nice examples from the [documentation of the UMAP library](https://umap-learn.readthedocs.io/en/latest/parameters.html#metric), where the effect of using different metrics is clearly depicted."
   ]
  },
  {
   "cell_type": "markdown",
   "metadata": {},
   "source": [
    "Some libraries, like UMAP, also allow you to [document your embedding](https://umap-learn.readthedocs.io/en/latest/document_embedding.html) or [plot interactive figures](https://umap-learn.readthedocs.io/en/latest/plotting.html).\n",
    "But you might have a tougher luck this time around and just get a cloud of unintelligible points scattered when you plot the 2D-projected data.\n",
    "In that case, you might find it useful to interact with it by looking at the labels of your data.\n",
    "The labels can be anything, like *a priori* known categories the result of your favourite clustering method.\n",
    "\n",
    "That's what you came for :)\n",
    "So without further ado, on to the code."
   ]
  },
  {
   "cell_type": "code",
   "execution_count": null,
   "metadata": {},
   "outputs": [],
   "source": [
    "#| code-fold: true\n",
    "\n",
    "import altair as alt\n",
    "import pandas as pd\n",
    "from sklearn.datasets import load_digits\n",
    "from sklearn.manifold import TSNE\n",
    "from sklearn.cluster import KMeans\n",
    "\n",
    "\n",
    "def plot_interactive_embedding(\n",
    "    source=None,\n",
    "    x=None,\n",
    "    y=None,\n",
    "    target_col=None,\n",
    "    color_col=None,\n",
    "    alpha=0.9,\n",
    "    markersize=40,\n",
    "    grid=True,\n",
    "    max_n_show = 25,\n",
    "    figsize=(500, 500),\n",
    "    filename=None\n",
    "):\n",
    "    \"\"\"\n",
    "    Simple function for interactive visualization labels of a 2D embedding\n",
    "    (e.g., PCA projection).\n",
    "\n",
    "    Altair Chart is generated (as html), where one can brush over the scatter\n",
    "    plots and given labels are shown.\n",
    "    Color can be optionally mapped to values as well (e.g., to compare embedding\n",
    "    with a clustering method).\n",
    "\n",
    "    This is a quick adaptation of this example:\n",
    "    https://altair-viz.github.io/gallery/scatter_linked_table.html\n",
    "    \n",
    "    Parameters\n",
    "    ----------\n",
    "    source: pandas Dataframe\n",
    "        Data to plot.\n",
    "    x: str\n",
    "        Column name of x coordinate data.\n",
    "        This name will be also used as axis label.\n",
    "    y: str\n",
    "        Column name of y coordinate data.\n",
    "        This name will be also used as axis label.\n",
    "    target_col: str\n",
    "        Column name of target data, i.e., the labels to brush over.\n",
    "    color_col: str, optional. Default None.\n",
    "        Column name of data encoding color.\n",
    "        If None, all points will have same color.\n",
    "    alpha: float (0-1), optional. Default .9.\n",
    "        Opacity of points.\n",
    "    markersize: float, int, optional. Default 40.\n",
    "        Size of the points.\n",
    "    grid: bool, optional. Default True.\n",
    "        Grid in the background. Set to False to remove it.\n",
    "    max_n_show: int, optional. Dafault 25.\n",
    "        Maximum number of (target) labels to show when brushing over the points.\n",
    "    figsize: tuple (floats), optional. Default (500, 500).\n",
    "        Values for (width, height)\n",
    "    filename: str, optional. Default None.\n",
    "        If given, the chart will be saved.\n",
    "        The name must include extension - one of [.json, .html, .svg, .png].\n",
    "\n",
    "    Returns\n",
    "    -------\n",
    "    chart: Altair Chart\n",
    "        Instance of chart for further tweaking\n",
    "\n",
    "    \"\"\"\n",
    "    width, height = figsize\n",
    "    # Brush for selection\n",
    "    brush = alt.selection(type='interval')\n",
    "\n",
    "    # Scatter Plot\n",
    "    points = alt.Chart(\n",
    "        source,\n",
    "        width=width,\n",
    "        height=height\n",
    "    ).mark_circle(size=markersize).encode(\n",
    "        x=x,\n",
    "        y=y,\n",
    "        color=alt.value('steelblue')\n",
    "              if color_col is None\n",
    "              else alt.Color(color_col+\":N\", scale=alt.Scale(scheme='Spectral'))\n",
    "\n",
    "    ).add_selection(brush)\n",
    "\n",
    "    # Base chart for data tables\n",
    "    ranked_text = alt.Chart(source).mark_text().encode(\n",
    "        y=alt.Y('row_number:O',axis=None)\n",
    "    ).transform_window(\n",
    "        row_number='row_number()'\n",
    "    ).transform_filter(\n",
    "        brush\n",
    "    ).transform_window(\n",
    "        rank='rank(row_number)'\n",
    "    ).transform_filter(\n",
    "        alt.datum.rank < max_n_show\n",
    "    )\n",
    "\n",
    "    # Data Tables\n",
    "    text = ranked_text.encode(text=target_col+\":N\").properties(title=target_col)\n",
    "\n",
    "    chart = alt.hconcat(\n",
    "    points,\n",
    "    text,\n",
    "    ).configure_axis(grid=grid)\n",
    "\n",
    "    if filename:\n",
    "        chart.save(filename)\n",
    "\n",
    "    return chart"
   ]
  },
  {
   "cell_type": "code",
   "execution_count": null,
   "metadata": {},
   "outputs": [
    {
     "data": {
      "application/vnd.vegalite.v3+json": {
       "$schema": "https://vega.github.io/schema/vega-lite/v3.4.0.json",
       "config": {
        "axis": {
         "grid": true
        },
        "mark": {
         "tooltip": null
        },
        "view": {
         "height": 300,
         "width": 400
        }
       },
       "data": {
        "name": "data-a3250400012dbf4476b167d5e8f0bf73"
       },
       "datasets": {
        "data-a3250400012dbf4476b167d5e8f0bf73": [
         {
          "KM-label": 2,
          "digit": 0,
          "tSNE-1": -7.658763408660889,
          "tSNE-2": -44.09919357299805
         },
         {
          "KM-label": 6,
          "digit": 1,
          "tSNE-1": 10.40036678314209,
          "tSNE-2": 12.042702674865723
         },
         {
          "KM-label": 6,
          "digit": 2,
          "tSNE-1": -15.040325164794922,
          "tSNE-2": 16.193252563476562
         },
         {
          "KM-label": 9,
          "digit": 3,
          "tSNE-1": -26.618749618530273,
          "tSNE-2": -12.227883338928223
         },
         {
          "KM-label": 4,
          "digit": 4,
          "tSNE-1": 35.96341323852539,
          "tSNE-2": 17.343597412109375
         },
         {
          "KM-label": 0,
          "digit": 5,
          "tSNE-1": -17.48925018310547,
          "tSNE-2": -17.106969833374023
         },
         {
          "KM-label": 3,
          "digit": 6,
          "tSNE-1": 36.075660705566406,
          "tSNE-2": -5.0110344886779785
         },
         {
          "KM-label": 8,
          "digit": 7,
          "tSNE-1": -5.332129955291748,
          "tSNE-2": 34.96923828125
         },
         {
          "KM-label": 0,
          "digit": 8,
          "tSNE-1": -12.190516471862793,
          "tSNE-2": 4.839337348937988
         },
         {
          "KM-label": 0,
          "digit": 9,
          "tSNE-1": -12.92096996307373,
          "tSNE-2": -14.408296585083008
         },
         {
          "KM-label": 2,
          "digit": 0,
          "tSNE-1": -5.988795280456543,
          "tSNE-2": -41.185916900634766
         },
         {
          "KM-label": 7,
          "digit": 1,
          "tSNE-1": 15.834677696228027,
          "tSNE-2": 12.681666374206543
         },
         {
          "KM-label": 5,
          "digit": 2,
          "tSNE-1": -34.78279495239258,
          "tSNE-2": 17.162906646728516
         },
         {
          "KM-label": 9,
          "digit": 3,
          "tSNE-1": -31.538244247436523,
          "tSNE-2": -5.125970840454102
         },
         {
          "KM-label": 4,
          "digit": 4,
          "tSNE-1": 33.29304504394531,
          "tSNE-2": 21.427759170532227
         },
         {
          "KM-label": 1,
          "digit": 5,
          "tSNE-1": 10.544670104980469,
          "tSNE-2": -9.82630729675293
         },
         {
          "KM-label": 3,
          "digit": 6,
          "tSNE-1": 32.7945671081543,
          "tSNE-2": -8.339179039001465
         },
         {
          "KM-label": 8,
          "digit": 7,
          "tSNE-1": 1.1112182140350342,
          "tSNE-2": 38.44626998901367
         },
         {
          "KM-label": 6,
          "digit": 8,
          "tSNE-1": -3.8559937477111816,
          "tSNE-2": 8.232305526733398
         },
         {
          "KM-label": 0,
          "digit": 9,
          "tSNE-1": -19.67757225036621,
          "tSNE-2": -18.668832778930664
         },
         {
          "KM-label": 2,
          "digit": 0,
          "tSNE-1": 1.9099366664886475,
          "tSNE-2": -43.01998519897461
         },
         {
          "KM-label": 7,
          "digit": 1,
          "tSNE-1": 16.214120864868164,
          "tSNE-2": 10.300772666931152
         },
         {
          "KM-label": 5,
          "digit": 2,
          "tSNE-1": -31.478900909423828,
          "tSNE-2": 18.774717330932617
         },
         {
          "KM-label": 9,
          "digit": 3,
          "tSNE-1": -32.44810485839844,
          "tSNE-2": 0.19239290058612823
         },
         {
          "KM-label": 7,
          "digit": 4,
          "tSNE-1": 34.117557525634766,
          "tSNE-2": 17.17168426513672
         },
         {
          "KM-label": 1,
          "digit": 5,
          "tSNE-1": 14.002450942993164,
          "tSNE-2": -8.140981674194336
         },
         {
          "KM-label": 3,
          "digit": 6,
          "tSNE-1": 36.856109619140625,
          "tSNE-2": -4.838105201721191
         },
         {
          "KM-label": 7,
          "digit": 7,
          "tSNE-1": 5.531587600708008,
          "tSNE-2": 42.98244094848633
         },
         {
          "KM-label": 6,
          "digit": 8,
          "tSNE-1": -7.899322509765625,
          "tSNE-2": 8.321661949157715
         },
         {
          "KM-label": 0,
          "digit": 9,
          "tSNE-1": -19.247955322265625,
          "tSNE-2": -18.196008682250977
         },
         {
          "KM-label": 2,
          "digit": 0,
          "tSNE-1": -3.3528311252593994,
          "tSNE-2": -38.11009979248047
         },
         {
          "KM-label": 0,
          "digit": 9,
          "tSNE-1": -19.682758331298828,
          "tSNE-2": -19.105243682861328
         },
         {
          "KM-label": 1,
          "digit": 5,
          "tSNE-1": 7.362547874450684,
          "tSNE-2": -14.81050968170166
         },
         {
          "KM-label": 1,
          "digit": 5,
          "tSNE-1": 6.040187835693359,
          "tSNE-2": -9.723402976989746
         },
         {
          "KM-label": 3,
          "digit": 6,
          "tSNE-1": 32.45332336425781,
          "tSNE-2": -7.082668304443359
         },
         {
          "KM-label": 1,
          "digit": 5,
          "tSNE-1": 5.97613525390625,
          "tSNE-2": -9.70257568359375
         },
         {
          "KM-label": 2,
          "digit": 0,
          "tSNE-1": 1.5297843217849731,
          "tSNE-2": -40.45563888549805
         },
         {
          "KM-label": 0,
          "digit": 9,
          "tSNE-1": -20.315147399902344,
          "tSNE-2": -16.735546112060547
         },
         {
          "KM-label": 6,
          "digit": 8,
          "tSNE-1": -1.0844391584396362,
          "tSNE-2": 7.018338203430176
         },
         {
          "KM-label": 0,
          "digit": 9,
          "tSNE-1": -11.772832870483398,
          "tSNE-2": -24.63510513305664
         },
         {
          "KM-label": 6,
          "digit": 8,
          "tSNE-1": -7.1776323318481445,
          "tSNE-2": 8.514154434204102
         },
         {
          "KM-label": 4,
          "digit": 4,
          "tSNE-1": 33.449684143066406,
          "tSNE-2": 22.546926498413086
         },
         {
          "KM-label": 7,
          "digit": 1,
          "tSNE-1": 14.761165618896484,
          "tSNE-2": 11.687128067016602
         },
         {
          "KM-label": 8,
          "digit": 7,
          "tSNE-1": 2.5367021560668945,
          "tSNE-2": 40.53279113769531
         },
         {
          "KM-label": 8,
          "digit": 7,
          "tSNE-1": -5.581351280212402,
          "tSNE-2": 35.684295654296875
         },
         {
          "KM-label": 9,
          "digit": 3,
          "tSNE-1": -33.93936538696289,
          "tSNE-2": -4.430641174316406
         },
         {
          "KM-label": 1,
          "digit": 5,
          "tSNE-1": 6.056801795959473,
          "tSNE-2": -8.719673156738281
         },
         {
          "KM-label": 7,
          "digit": 1,
          "tSNE-1": 14.307668685913086,
          "tSNE-2": 10.296286582946777
         },
         {
          "KM-label": 2,
          "digit": 0,
          "tSNE-1": -4.952320098876953,
          "tSNE-2": -45.53895950317383
         },
         {
          "KM-label": 2,
          "digit": 0,
          "tSNE-1": -3.0670177936553955,
          "tSNE-2": -47.746707916259766
         },
         {
          "KM-label": 6,
          "digit": 2,
          "tSNE-1": -16.148481369018555,
          "tSNE-2": 16.606674194335938
         },
         {
          "KM-label": 6,
          "digit": 2,
          "tSNE-1": -14.935892105102539,
          "tSNE-2": 16.949216842651367
         },
         {
          "KM-label": 8,
          "digit": 7,
          "tSNE-1": 3.235036611557007,
          "tSNE-2": 41.027462005615234
         },
         {
          "KM-label": 6,
          "digit": 8,
          "tSNE-1": -8.018379211425781,
          "tSNE-2": 10.304649353027344
         },
         {
          "KM-label": 8,
          "digit": 2,
          "tSNE-1": -14.769001960754395,
          "tSNE-2": 17.040315628051758
         },
         {
          "KM-label": 2,
          "digit": 0,
          "tSNE-1": 2.791501760482788,
          "tSNE-2": -43.200130462646484
         },
         {
          "KM-label": 7,
          "digit": 1,
          "tSNE-1": 15.052095413208008,
          "tSNE-2": 10.430829048156738
         },
         {
          "KM-label": 6,
          "digit": 2,
          "tSNE-1": -14.992376327514648,
          "tSNE-2": 16.35149574279785
         },
         {
          "KM-label": 3,
          "digit": 6,
          "tSNE-1": 36.985286712646484,
          "tSNE-2": -5.789446830749512
         },
         {
          "KM-label": 9,
          "digit": 3,
          "tSNE-1": -30.447494506835938,
          "tSNE-2": -3.0631847381591797
         },
         {
          "KM-label": 9,
          "digit": 3,
          "tSNE-1": -33.684688568115234,
          "tSNE-2": -4.075541973114014
         },
         {
          "KM-label": 8,
          "digit": 7,
          "tSNE-1": 1.5048431158065796,
          "tSNE-2": 38.940895080566406
         },
         {
          "KM-label": 9,
          "digit": 3,
          "tSNE-1": -33.85482406616211,
          "tSNE-2": -3.4257702827453613
         },
         {
          "KM-label": 9,
          "digit": 3,
          "tSNE-1": -32.009456634521484,
          "tSNE-2": -2.3363819122314453
         },
         {
          "KM-label": 4,
          "digit": 4,
          "tSNE-1": 35.652652740478516,
          "tSNE-2": 20.2924747467041
         },
         {
          "KM-label": 3,
          "digit": 6,
          "tSNE-1": 35.574256896972656,
          "tSNE-2": -10.088861465454102
         },
         {
          "KM-label": 3,
          "digit": 6,
          "tSNE-1": 36.44315719604492,
          "tSNE-2": -5.609316825866699
         },
         {
          "KM-label": 3,
          "digit": 6,
          "tSNE-1": 42.79182052612305,
          "tSNE-2": -12.156049728393555
         },
         {
          "KM-label": 4,
          "digit": 4,
          "tSNE-1": 30.549793243408203,
          "tSNE-2": 24.89399528503418
         },
         {
          "KM-label": 8,
          "digit": 9,
          "tSNE-1": -4.773375511169434,
          "tSNE-2": 26.199687957763672
         },
         {
          "KM-label": 7,
          "digit": 1,
          "tSNE-1": 13.739950180053711,
          "tSNE-2": 9.659087181091309
         },
         {
          "KM-label": 1,
          "digit": 5,
          "tSNE-1": 7.899658679962158,
          "tSNE-2": -13.945662498474121
         },
         {
          "KM-label": 2,
          "digit": 0,
          "tSNE-1": 2.0457026958465576,
          "tSNE-2": -44.41563415527344
         },
         {
          "KM-label": 0,
          "digit": 9,
          "tSNE-1": -18.2009220123291,
          "tSNE-2": -17.777149200439453
         },
         {
          "KM-label": 1,
          "digit": 5,
          "tSNE-1": 11.522568702697754,
          "tSNE-2": -15.579792022705078
         },
         {
          "KM-label": 7,
          "digit": 2,
          "tSNE-1": -14.616791725158691,
          "tSNE-2": 17.125944137573242
         },
         {
          "KM-label": 6,
          "digit": 8,
          "tSNE-1": -3.6881513595581055,
          "tSNE-2": 5.093958854675293
         },
         {
          "KM-label": 7,
          "digit": 2,
          "tSNE-1": -14.328307151794434,
          "tSNE-2": 17.354839324951172
         },
         {
          "KM-label": 2,
          "digit": 0,
          "tSNE-1": -3.3568413257598877,
          "tSNE-2": -50.149288177490234
         },
         {
          "KM-label": 2,
          "digit": 0,
          "tSNE-1": -2.0599706172943115,
          "tSNE-2": -48.909725189208984
         },
         {
          "KM-label": 7,
          "digit": 1,
          "tSNE-1": 15.141077041625977,
          "tSNE-2": 10.170162200927734
         },
         {
          "KM-label": 8,
          "digit": 7,
          "tSNE-1": -3.1520683765411377,
          "tSNE-2": 38.04311752319336
         },
         {
          "KM-label": 3,
          "digit": 6,
          "tSNE-1": 36.423126220703125,
          "tSNE-2": -5.248920917510986
         },
         {
          "KM-label": 9,
          "digit": 3,
          "tSNE-1": -33.49496078491211,
          "tSNE-2": -1.5579063892364502
         },
         {
          "KM-label": 5,
          "digit": 2,
          "tSNE-1": -33.184715270996094,
          "tSNE-2": 24.81123924255371
         },
         {
          "KM-label": 7,
          "digit": 1,
          "tSNE-1": 13.37056827545166,
          "tSNE-2": 11.571450233459473
         },
         {
          "KM-label": 8,
          "digit": 7,
          "tSNE-1": 6.197405815124512,
          "tSNE-2": 41.01852035522461
         },
         {
          "KM-label": 4,
          "digit": 4,
          "tSNE-1": 27.325658798217773,
          "tSNE-2": 25.56157684326172
         },
         {
          "KM-label": 3,
          "digit": 6,
          "tSNE-1": 34.77204132080078,
          "tSNE-2": -5.953566074371338
         },
         {
          "KM-label": 9,
          "digit": 3,
          "tSNE-1": -33.78736877441406,
          "tSNE-2": -2.9526782035827637
         },
         {
          "KM-label": 7,
          "digit": 1,
          "tSNE-1": 14.681803703308105,
          "tSNE-2": 11.837191581726074
         },
         {
          "KM-label": 9,
          "digit": 3,
          "tSNE-1": -31.632265090942383,
          "tSNE-2": -1.6064426898956299
         },
         {
          "KM-label": 9,
          "digit": 9,
          "tSNE-1": -9.859739303588867,
          "tSNE-2": -24.851898193359375
         },
         {
          "KM-label": 6,
          "digit": 1,
          "tSNE-1": 10.560249328613281,
          "tSNE-2": 11.916752815246582
         },
         {
          "KM-label": 8,
          "digit": 7,
          "tSNE-1": 0.5746281147003174,
          "tSNE-2": 36.48810577392578
         },
         {
          "KM-label": 6,
          "digit": 6,
          "tSNE-1": 36.16116714477539,
          "tSNE-2": -3.3848140239715576
         },
         {
          "KM-label": 6,
          "digit": 8,
          "tSNE-1": -2.2803664207458496,
          "tSNE-2": 7.109921455383301
         },
         {
          "KM-label": 4,
          "digit": 4,
          "tSNE-1": 34.3574104309082,
          "tSNE-2": 17.84911346435547
         },
         {
          "KM-label": 9,
          "digit": 3,
          "tSNE-1": -32.53657531738281,
          "tSNE-2": -1.855674386024475
         },
         {
          "KM-label": 6,
          "digit": 1,
          "tSNE-1": 4.925320148468018,
          "tSNE-2": 12.401277542114258
         },
         {
          "KM-label": 4,
          "digit": 4,
          "tSNE-1": 34.6800651550293,
          "tSNE-2": 17.722352981567383
         },
         {
          "KM-label": 2,
          "digit": 0,
          "tSNE-1": 2.647606134414673,
          "tSNE-2": -45.73934555053711
         },
         {
          "KM-label": 1,
          "digit": 5,
          "tSNE-1": 11.573501586914062,
          "tSNE-2": -14.55296516418457
         },
         {
          "KM-label": 8,
          "digit": 3,
          "tSNE-1": -24.670997619628906,
          "tSNE-2": 2.5849132537841797
         },
         {
          "KM-label": 3,
          "digit": 6,
          "tSNE-1": 38.724098205566406,
          "tSNE-2": -4.685095310211182
         },
         {
          "KM-label": 0,
          "digit": 9,
          "tSNE-1": -18.627946853637695,
          "tSNE-2": -19.713464736938477
         },
         {
          "KM-label": 3,
          "digit": 6,
          "tSNE-1": 35.05093765258789,
          "tSNE-2": -3.794100522994995
         },
         {
          "KM-label": 7,
          "digit": 1,
          "tSNE-1": 16.914173126220703,
          "tSNE-2": 13.022476196289062
         },
         {
          "KM-label": 8,
          "digit": 7,
          "tSNE-1": 2.1436150074005127,
          "tSNE-2": 39.72904968261719
         },
         {
          "KM-label": 1,
          "digit": 5,
          "tSNE-1": 12.500057220458984,
          "tSNE-2": -8.854473114013672
         },
         {
          "KM-label": 4,
          "digit": 4,
          "tSNE-1": 30.854108810424805,
          "tSNE-2": 26.346738815307617
         },
         {
          "KM-label": 4,
          "digit": 4,
          "tSNE-1": 31.033008575439453,
          "tSNE-2": 25.034847259521484
         },
         {
          "KM-label": 8,
          "digit": 7,
          "tSNE-1": -1.7862352132797241,
          "tSNE-2": 38.655696868896484
         },
         {
          "KM-label": 5,
          "digit": 2,
          "tSNE-1": -29.310165405273438,
          "tSNE-2": 18.61326026916504
         },
         {
          "KM-label": 6,
          "digit": 8,
          "tSNE-1": -5.781047821044922,
          "tSNE-2": 5.246656894683838
         },
         {
          "KM-label": 6,
          "digit": 2,
          "tSNE-1": -15.720989227294922,
          "tSNE-2": 16.74978256225586
         },
         {
          "KM-label": 6,
          "digit": 2,
          "tSNE-1": -16.386873245239258,
          "tSNE-2": 16.648693084716797
         },
         {
          "KM-label": 1,
          "digit": 5,
          "tSNE-1": 10.408792495727539,
          "tSNE-2": -7.116568565368652
         },
         {
          "KM-label": 8,
          "digit": 7,
          "tSNE-1": 0.016200095415115356,
          "tSNE-2": 39.72508239746094
         },
         {
          "KM-label": 0,
          "digit": 9,
          "tSNE-1": -19.056156158447266,
          "tSNE-2": -20.738162994384766
         },
         {
          "KM-label": 1,
          "digit": 5,
          "tSNE-1": 5.482658386230469,
          "tSNE-2": -9.73491096496582
         },
         {
          "KM-label": 4,
          "digit": 4,
          "tSNE-1": 27.532730102539062,
          "tSNE-2": 25.558149337768555
         },
         {
          "KM-label": 6,
          "digit": 8,
          "tSNE-1": -6.142838478088379,
          "tSNE-2": 10.135026931762695
         },
         {
          "KM-label": 6,
          "digit": 8,
          "tSNE-1": -9.887351989746094,
          "tSNE-2": 9.670948028564453
         },
         {
          "KM-label": 4,
          "digit": 4,
          "tSNE-1": 33.4856071472168,
          "tSNE-2": 22.89141845703125
         },
         {
          "KM-label": 0,
          "digit": 9,
          "tSNE-1": -15.369470596313477,
          "tSNE-2": -14.68237590789795
         },
         {
          "KM-label": 2,
          "digit": 0,
          "tSNE-1": 2.3466956615448,
          "tSNE-2": -44.22645950317383
         },
         {
          "KM-label": 6,
          "digit": 8,
          "tSNE-1": -0.7129088640213013,
          "tSNE-2": 7.137931823730469
         },
         {
          "KM-label": 0,
          "digit": 9,
          "tSNE-1": -8.438797950744629,
          "tSNE-2": -23.68714141845703
         },
         {
          "KM-label": 6,
          "digit": 8,
          "tSNE-1": 6.048608303070068,
          "tSNE-2": 11.786420822143555
         },
         {
          "KM-label": 2,
          "digit": 0,
          "tSNE-1": -3.716372489929199,
          "tSNE-2": -46.45014953613281
         },
         {
          "KM-label": 7,
          "digit": 1,
          "tSNE-1": 19.69882583618164,
          "tSNE-2": 11.171010971069336
         },
         {
          "KM-label": 5,
          "digit": 2,
          "tSNE-1": -31.34481430053711,
          "tSNE-2": 25.484548568725586
         },
         {
          "KM-label": 9,
          "digit": 3,
          "tSNE-1": -32.923336029052734,
          "tSNE-2": -0.9051231145858765
         },
         {
          "KM-label": 4,
          "digit": 4,
          "tSNE-1": 30.23574447631836,
          "tSNE-2": 11.931981086730957
         },
         {
          "KM-label": 1,
          "digit": 5,
          "tSNE-1": 11.624069213867188,
          "tSNE-2": -6.2944655418396
         },
         {
          "KM-label": 3,
          "digit": 6,
          "tSNE-1": 39.28818893432617,
          "tSNE-2": -15.344541549682617
         },
         {
          "KM-label": 8,
          "digit": 7,
          "tSNE-1": -3.270354986190796,
          "tSNE-2": 41.633201599121094
         },
         {
          "KM-label": 6,
          "digit": 8,
          "tSNE-1": -8.735204696655273,
          "tSNE-2": 7.024291038513184
         },
         {
          "KM-label": 0,
          "digit": 9,
          "tSNE-1": -17.3102970123291,
          "tSNE-2": -19.716928482055664
         },
         {
          "KM-label": 2,
          "digit": 0,
          "tSNE-1": 2.118626832962036,
          "tSNE-2": -40.032066345214844
         },
         {
          "KM-label": 7,
          "digit": 1,
          "tSNE-1": 17.47230339050293,
          "tSNE-2": 12.718536376953125
         },
         {
          "KM-label": 5,
          "digit": 2,
          "tSNE-1": -28.747644424438477,
          "tSNE-2": 25.52048683166504
         },
         {
          "KM-label": 9,
          "digit": 3,
          "tSNE-1": -34.3001708984375,
          "tSNE-2": -3.2837207317352295
         },
         {
          "KM-label": 4,
          "digit": 4,
          "tSNE-1": 31.140262603759766,
          "tSNE-2": 11.604541778564453
         },
         {
          "KM-label": 1,
          "digit": 5,
          "tSNE-1": 9.190476417541504,
          "tSNE-2": -8.42287540435791
         },
         {
          "KM-label": 3,
          "digit": 6,
          "tSNE-1": 31.095796585083008,
          "tSNE-2": -11.704166412353516
         },
         {
          "KM-label": 8,
          "digit": 7,
          "tSNE-1": -3.72994065284729,
          "tSNE-2": 41.96919631958008
         },
         {
          "KM-label": 6,
          "digit": 8,
          "tSNE-1": -8.454755783081055,
          "tSNE-2": 4.313974857330322
         },
         {
          "KM-label": 0,
          "digit": 9,
          "tSNE-1": -16.583271026611328,
          "tSNE-2": -17.62772560119629
         },
         {
          "KM-label": 2,
          "digit": 0,
          "tSNE-1": 2.6595613956451416,
          "tSNE-2": -46.501277923583984
         },
         {
          "KM-label": 7,
          "digit": 1,
          "tSNE-1": 18.519166946411133,
          "tSNE-2": 12.807426452636719
         },
         {
          "KM-label": 5,
          "digit": 2,
          "tSNE-1": -26.2828311920166,
          "tSNE-2": 18.13947105407715
         },
         {
          "KM-label": 9,
          "digit": 3,
          "tSNE-1": -32.78193283081055,
          "tSNE-2": -0.4472233057022095
         },
         {
          "KM-label": 4,
          "digit": 4,
          "tSNE-1": 32.011695861816406,
          "tSNE-2": 13.027593612670898
         },
         {
          "KM-label": 1,
          "digit": 5,
          "tSNE-1": 14.241485595703125,
          "tSNE-2": -3.5964088439941406
         },
         {
          "KM-label": 3,
          "digit": 6,
          "tSNE-1": 35.14564895629883,
          "tSNE-2": -6.05633020401001
         },
         {
          "KM-label": 8,
          "digit": 7,
          "tSNE-1": -6.3428192138671875,
          "tSNE-2": 41.42490005493164
         },
         {
          "KM-label": 6,
          "digit": 8,
          "tSNE-1": -7.346465110778809,
          "tSNE-2": 11.487878799438477
         },
         {
          "KM-label": 0,
          "digit": 9,
          "tSNE-1": -16.91713523864746,
          "tSNE-2": -18.91659164428711
         },
         {
          "KM-label": 2,
          "digit": 0,
          "tSNE-1": 0.6338148713111877,
          "tSNE-2": -40.20550537109375
         },
         {
          "KM-label": 9,
          "digit": 9,
          "tSNE-1": -17.655736923217773,
          "tSNE-2": -18.853748321533203
         },
         {
          "KM-label": 1,
          "digit": 5,
          "tSNE-1": 10.685025215148926,
          "tSNE-2": -7.66845703125
         },
         {
          "KM-label": 1,
          "digit": 5,
          "tSNE-1": 13.38712215423584,
          "tSNE-2": -4.165567398071289
         },
         {
          "KM-label": 3,
          "digit": 6,
          "tSNE-1": 42.184791564941406,
          "tSNE-2": -13.129044532775879
         },
         {
          "KM-label": 1,
          "digit": 5,
          "tSNE-1": 12.09389877319336,
          "tSNE-2": -5.0833740234375
         },
         {
          "KM-label": 2,
          "digit": 0,
          "tSNE-1": -2.180699110031128,
          "tSNE-2": -41.054039001464844
         },
         {
          "KM-label": 0,
          "digit": 9,
          "tSNE-1": -18.337255477905273,
          "tSNE-2": -22.246673583984375
         },
         {
          "KM-label": 6,
          "digit": 8,
          "tSNE-1": -8.572272300720215,
          "tSNE-2": 7.172547340393066
         },
         {
          "KM-label": 0,
          "digit": 9,
          "tSNE-1": -17.531538009643555,
          "tSNE-2": -20.01910972595215
         },
         {
          "KM-label": 6,
          "digit": 8,
          "tSNE-1": -5.4540581703186035,
          "tSNE-2": 13.434550285339355
         },
         {
          "KM-label": 4,
          "digit": 4,
          "tSNE-1": 32.287330627441406,
          "tSNE-2": 11.189178466796875
         },
         {
          "KM-label": 7,
          "digit": 1,
          "tSNE-1": 17.60940933227539,
          "tSNE-2": 11.222441673278809
         },
         {
          "KM-label": 8,
          "digit": 7,
          "tSNE-1": 2.920870780944824,
          "tSNE-2": 41.901222229003906
         },
         {
          "KM-label": 8,
          "digit": 7,
          "tSNE-1": 4.362584114074707,
          "tSNE-2": 37.69855499267578
         },
         {
          "KM-label": 9,
          "digit": 3,
          "tSNE-1": -30.812501907348633,
          "tSNE-2": -2.449604034423828
         },
         {
          "KM-label": 1,
          "digit": 5,
          "tSNE-1": 11.42131233215332,
          "tSNE-2": -7.7512993812561035
         },
         {
          "KM-label": 7,
          "digit": 1,
          "tSNE-1": 18.657411575317383,
          "tSNE-2": 12.339676856994629
         },
         {
          "KM-label": 2,
          "digit": 0,
          "tSNE-1": -2.1691465377807617,
          "tSNE-2": -49.71977615356445
         },
         {
          "KM-label": 2,
          "digit": 0,
          "tSNE-1": 3.3914732933044434,
          "tSNE-2": -43.48056411743164
         },
         {
          "KM-label": 5,
          "digit": 2,
          "tSNE-1": -26.7405948638916,
          "tSNE-2": 25.114540100097656
         },
         {
          "KM-label": 5,
          "digit": 2,
          "tSNE-1": -28.47989273071289,
          "tSNE-2": 25.04738426208496
         },
         {
          "KM-label": 8,
          "digit": 7,
          "tSNE-1": -3.6592319011688232,
          "tSNE-2": 40.56287384033203
         },
         {
          "KM-label": 6,
          "digit": 8,
          "tSNE-1": -10.00377368927002,
          "tSNE-2": 8.49474811553955
         },
         {
          "KM-label": 5,
          "digit": 2,
          "tSNE-1": -34.07132339477539,
          "tSNE-2": 26.60049819946289
         },
         {
          "KM-label": 2,
          "digit": 0,
          "tSNE-1": 2.4808928966522217,
          "tSNE-2": -44.194908142089844
         },
         {
          "KM-label": 7,
          "digit": 1,
          "tSNE-1": 17.229656219482422,
          "tSNE-2": 10.466195106506348
         },
         {
          "KM-label": 5,
          "digit": 2,
          "tSNE-1": -35.454586029052734,
          "tSNE-2": 24.11358642578125
         },
         {
          "KM-label": 3,
          "digit": 6,
          "tSNE-1": 41.57340621948242,
          "tSNE-2": -11.059947967529297
         },
         {
          "KM-label": 9,
          "digit": 3,
          "tSNE-1": -34.61823654174805,
          "tSNE-2": -3.313926935195923
         },
         {
          "KM-label": 9,
          "digit": 3,
          "tSNE-1": -34.251731872558594,
          "tSNE-2": -2.2130799293518066
         },
         {
          "KM-label": 8,
          "digit": 7,
          "tSNE-1": -7.778835773468018,
          "tSNE-2": 42.65284729003906
         },
         {
          "KM-label": 9,
          "digit": 3,
          "tSNE-1": -33.61614227294922,
          "tSNE-2": 0.18568788468837738
         },
         {
          "KM-label": 9,
          "digit": 3,
          "tSNE-1": -33.20975112915039,
          "tSNE-2": -2.8971879482269287
         },
         {
          "KM-label": 4,
          "digit": 4,
          "tSNE-1": 33.73974609375,
          "tSNE-2": 12.733402252197266
         },
         {
          "KM-label": 3,
          "digit": 6,
          "tSNE-1": 34.82853698730469,
          "tSNE-2": -6.5955023765563965
         },
         {
          "KM-label": 3,
          "digit": 6,
          "tSNE-1": 41.52560806274414,
          "tSNE-2": -11.13054370880127
         },
         {
          "KM-label": 3,
          "digit": 6,
          "tSNE-1": 41.4676513671875,
          "tSNE-2": -12.864263534545898
         },
         {
          "KM-label": 6,
          "digit": 4,
          "tSNE-1": 33.6395149230957,
          "tSNE-2": 11.004050254821777
         },
         {
          "KM-label": 0,
          "digit": 9,
          "tSNE-1": -15.750402450561523,
          "tSNE-2": -17.514636993408203
         },
         {
          "KM-label": 7,
          "digit": 1,
          "tSNE-1": 15.93359661102295,
          "tSNE-2": 13.445887565612793
         },
         {
          "KM-label": 1,
          "digit": 5,
          "tSNE-1": 11.820924758911133,
          "tSNE-2": -7.1306352615356445
         },
         {
          "KM-label": 2,
          "digit": 0,
          "tSNE-1": 1.0965180397033691,
          "tSNE-2": -46.44339370727539
         },
         {
          "KM-label": 0,
          "digit": 9,
          "tSNE-1": -14.002795219421387,
          "tSNE-2": -16.816251754760742
         },
         {
          "KM-label": 1,
          "digit": 5,
          "tSNE-1": 13.80959415435791,
          "tSNE-2": -3.4678895473480225
         },
         {
          "KM-label": 5,
          "digit": 2,
          "tSNE-1": -25.884294509887695,
          "tSNE-2": 18.266939163208008
         },
         {
          "KM-label": 6,
          "digit": 8,
          "tSNE-1": -5.499807357788086,
          "tSNE-2": 13.31265926361084
         },
         {
          "KM-label": 5,
          "digit": 2,
          "tSNE-1": -27.54512596130371,
          "tSNE-2": 24.98090934753418
         },
         {
          "KM-label": 2,
          "digit": 0,
          "tSNE-1": 2.7289276123046875,
          "tSNE-2": -42.12590026855469
         },
         {
          "KM-label": 2,
          "digit": 0,
          "tSNE-1": 2.7363412380218506,
          "tSNE-2": -45.714298248291016
         },
         {
          "KM-label": 7,
          "digit": 1,
          "tSNE-1": 17.673452377319336,
          "tSNE-2": 11.412959098815918
         },
         {
          "KM-label": 8,
          "digit": 7,
          "tSNE-1": -9.373852729797363,
          "tSNE-2": 36.04436111450195
         },
         {
          "KM-label": 3,
          "digit": 6,
          "tSNE-1": 42.69918441772461,
          "tSNE-2": -11.844232559204102
         },
         {
          "KM-label": 9,
          "digit": 3,
          "tSNE-1": -33.492637634277344,
          "tSNE-2": -1.6010627746582031
         },
         {
          "KM-label": 5,
          "digit": 2,
          "tSNE-1": -29.060518264770508,
          "tSNE-2": 25.40849494934082
         },
         {
          "KM-label": 7,
          "digit": 1,
          "tSNE-1": 15.764599800109863,
          "tSNE-2": 14.212300300598145
         },
         {
          "KM-label": 8,
          "digit": 7,
          "tSNE-1": -7.262503623962402,
          "tSNE-2": 42.439273834228516
         },
         {
          "KM-label": 9,
          "digit": 3,
          "tSNE-1": -33.804752349853516,
          "tSNE-2": -1.5951341390609741
         },
         {
          "KM-label": 7,
          "digit": 1,
          "tSNE-1": 18.491674423217773,
          "tSNE-2": 12.879448890686035
         },
         {
          "KM-label": 9,
          "digit": 3,
          "tSNE-1": -32.913509368896484,
          "tSNE-2": -2.423332691192627
         },
         {
          "KM-label": 0,
          "digit": 9,
          "tSNE-1": -12.918863296508789,
          "tSNE-2": -16.866928100585938
         },
         {
          "KM-label": 7,
          "digit": 1,
          "tSNE-1": 16.374813079833984,
          "tSNE-2": 11.299260139465332
         },
         {
          "KM-label": 8,
          "digit": 7,
          "tSNE-1": 0.8421667814254761,
          "tSNE-2": 40.895179748535156
         },
         {
          "KM-label": 3,
          "digit": 6,
          "tSNE-1": 33.408538818359375,
          "tSNE-2": -7.483194351196289
         },
         {
          "KM-label": 6,
          "digit": 8,
          "tSNE-1": -11.102465629577637,
          "tSNE-2": 11.055278778076172
         },
         {
          "KM-label": 4,
          "digit": 4,
          "tSNE-1": 31.770116806030273,
          "tSNE-2": 11.628203392028809
         },
         {
          "KM-label": 9,
          "digit": 3,
          "tSNE-1": -33.4868278503418,
          "tSNE-2": -0.19718262553215027
         },
         {
          "KM-label": 7,
          "digit": 1,
          "tSNE-1": 15.837730407714844,
          "tSNE-2": 12.711713790893555
         },
         {
          "KM-label": 4,
          "digit": 4,
          "tSNE-1": 31.79453468322754,
          "tSNE-2": 11.970443725585938
         },
         {
          "KM-label": 2,
          "digit": 0,
          "tSNE-1": -1.4667731523513794,
          "tSNE-2": -48.70841979980469
         },
         {
          "KM-label": 1,
          "digit": 5,
          "tSNE-1": 11.515069007873535,
          "tSNE-2": -5.240716457366943
         },
         {
          "KM-label": 8,
          "digit": 3,
          "tSNE-1": -32.39501953125,
          "tSNE-2": 0.6594436764717102
         },
         {
          "KM-label": 3,
          "digit": 6,
          "tSNE-1": 33.09197998046875,
          "tSNE-2": -14.98495101928711
         },
         {
          "KM-label": 0,
          "digit": 9,
          "tSNE-1": -17.1690673828125,
          "tSNE-2": -18.12655258178711
         },
         {
          "KM-label": 3,
          "digit": 6,
          "tSNE-1": 38.50325012207031,
          "tSNE-2": -17.637357711791992
         },
         {
          "KM-label": 7,
          "digit": 1,
          "tSNE-1": 16.656692504882812,
          "tSNE-2": 11.632189750671387
         },
         {
          "KM-label": 8,
          "digit": 7,
          "tSNE-1": -6.010741233825684,
          "tSNE-2": 40.47118377685547
         },
         {
          "KM-label": 1,
          "digit": 5,
          "tSNE-1": 12.053058624267578,
          "tSNE-2": -5.8276262283325195
         },
         {
          "KM-label": 6,
          "digit": 4,
          "tSNE-1": 33.67051696777344,
          "tSNE-2": 11.111420631408691
         },
         {
          "KM-label": 4,
          "digit": 4,
          "tSNE-1": 31.75193214416504,
          "tSNE-2": 12.562349319458008
         },
         {
          "KM-label": 8,
          "digit": 7,
          "tSNE-1": -6.808614253997803,
          "tSNE-2": 42.42841720581055
         },
         {
          "KM-label": 5,
          "digit": 2,
          "tSNE-1": -34.20949935913086,
          "tSNE-2": 26.90909767150879
         },
         {
          "KM-label": 6,
          "digit": 8,
          "tSNE-1": -6.895106792449951,
          "tSNE-2": 10.941493034362793
         },
         {
          "KM-label": 5,
          "digit": 2,
          "tSNE-1": -33.898311614990234,
          "tSNE-2": 27.085309982299805
         },
         {
          "KM-label": 5,
          "digit": 2,
          "tSNE-1": -26.54664421081543,
          "tSNE-2": 25.3820743560791
         },
         {
          "KM-label": 1,
          "digit": 5,
          "tSNE-1": 11.889720916748047,
          "tSNE-2": -5.11657190322876
         },
         {
          "KM-label": 1,
          "digit": 5,
          "tSNE-1": 11.200039863586426,
          "tSNE-2": -6.047177791595459
         },
         {
          "KM-label": 7,
          "digit": 4,
          "tSNE-1": 31.191625595092773,
          "tSNE-2": 13.202527046203613
         },
         {
          "KM-label": 6,
          "digit": 8,
          "tSNE-1": -9.16341495513916,
          "tSNE-2": 9.282055854797363
         },
         {
          "KM-label": 6,
          "digit": 8,
          "tSNE-1": -9.934319496154785,
          "tSNE-2": 9.397512435913086
         },
         {
          "KM-label": 4,
          "digit": 4,
          "tSNE-1": 31.21168327331543,
          "tSNE-2": 11.714719772338867
         },
         {
          "KM-label": 0,
          "digit": 9,
          "tSNE-1": -12.231985092163086,
          "tSNE-2": -14.234297752380371
         },
         {
          "KM-label": 2,
          "digit": 0,
          "tSNE-1": 1.552955985069275,
          "tSNE-2": -45.475948333740234
         },
         {
          "KM-label": 6,
          "digit": 8,
          "tSNE-1": -10.977527618408203,
          "tSNE-2": 11.010788917541504
         },
         {
          "KM-label": 0,
          "digit": 9,
          "tSNE-1": -13.239160537719727,
          "tSNE-2": -15.665517807006836
         },
         {
          "KM-label": 6,
          "digit": 8,
          "tSNE-1": -6.140969276428223,
          "tSNE-2": 5.172734260559082
         },
         {
          "KM-label": 2,
          "digit": 0,
          "tSNE-1": -6.818724155426025,
          "tSNE-2": -41.17561721801758
         },
         {
          "KM-label": 6,
          "digit": 1,
          "tSNE-1": 2.7678439617156982,
          "tSNE-2": 14.363433837890625
         },
         {
          "KM-label": 5,
          "digit": 2,
          "tSNE-1": -30.75426483154297,
          "tSNE-2": 22.014530181884766
         },
         {
          "KM-label": 9,
          "digit": 3,
          "tSNE-1": -26.19965362548828,
          "tSNE-2": -12.2205810546875
         },
         {
          "KM-label": 4,
          "digit": 4,
          "tSNE-1": 31.201156616210938,
          "tSNE-2": 25.103343963623047
         },
         {
          "KM-label": 0,
          "digit": 5,
          "tSNE-1": 4.241721153259277,
          "tSNE-2": -18.345396041870117
         },
         {
          "KM-label": 3,
          "digit": 6,
          "tSNE-1": 39.10378646850586,
          "tSNE-2": -16.214204788208008
         },
         {
          "KM-label": 8,
          "digit": 7,
          "tSNE-1": 1.7252631187438965,
          "tSNE-2": 42.56377029418945
         },
         {
          "KM-label": 0,
          "digit": 8,
          "tSNE-1": -11.797139167785645,
          "tSNE-2": -0.5742581486701965
         },
         {
          "KM-label": 1,
          "digit": 9,
          "tSNE-1": 9.447356224060059,
          "tSNE-2": 28.49833106994629
         },
         {
          "KM-label": 2,
          "digit": 0,
          "tSNE-1": 0.06496740877628326,
          "tSNE-2": -47.937259674072266
         },
         {
          "KM-label": 6,
          "digit": 1,
          "tSNE-1": 12.412200927734375,
          "tSNE-2": 14.886425971984863
         },
         {
          "KM-label": 5,
          "digit": 2,
          "tSNE-1": -31.028419494628906,
          "tSNE-2": 22.148963928222656
         },
         {
          "KM-label": 9,
          "digit": 3,
          "tSNE-1": -30.630367279052734,
          "tSNE-2": -8.537649154663086
         },
         {
          "KM-label": 4,
          "digit": 4,
          "tSNE-1": 32.742088317871094,
          "tSNE-2": 24.63421630859375
         },
         {
          "KM-label": 1,
          "digit": 5,
          "tSNE-1": 9.180431365966797,
          "tSNE-2": -7.4850640296936035
         },
         {
          "KM-label": 3,
          "digit": 6,
          "tSNE-1": 38.36272430419922,
          "tSNE-2": -14.33020305633545
         },
         {
          "KM-label": 8,
          "digit": 7,
          "tSNE-1": -4.377406120300293,
          "tSNE-2": 38.773834228515625
         },
         {
          "KM-label": 6,
          "digit": 8,
          "tSNE-1": -3.946335554122925,
          "tSNE-2": 2.9336981773376465
         },
         {
          "KM-label": 8,
          "digit": 9,
          "tSNE-1": 8.601245880126953,
          "tSNE-2": 27.656259536743164
         },
         {
          "KM-label": 2,
          "digit": 0,
          "tSNE-1": -6.025459289550781,
          "tSNE-2": -43.3089485168457
         },
         {
          "KM-label": 6,
          "digit": 1,
          "tSNE-1": 0.1070493683218956,
          "tSNE-2": 12.742798805236816
         },
         {
          "KM-label": 5,
          "digit": 2,
          "tSNE-1": -29.918148040771484,
          "tSNE-2": 23.165660858154297
         },
         {
          "KM-label": 9,
          "digit": 3,
          "tSNE-1": -31.051349639892578,
          "tSNE-2": -13.228757858276367
         },
         {
          "KM-label": 4,
          "digit": 4,
          "tSNE-1": 32.602943420410156,
          "tSNE-2": 26.872055053710938
         },
         {
          "KM-label": 1,
          "digit": 5,
          "tSNE-1": 6.915802955627441,
          "tSNE-2": -17.337732315063477
         },
         {
          "KM-label": 3,
          "digit": 6,
          "tSNE-1": 42.51247024536133,
          "tSNE-2": -13.220769882202148
         },
         {
          "KM-label": 8,
          "digit": 7,
          "tSNE-1": 6.796536445617676,
          "tSNE-2": 38.51169204711914
         },
         {
          "KM-label": 6,
          "digit": 8,
          "tSNE-1": -4.284961700439453,
          "tSNE-2": 2.8871264457702637
         },
         {
          "KM-label": 0,
          "digit": 9,
          "tSNE-1": -12.084627151489258,
          "tSNE-2": -22.99090003967285
         },
         {
          "KM-label": 2,
          "digit": 0,
          "tSNE-1": -7.288565158843994,
          "tSNE-2": -41.39385986328125
         },
         {
          "KM-label": 0,
          "digit": 9,
          "tSNE-1": -18.778779983520508,
          "tSNE-2": -21.896825790405273
         },
         {
          "KM-label": 1,
          "digit": 5,
          "tSNE-1": 5.2588090896606445,
          "tSNE-2": -17.36712646484375
         },
         {
          "KM-label": 0,
          "digit": 5,
          "tSNE-1": 9.651040077209473,
          "tSNE-2": -18.60616683959961
         },
         {
          "KM-label": 3,
          "digit": 6,
          "tSNE-1": 36.4865837097168,
          "tSNE-2": -12.46762752532959
         },
         {
          "KM-label": 0,
          "digit": 5,
          "tSNE-1": 0.16184060275554657,
          "tSNE-2": -19.476606369018555
         },
         {
          "KM-label": 2,
          "digit": 0,
          "tSNE-1": -10.2424898147583,
          "tSNE-2": -43.24031448364258
         },
         {
          "KM-label": 0,
          "digit": 9,
          "tSNE-1": -10.570870399475098,
          "tSNE-2": -16.962310791015625
         },
         {
          "KM-label": 6,
          "digit": 8,
          "tSNE-1": -11.015380859375,
          "tSNE-2": 3.8492422103881836
         },
         {
          "KM-label": 0,
          "digit": 9,
          "tSNE-1": -15.654219627380371,
          "tSNE-2": -22.55091667175293
         },
         {
          "KM-label": 6,
          "digit": 8,
          "tSNE-1": -10.908360481262207,
          "tSNE-2": 3.3141918182373047
         },
         {
          "KM-label": 4,
          "digit": 4,
          "tSNE-1": 36.103248596191406,
          "tSNE-2": 23.22283172607422
         },
         {
          "KM-label": 6,
          "digit": 1,
          "tSNE-1": 2.9044249057769775,
          "tSNE-2": 11.606082916259766
         },
         {
          "KM-label": 8,
          "digit": 7,
          "tSNE-1": -4.939658164978027,
          "tSNE-2": 38.95518112182617
         },
         {
          "KM-label": 8,
          "digit": 7,
          "tSNE-1": 5.303738117218018,
          "tSNE-2": 37.33015060424805
         },
         {
          "KM-label": 9,
          "digit": 3,
          "tSNE-1": -31.376733779907227,
          "tSNE-2": -8.415349960327148
         },
         {
          "KM-label": 1,
          "digit": 5,
          "tSNE-1": 4.868826866149902,
          "tSNE-2": -17.162954330444336
         },
         {
          "KM-label": 6,
          "digit": 1,
          "tSNE-1": 1.6545239686965942,
          "tSNE-2": 16.3522891998291
         },
         {
          "KM-label": 2,
          "digit": 0,
          "tSNE-1": -5.136585235595703,
          "tSNE-2": -45.622802734375
         },
         {
          "KM-label": 2,
          "digit": 0,
          "tSNE-1": -5.7958550453186035,
          "tSNE-2": -45.185916900634766
         },
         {
          "KM-label": 5,
          "digit": 2,
          "tSNE-1": -30.812049865722656,
          "tSNE-2": 25.545501708984375
         },
         {
          "KM-label": 5,
          "digit": 2,
          "tSNE-1": -28.498615264892578,
          "tSNE-2": 24.12727165222168
         },
         {
          "KM-label": 8,
          "digit": 7,
          "tSNE-1": 4.172041893005371,
          "tSNE-2": 41.68899154663086
         },
         {
          "KM-label": 0,
          "digit": 8,
          "tSNE-1": -11.12600040435791,
          "tSNE-2": -2.669400930404663
         },
         {
          "KM-label": 5,
          "digit": 2,
          "tSNE-1": -30.398313522338867,
          "tSNE-2": 21.644235610961914
         },
         {
          "KM-label": 2,
          "digit": 0,
          "tSNE-1": -5.981510162353516,
          "tSNE-2": -44.34461212158203
         },
         {
          "KM-label": 7,
          "digit": 1,
          "tSNE-1": 15.799409866333008,
          "tSNE-2": 14.016568183898926
         },
         {
          "KM-label": 5,
          "digit": 2,
          "tSNE-1": -31.342466354370117,
          "tSNE-2": 23.16172218322754
         },
         {
          "KM-label": 3,
          "digit": 6,
          "tSNE-1": 39.82471466064453,
          "tSNE-2": -18.318767547607422
         },
         {
          "KM-label": 9,
          "digit": 3,
          "tSNE-1": -26.62957191467285,
          "tSNE-2": -9.56649112701416
         },
         {
          "KM-label": 9,
          "digit": 3,
          "tSNE-1": -32.37666702270508,
          "tSNE-2": -7.541505336761475
         },
         {
          "KM-label": 8,
          "digit": 7,
          "tSNE-1": 6.751222133636475,
          "tSNE-2": 38.64419937133789
         },
         {
          "KM-label": 9,
          "digit": 3,
          "tSNE-1": -29.487133026123047,
          "tSNE-2": -9.063197135925293
         },
         {
          "KM-label": 9,
          "digit": 3,
          "tSNE-1": -29.458356857299805,
          "tSNE-2": -8.979118347167969
         },
         {
          "KM-label": 4,
          "digit": 4,
          "tSNE-1": 33.512847900390625,
          "tSNE-2": 25.46196746826172
         },
         {
          "KM-label": 3,
          "digit": 6,
          "tSNE-1": 39.28885269165039,
          "tSNE-2": -12.740476608276367
         },
         {
          "KM-label": 3,
          "digit": 6,
          "tSNE-1": 39.128501892089844,
          "tSNE-2": -12.739049911499023
         },
         {
          "KM-label": 3,
          "digit": 6,
          "tSNE-1": 37.37779998779297,
          "tSNE-2": -11.824697494506836
         },
         {
          "KM-label": 4,
          "digit": 4,
          "tSNE-1": 33.483543395996094,
          "tSNE-2": 27.050464630126953
         },
         {
          "KM-label": 8,
          "digit": 9,
          "tSNE-1": 9.500773429870605,
          "tSNE-2": 27.76980972290039
         },
         {
          "KM-label": 6,
          "digit": 1,
          "tSNE-1": 3.9722323417663574,
          "tSNE-2": 13.487387657165527
         },
         {
          "KM-label": 1,
          "digit": 5,
          "tSNE-1": 12.38150405883789,
          "tSNE-2": -11.386223793029785
         },
         {
          "KM-label": 2,
          "digit": 0,
          "tSNE-1": -5.133669853210449,
          "tSNE-2": -43.33086395263672
         },
         {
          "KM-label": 8,
          "digit": 9,
          "tSNE-1": 8.706258773803711,
          "tSNE-2": 27.71773338317871
         },
         {
          "KM-label": 1,
          "digit": 5,
          "tSNE-1": 5.40256929397583,
          "tSNE-2": -17.34478187561035
         },
         {
          "KM-label": 5,
          "digit": 2,
          "tSNE-1": -29.908828735351562,
          "tSNE-2": 21.980255126953125
         },
         {
          "KM-label": 0,
          "digit": 8,
          "tSNE-1": -11.74328899383545,
          "tSNE-2": 0.31828099489212036
         },
         {
          "KM-label": 5,
          "digit": 2,
          "tSNE-1": -30.16641616821289,
          "tSNE-2": 24.687227249145508
         },
         {
          "KM-label": 2,
          "digit": 0,
          "tSNE-1": -5.748751163482666,
          "tSNE-2": -41.585357666015625
         },
         {
          "KM-label": 2,
          "digit": 0,
          "tSNE-1": -6.302351474761963,
          "tSNE-2": -42.86768341064453
         },
         {
          "KM-label": 6,
          "digit": 1,
          "tSNE-1": 11.566496849060059,
          "tSNE-2": 15.163530349731445
         },
         {
          "KM-label": 8,
          "digit": 7,
          "tSNE-1": 1.3373562097549438,
          "tSNE-2": 36.42637634277344
         },
         {
          "KM-label": 3,
          "digit": 6,
          "tSNE-1": 34.309547424316406,
          "tSNE-2": -8.261819839477539
         },
         {
          "KM-label": 9,
          "digit": 3,
          "tSNE-1": -30.82636833190918,
          "tSNE-2": -8.556113243103027
         },
         {
          "KM-label": 5,
          "digit": 2,
          "tSNE-1": -29.00735092163086,
          "tSNE-2": 23.660945892333984
         },
         {
          "KM-label": 6,
          "digit": 1,
          "tSNE-1": 12.027097702026367,
          "tSNE-2": 15.069097518920898
         },
         {
          "KM-label": 8,
          "digit": 7,
          "tSNE-1": 0.9305897355079651,
          "tSNE-2": 36.939815521240234
         },
         {
          "KM-label": 4,
          "digit": 4,
          "tSNE-1": 32.96133041381836,
          "tSNE-2": 24.755128860473633
         },
         {
          "KM-label": 3,
          "digit": 6,
          "tSNE-1": 39.79410934448242,
          "tSNE-2": -16.647018432617188
         },
         {
          "KM-label": 9,
          "digit": 3,
          "tSNE-1": -31.25727081298828,
          "tSNE-2": -6.512857913970947
         },
         {
          "KM-label": 6,
          "digit": 1,
          "tSNE-1": 2.944607973098755,
          "tSNE-2": 15.555598258972168
         },
         {
          "KM-label": 9,
          "digit": 3,
          "tSNE-1": -26.48676300048828,
          "tSNE-2": -9.769258499145508
         },
         {
          "KM-label": 8,
          "digit": 9,
          "tSNE-1": 9.252213478088379,
          "tSNE-2": 28.145408630371094
         },
         {
          "KM-label": 6,
          "digit": 1,
          "tSNE-1": 5.494745254516602,
          "tSNE-2": 14.734302520751953
         },
         {
          "KM-label": 8,
          "digit": 7,
          "tSNE-1": -5.100515365600586,
          "tSNE-2": 41.47313690185547
         },
         {
          "KM-label": 3,
          "digit": 6,
          "tSNE-1": 36.322242736816406,
          "tSNE-2": -12.657445907592773
         },
         {
          "KM-label": 6,
          "digit": 8,
          "tSNE-1": -8.222250938415527,
          "tSNE-2": 5.7437825202941895
         },
         {
          "KM-label": 4,
          "digit": 4,
          "tSNE-1": 37.86115264892578,
          "tSNE-2": 22.881061553955078
         },
         {
          "KM-label": 9,
          "digit": 3,
          "tSNE-1": -26.185039520263672,
          "tSNE-2": -9.47805404663086
         },
         {
          "KM-label": 6,
          "digit": 1,
          "tSNE-1": 5.152188301086426,
          "tSNE-2": 17.147659301757812
         },
         {
          "KM-label": 4,
          "digit": 4,
          "tSNE-1": 29.470661163330078,
          "tSNE-2": 25.667560577392578
         },
         {
          "KM-label": 2,
          "digit": 0,
          "tSNE-1": -0.6465755701065063,
          "tSNE-2": -46.47138977050781
         },
         {
          "KM-label": 0,
          "digit": 5,
          "tSNE-1": 5.029236793518066,
          "tSNE-2": -19.077749252319336
         },
         {
          "KM-label": 9,
          "digit": 3,
          "tSNE-1": -31.119892120361328,
          "tSNE-2": -13.269108772277832
         },
         {
          "KM-label": 3,
          "digit": 6,
          "tSNE-1": 39.216678619384766,
          "tSNE-2": -14.309784889221191
         },
         {
          "KM-label": 8,
          "digit": 9,
          "tSNE-1": 9.073736190795898,
          "tSNE-2": 27.6886043548584
         },
         {
          "KM-label": 3,
          "digit": 6,
          "tSNE-1": 39.17789077758789,
          "tSNE-2": -12.17613410949707
         },
         {
          "KM-label": 6,
          "digit": 1,
          "tSNE-1": 3.1011202335357666,
          "tSNE-2": 9.817886352539062
         },
         {
          "KM-label": 8,
          "digit": 7,
          "tSNE-1": -5.768244743347168,
          "tSNE-2": 42.47603225708008
         },
         {
          "KM-label": 1,
          "digit": 5,
          "tSNE-1": 8.145956039428711,
          "tSNE-2": -15.553690910339355
         },
         {
          "KM-label": 4,
          "digit": 4,
          "tSNE-1": 40.282100677490234,
          "tSNE-2": 21.761137008666992
         },
         {
          "KM-label": 4,
          "digit": 4,
          "tSNE-1": 34.01710510253906,
          "tSNE-2": 23.7346134185791
         },
         {
          "KM-label": 8,
          "digit": 7,
          "tSNE-1": 0.9007720351219177,
          "tSNE-2": 36.984928131103516
         },
         {
          "KM-label": 5,
          "digit": 2,
          "tSNE-1": -29.937904357910156,
          "tSNE-2": 22.51680564880371
         },
         {
          "KM-label": 0,
          "digit": 8,
          "tSNE-1": -10.971237182617188,
          "tSNE-2": 2.1992971897125244
         },
         {
          "KM-label": 5,
          "digit": 2,
          "tSNE-1": -30.13111686706543,
          "tSNE-2": 24.74415397644043
         },
         {
          "KM-label": 5,
          "digit": 2,
          "tSNE-1": -32.098899841308594,
          "tSNE-2": 23.2337703704834
         },
         {
          "KM-label": 0,
          "digit": 5,
          "tSNE-1": 7.799590110778809,
          "tSNE-2": -18.862083435058594
         },
         {
          "KM-label": 8,
          "digit": 7,
          "tSNE-1": 4.2053070068359375,
          "tSNE-2": 38.93491744995117
         },
         {
          "KM-label": 7,
          "digit": 9,
          "tSNE-1": 20.145275115966797,
          "tSNE-2": 18.24421501159668
         },
         {
          "KM-label": 1,
          "digit": 5,
          "tSNE-1": 11.290510177612305,
          "tSNE-2": -4.05185079574585
         },
         {
          "KM-label": 4,
          "digit": 4,
          "tSNE-1": 33.630619049072266,
          "tSNE-2": 26.174652099609375
         },
         {
          "KM-label": 0,
          "digit": 8,
          "tSNE-1": -15.331378936767578,
          "tSNE-2": 0.14315490424633026
         },
         {
          "KM-label": 0,
          "digit": 8,
          "tSNE-1": -10.807943344116211,
          "tSNE-2": 2.933924674987793
         },
         {
          "KM-label": 4,
          "digit": 4,
          "tSNE-1": 33.442481994628906,
          "tSNE-2": 22.615310668945312
         },
         {
          "KM-label": 7,
          "digit": 9,
          "tSNE-1": 20.278615951538086,
          "tSNE-2": 17.454614639282227
         },
         {
          "KM-label": 2,
          "digit": 0,
          "tSNE-1": -3.9070799350738525,
          "tSNE-2": -47.48585510253906
         },
         {
          "KM-label": 6,
          "digit": 8,
          "tSNE-1": -4.189611911773682,
          "tSNE-2": 3.1898136138916016
         },
         {
          "KM-label": 8,
          "digit": 9,
          "tSNE-1": 9.446564674377441,
          "tSNE-2": 28.174116134643555
         },
         {
          "KM-label": 9,
          "digit": 3,
          "tSNE-1": -29.51182746887207,
          "tSNE-2": -4.293222904205322
         },
         {
          "KM-label": 2,
          "digit": 0,
          "tSNE-1": -0.24436892569065094,
          "tSNE-2": -50.05918884277344
         },
         {
          "KM-label": 7,
          "digit": 1,
          "tSNE-1": 19.00712776184082,
          "tSNE-2": 9.178901672363281
         },
         {
          "KM-label": 5,
          "digit": 2,
          "tSNE-1": -34.01948165893555,
          "tSNE-2": 17.80661964416504
         },
         {
          "KM-label": 9,
          "digit": 3,
          "tSNE-1": -32.372196197509766,
          "tSNE-2": -6.804135799407959
         },
         {
          "KM-label": 4,
          "digit": 4,
          "tSNE-1": 34.2518310546875,
          "tSNE-2": 12.07528305053711
         },
         {
          "KM-label": 1,
          "digit": 5,
          "tSNE-1": 4.385056018829346,
          "tSNE-2": -14.086967468261719
         },
         {
          "KM-label": 3,
          "digit": 6,
          "tSNE-1": 32.185546875,
          "tSNE-2": -15.261160850524902
         },
         {
          "KM-label": 8,
          "digit": 7,
          "tSNE-1": 9.742718696594238,
          "tSNE-2": 32.57332992553711
         },
         {
          "KM-label": 0,
          "digit": 8,
          "tSNE-1": -9.378266334533691,
          "tSNE-2": -1.7945371866226196
         },
         {
          "KM-label": 0,
          "digit": 9,
          "tSNE-1": -9.702272415161133,
          "tSNE-2": -24.262304306030273
         },
         {
          "KM-label": 2,
          "digit": 0,
          "tSNE-1": -1.0685235261917114,
          "tSNE-2": -48.4463005065918
         },
         {
          "KM-label": 7,
          "digit": 1,
          "tSNE-1": 14.657696723937988,
          "tSNE-2": 8.042886734008789
         },
         {
          "KM-label": 5,
          "digit": 2,
          "tSNE-1": -36.04336929321289,
          "tSNE-2": 16.285139083862305
         },
         {
          "KM-label": 9,
          "digit": 3,
          "tSNE-1": -24.67194366455078,
          "tSNE-2": -13.881744384765625
         },
         {
          "KM-label": 4,
          "digit": 4,
          "tSNE-1": 37.3880729675293,
          "tSNE-2": 29.48229217529297
         },
         {
          "KM-label": 1,
          "digit": 5,
          "tSNE-1": 5.826530933380127,
          "tSNE-2": -11.80639934539795
         },
         {
          "KM-label": 3,
          "digit": 6,
          "tSNE-1": 31.088199615478516,
          "tSNE-2": -15.561335563659668
         },
         {
          "KM-label": 8,
          "digit": 7,
          "tSNE-1": 10.1272554397583,
          "tSNE-2": 32.52737045288086
         },
         {
          "KM-label": 6,
          "digit": 8,
          "tSNE-1": -7.36462926864624,
          "tSNE-2": 6.781290531158447
         },
         {
          "KM-label": 0,
          "digit": 9,
          "tSNE-1": -17.66463279724121,
          "tSNE-2": -22.6519832611084
         },
         {
          "KM-label": 2,
          "digit": 0,
          "tSNE-1": 1.0615553855895996,
          "tSNE-2": -46.220951080322266
         },
         {
          "KM-label": 7,
          "digit": 1,
          "tSNE-1": 16.21349334716797,
          "tSNE-2": 9.375883102416992
         },
         {
          "KM-label": 5,
          "digit": 2,
          "tSNE-1": -35.42591857910156,
          "tSNE-2": 20.57706069946289
         },
         {
          "KM-label": 9,
          "digit": 3,
          "tSNE-1": -28.799840927124023,
          "tSNE-2": -17.39618682861328
         },
         {
          "KM-label": 4,
          "digit": 4,
          "tSNE-1": 33.32364273071289,
          "tSNE-2": 13.427091598510742
         },
         {
          "KM-label": 1,
          "digit": 5,
          "tSNE-1": 5.726149559020996,
          "tSNE-2": -12.103860855102539
         },
         {
          "KM-label": 3,
          "digit": 6,
          "tSNE-1": 30.64384651184082,
          "tSNE-2": -13.961559295654297
         },
         {
          "KM-label": 8,
          "digit": 7,
          "tSNE-1": 10.474554061889648,
          "tSNE-2": 32.61058044433594
         },
         {
          "KM-label": 0,
          "digit": 8,
          "tSNE-1": -9.39733600616455,
          "tSNE-2": -5.754460334777832
         },
         {
          "KM-label": 0,
          "digit": 9,
          "tSNE-1": -17.73366355895996,
          "tSNE-2": -22.712890625
         },
         {
          "KM-label": 2,
          "digit": 0,
          "tSNE-1": 1.766104817390442,
          "tSNE-2": -39.580169677734375
         },
         {
          "KM-label": 0,
          "digit": 9,
          "tSNE-1": -12.612874031066895,
          "tSNE-2": -13.0636625289917
         },
         {
          "KM-label": 9,
          "digit": 5,
          "tSNE-1": 3.8561301231384277,
          "tSNE-2": -14.309377670288086
         },
         {
          "KM-label": 1,
          "digit": 5,
          "tSNE-1": 6.1673407554626465,
          "tSNE-2": -12.443626403808594
         },
         {
          "KM-label": 3,
          "digit": 6,
          "tSNE-1": 30.258480072021484,
          "tSNE-2": -15.339020729064941
         },
         {
          "KM-label": 0,
          "digit": 5,
          "tSNE-1": 2.4833905696868896,
          "tSNE-2": -14.577108383178711
         },
         {
          "KM-label": 2,
          "digit": 0,
          "tSNE-1": 0.07496804744005203,
          "tSNE-2": -49.742008209228516
         },
         {
          "KM-label": 0,
          "digit": 9,
          "tSNE-1": -12.674826622009277,
          "tSNE-2": -12.85571002960205
         },
         {
          "KM-label": 0,
          "digit": 8,
          "tSNE-1": -9.803923606872559,
          "tSNE-2": 0.13644646108150482
         },
         {
          "KM-label": 0,
          "digit": 9,
          "tSNE-1": -13.444849014282227,
          "tSNE-2": -20.454755783081055
         },
         {
          "KM-label": 0,
          "digit": 8,
          "tSNE-1": -9.830423355102539,
          "tSNE-2": -0.3682868480682373
         },
         {
          "KM-label": 4,
          "digit": 4,
          "tSNE-1": 32.20481872558594,
          "tSNE-2": 14.970053672790527
         },
         {
          "KM-label": 7,
          "digit": 1,
          "tSNE-1": 16.742155075073242,
          "tSNE-2": 9.784871101379395
         },
         {
          "KM-label": 8,
          "digit": 7,
          "tSNE-1": 11.78286361694336,
          "tSNE-2": 32.13580322265625
         },
         {
          "KM-label": 8,
          "digit": 7,
          "tSNE-1": 8.187171936035156,
          "tSNE-2": 32.72764205932617
         },
         {
          "KM-label": 9,
          "digit": 3,
          "tSNE-1": -24.999042510986328,
          "tSNE-2": -14.697019577026367
         },
         {
          "KM-label": 1,
          "digit": 5,
          "tSNE-1": 4.982361316680908,
          "tSNE-2": -12.475833892822266
         },
         {
          "KM-label": 7,
          "digit": 1,
          "tSNE-1": 14.640509605407715,
          "tSNE-2": 8.143758773803711
         },
         {
          "KM-label": 2,
          "digit": 0,
          "tSNE-1": -2.252488374710083,
          "tSNE-2": -48.53182601928711
         },
         {
          "KM-label": 2,
          "digit": 0,
          "tSNE-1": -1.5867141485214233,
          "tSNE-2": -46.85675811767578
         },
         {
          "KM-label": 5,
          "digit": 2,
          "tSNE-1": -36.27790451049805,
          "tSNE-2": 16.544137954711914
         },
         {
          "KM-label": 5,
          "digit": 2,
          "tSNE-1": -34.754695892333984,
          "tSNE-2": 18.78290557861328
         },
         {
          "KM-label": 8,
          "digit": 7,
          "tSNE-1": 9.925737380981445,
          "tSNE-2": 32.495941162109375
         },
         {
          "KM-label": 0,
          "digit": 8,
          "tSNE-1": -10.263814926147461,
          "tSNE-2": -3.752964735031128
         },
         {
          "KM-label": 5,
          "digit": 2,
          "tSNE-1": -35.16240692138672,
          "tSNE-2": 17.960674285888672
         },
         {
          "KM-label": 2,
          "digit": 0,
          "tSNE-1": -6.860012054443359,
          "tSNE-2": -47.490196228027344
         },
         {
          "KM-label": 5,
          "digit": 1,
          "tSNE-1": -45.38546371459961,
          "tSNE-2": 11.25440788269043
         },
         {
          "KM-label": 5,
          "digit": 2,
          "tSNE-1": -36.00993347167969,
          "tSNE-2": 15.805920600891113
         },
         {
          "KM-label": 3,
          "digit": 6,
          "tSNE-1": 33.79030990600586,
          "tSNE-2": -17.09391975402832
         },
         {
          "KM-label": 9,
          "digit": 3,
          "tSNE-1": -24.77541160583496,
          "tSNE-2": -15.282448768615723
         },
         {
          "KM-label": 0,
          "digit": 3,
          "tSNE-1": -24.16773223876953,
          "tSNE-2": -13.915924072265625
         },
         {
          "KM-label": 8,
          "digit": 7,
          "tSNE-1": 11.11492919921875,
          "tSNE-2": 32.760704040527344
         },
         {
          "KM-label": 0,
          "digit": 3,
          "tSNE-1": -24.749679565429688,
          "tSNE-2": -14.951643943786621
         },
         {
          "KM-label": 0,
          "digit": 3,
          "tSNE-1": -24.145477294921875,
          "tSNE-2": -13.466105461120605
         },
         {
          "KM-label": 4,
          "digit": 4,
          "tSNE-1": 34.29423522949219,
          "tSNE-2": 13.782782554626465
         },
         {
          "KM-label": 3,
          "digit": 6,
          "tSNE-1": 30.714597702026367,
          "tSNE-2": -13.689400672912598
         },
         {
          "KM-label": 3,
          "digit": 6,
          "tSNE-1": 31.533763885498047,
          "tSNE-2": -15.330198287963867
         },
         {
          "KM-label": 3,
          "digit": 6,
          "tSNE-1": 30.68401527404785,
          "tSNE-2": -13.724632263183594
         },
         {
          "KM-label": 4,
          "digit": 4,
          "tSNE-1": 33.49570846557617,
          "tSNE-2": 13.461114883422852
         },
         {
          "KM-label": 0,
          "digit": 9,
          "tSNE-1": -12.828230857849121,
          "tSNE-2": -20.101089477539062
         },
         {
          "KM-label": 7,
          "digit": 1,
          "tSNE-1": 16.4002628326416,
          "tSNE-2": 9.944090843200684
         },
         {
          "KM-label": 0,
          "digit": 5,
          "tSNE-1": 4.419291019439697,
          "tSNE-2": -15.98578929901123
         },
         {
          "KM-label": 2,
          "digit": 0,
          "tSNE-1": -2.0207836627960205,
          "tSNE-2": -41.028602600097656
         },
         {
          "KM-label": 0,
          "digit": 9,
          "tSNE-1": -12.675908088684082,
          "tSNE-2": -12.803768157958984
         },
         {
          "KM-label": 1,
          "digit": 5,
          "tSNE-1": 6.210977077484131,
          "tSNE-2": -12.497246742248535
         },
         {
          "KM-label": 5,
          "digit": 2,
          "tSNE-1": -36.12316131591797,
          "tSNE-2": 17.689241409301758
         },
         {
          "KM-label": 6,
          "digit": 8,
          "tSNE-1": -9.003148078918457,
          "tSNE-2": -0.2887825667858124
         },
         {
          "KM-label": 5,
          "digit": 2,
          "tSNE-1": -34.12635040283203,
          "tSNE-2": 21.49948501586914
         },
         {
          "KM-label": 2,
          "digit": 0,
          "tSNE-1": -7.149437427520752,
          "tSNE-2": -45.961299896240234
         },
         {
          "KM-label": 2,
          "digit": 0,
          "tSNE-1": -1.6164603233337402,
          "tSNE-2": -49.60177993774414
         },
         {
          "KM-label": 7,
          "digit": 1,
          "tSNE-1": 14.039542198181152,
          "tSNE-2": 8.61166000366211
         },
         {
          "KM-label": 8,
          "digit": 7,
          "tSNE-1": 11.790943145751953,
          "tSNE-2": 32.14701843261719
         },
         {
          "KM-label": 3,
          "digit": 6,
          "tSNE-1": 37.886173248291016,
          "tSNE-2": -7.490360260009766
         },
         {
          "KM-label": 9,
          "digit": 3,
          "tSNE-1": -24.56475830078125,
          "tSNE-2": -13.687865257263184
         },
         {
          "KM-label": 5,
          "digit": 2,
          "tSNE-1": -36.09585952758789,
          "tSNE-2": 23.144208908081055
         },
         {
          "KM-label": 7,
          "digit": 1,
          "tSNE-1": 13.559439659118652,
          "tSNE-2": 8.576251983642578
         },
         {
          "KM-label": 8,
          "digit": 7,
          "tSNE-1": 8.6953125,
          "tSNE-2": 32.713661193847656
         },
         {
          "KM-label": 7,
          "digit": 4,
          "tSNE-1": 33.647891998291016,
          "tSNE-2": 16.674306869506836
         },
         {
          "KM-label": 3,
          "digit": 6,
          "tSNE-1": 30.20835304260254,
          "tSNE-2": -12.36897087097168
         },
         {
          "KM-label": 9,
          "digit": 3,
          "tSNE-1": -24.509300231933594,
          "tSNE-2": -13.168368339538574
         },
         {
          "KM-label": 7,
          "digit": 1,
          "tSNE-1": 15.239700317382812,
          "tSNE-2": 10.880064964294434
         },
         {
          "KM-label": 9,
          "digit": 3,
          "tSNE-1": -24.41120147705078,
          "tSNE-2": -12.08889389038086
         },
         {
          "KM-label": 0,
          "digit": 9,
          "tSNE-1": -13.97016716003418,
          "tSNE-2": -19.657621383666992
         },
         {
          "KM-label": 7,
          "digit": 1,
          "tSNE-1": 15.677657127380371,
          "tSNE-2": 8.785451889038086
         },
         {
          "KM-label": 1,
          "digit": 7,
          "tSNE-1": 9.912522315979004,
          "tSNE-2": 29.40312385559082
         },
         {
          "KM-label": 3,
          "digit": 6,
          "tSNE-1": 29.522361755371094,
          "tSNE-2": -14.350890159606934
         },
         {
          "KM-label": 0,
          "digit": 8,
          "tSNE-1": -12.675336837768555,
          "tSNE-2": 0.15335525572299957
         },
         {
          "KM-label": 4,
          "digit": 4,
          "tSNE-1": 34.63965606689453,
          "tSNE-2": 13.66514778137207
         },
         {
          "KM-label": 9,
          "digit": 3,
          "tSNE-1": -24.950082778930664,
          "tSNE-2": -12.328722953796387
         },
         {
          "KM-label": 7,
          "digit": 1,
          "tSNE-1": 15.223438262939453,
          "tSNE-2": 8.379324913024902
         },
         {
          "KM-label": 4,
          "digit": 4,
          "tSNE-1": 33.02796936035156,
          "tSNE-2": 13.84389877319336
         },
         {
          "KM-label": 2,
          "digit": 0,
          "tSNE-1": 1.59345543384552,
          "tSNE-2": -48.770912170410156
         },
         {
          "KM-label": 1,
          "digit": 5,
          "tSNE-1": 6.201361656188965,
          "tSNE-2": -14.170411109924316
         },
         {
          "KM-label": 9,
          "digit": 3,
          "tSNE-1": -23.46657943725586,
          "tSNE-2": -13.711397171020508
         },
         {
          "KM-label": 3,
          "digit": 6,
          "tSNE-1": 31.226539611816406,
          "tSNE-2": -13.474315643310547
         },
         {
          "KM-label": 0,
          "digit": 9,
          "tSNE-1": -12.692595481872559,
          "tSNE-2": -12.685790061950684
         },
         {
          "KM-label": 6,
          "digit": 6,
          "tSNE-1": 0.8227545022964478,
          "tSNE-2": 3.1400651931762695
         },
         {
          "KM-label": 7,
          "digit": 1,
          "tSNE-1": 16.720199584960938,
          "tSNE-2": 9.479927062988281
         },
         {
          "KM-label": 8,
          "digit": 7,
          "tSNE-1": 10.749842643737793,
          "tSNE-2": 32.778926849365234
         },
         {
          "KM-label": 1,
          "digit": 5,
          "tSNE-1": 6.2809600830078125,
          "tSNE-2": -12.1612548828125
         },
         {
          "KM-label": 7,
          "digit": 4,
          "tSNE-1": 33.18825149536133,
          "tSNE-2": 16.2071475982666
         },
         {
          "KM-label": 4,
          "digit": 4,
          "tSNE-1": 33.51474380493164,
          "tSNE-2": 14.559243202209473
         },
         {
          "KM-label": 8,
          "digit": 7,
          "tSNE-1": 10.33032512664795,
          "tSNE-2": 32.37697219848633
         },
         {
          "KM-label": 5,
          "digit": 2,
          "tSNE-1": -34.07288360595703,
          "tSNE-2": 22.180004119873047
         },
         {
          "KM-label": 0,
          "digit": 8,
          "tSNE-1": -12.807303428649902,
          "tSNE-2": -1.138979196548462
         },
         {
          "KM-label": 5,
          "digit": 2,
          "tSNE-1": -35.49968338012695,
          "tSNE-2": 21.56423568725586
         },
         {
          "KM-label": 6,
          "digit": 2,
          "tSNE-1": -15.908005714416504,
          "tSNE-2": 16.082725524902344
         },
         {
          "KM-label": 1,
          "digit": 5,
          "tSNE-1": 12.457332611083984,
          "tSNE-2": -8.281339645385742
         },
         {
          "KM-label": 8,
          "digit": 7,
          "tSNE-1": 8.885448455810547,
          "tSNE-2": 32.653297424316406
         },
         {
          "KM-label": 0,
          "digit": 9,
          "tSNE-1": -13.743457794189453,
          "tSNE-2": -20.058757781982422
         },
         {
          "KM-label": 1,
          "digit": 5,
          "tSNE-1": 5.104432582855225,
          "tSNE-2": -12.165933609008789
         },
         {
          "KM-label": 4,
          "digit": 4,
          "tSNE-1": 33.57168960571289,
          "tSNE-2": 16.496721267700195
         },
         {
          "KM-label": 6,
          "digit": 8,
          "tSNE-1": -7.902669906616211,
          "tSNE-2": 6.294561386108398
         },
         {
          "KM-label": 6,
          "digit": 8,
          "tSNE-1": -7.398064136505127,
          "tSNE-2": 5.641556739807129
         },
         {
          "KM-label": 4,
          "digit": 4,
          "tSNE-1": 34.1664924621582,
          "tSNE-2": 11.80586051940918
         },
         {
          "KM-label": 0,
          "digit": 9,
          "tSNE-1": -7.532390117645264,
          "tSNE-2": -24.314926147460938
         },
         {
          "KM-label": 2,
          "digit": 0,
          "tSNE-1": -4.494538307189941,
          "tSNE-2": -44.50113296508789
         },
         {
          "KM-label": 0,
          "digit": 8,
          "tSNE-1": -10.616595268249512,
          "tSNE-2": 0.5649874806404114
         },
         {
          "KM-label": 0,
          "digit": 9,
          "tSNE-1": -13.586865425109863,
          "tSNE-2": -19.885114669799805
         },
         {
          "KM-label": 0,
          "digit": 8,
          "tSNE-1": -9.759927749633789,
          "tSNE-2": -0.6272175312042236
         },
         {
          "KM-label": 2,
          "digit": 0,
          "tSNE-1": -3.1378579139709473,
          "tSNE-2": -41.441707611083984
         },
         {
          "KM-label": 5,
          "digit": 1,
          "tSNE-1": -45.722782135009766,
          "tSNE-2": 9.538249015808105
         },
         {
          "KM-label": 5,
          "digit": 2,
          "tSNE-1": -34.11001205444336,
          "tSNE-2": 12.688011169433594
         },
         {
          "KM-label": 0,
          "digit": 3,
          "tSNE-1": -18.942171096801758,
          "tSNE-2": -6.259410381317139
         },
         {
          "KM-label": 4,
          "digit": 4,
          "tSNE-1": 34.58720779418945,
          "tSNE-2": 30.144468307495117
         },
         {
          "KM-label": 1,
          "digit": 5,
          "tSNE-1": 8.277013778686523,
          "tSNE-2": -22.871219635009766
         },
         {
          "KM-label": 3,
          "digit": 6,
          "tSNE-1": 38.59773254394531,
          "tSNE-2": -7.971045017242432
         },
         {
          "KM-label": 8,
          "digit": 7,
          "tSNE-1": -9.522459983825684,
          "tSNE-2": 35.75984573364258
         },
         {
          "KM-label": 6,
          "digit": 8,
          "tSNE-1": -11.74574089050293,
          "tSNE-2": 13.220623970031738
         },
         {
          "KM-label": 0,
          "digit": 9,
          "tSNE-1": -9.816279411315918,
          "tSNE-2": -12.150068283081055
         },
         {
          "KM-label": 2,
          "digit": 0,
          "tSNE-1": -9.466269493103027,
          "tSNE-2": -47.96356964111328
         },
         {
          "KM-label": 5,
          "digit": 1,
          "tSNE-1": -45.81743621826172,
          "tSNE-2": 11.226765632629395
         },
         {
          "KM-label": 5,
          "digit": 2,
          "tSNE-1": -30.07832145690918,
          "tSNE-2": 14.44637393951416
         },
         {
          "KM-label": 0,
          "digit": 3,
          "tSNE-1": -19.75141716003418,
          "tSNE-2": -5.358142852783203
         },
         {
          "KM-label": 8,
          "digit": 4,
          "tSNE-1": 32.915130615234375,
          "tSNE-2": 30.07064437866211
         },
         {
          "KM-label": 0,
          "digit": 5,
          "tSNE-1": 5.60097074508667,
          "tSNE-2": -21.712467193603516
         },
         {
          "KM-label": 3,
          "digit": 6,
          "tSNE-1": 34.94914627075195,
          "tSNE-2": -17.579511642456055
         },
         {
          "KM-label": 8,
          "digit": 7,
          "tSNE-1": -4.6320366859436035,
          "tSNE-2": 36.306121826171875
         },
         {
          "KM-label": 6,
          "digit": 8,
          "tSNE-1": -12.69214153289795,
          "tSNE-2": 12.013646125793457
         },
         {
          "KM-label": 0,
          "digit": 9,
          "tSNE-1": -7.098762035369873,
          "tSNE-2": -20.255142211914062
         },
         {
          "KM-label": 2,
          "digit": 0,
          "tSNE-1": -3.9411721229553223,
          "tSNE-2": -40.336524963378906
         },
         {
          "KM-label": 5,
          "digit": 1,
          "tSNE-1": -46.707908630371094,
          "tSNE-2": 10.847567558288574
         },
         {
          "KM-label": 5,
          "digit": 2,
          "tSNE-1": -30.255020141601562,
          "tSNE-2": 14.287893295288086
         },
         {
          "KM-label": 0,
          "digit": 3,
          "tSNE-1": -19.45218276977539,
          "tSNE-2": -4.41680383682251
         },
         {
          "KM-label": 4,
          "digit": 4,
          "tSNE-1": 38.04448318481445,
          "tSNE-2": 28.45646095275879
         },
         {
          "KM-label": 0,
          "digit": 5,
          "tSNE-1": 5.291285514831543,
          "tSNE-2": -20.272354125976562
         },
         {
          "KM-label": 3,
          "digit": 6,
          "tSNE-1": 36.42759704589844,
          "tSNE-2": -14.495810508728027
         },
         {
          "KM-label": 8,
          "digit": 7,
          "tSNE-1": 3.9791831970214844,
          "tSNE-2": 41.966758728027344
         },
         {
          "KM-label": 6,
          "digit": 8,
          "tSNE-1": -13.161678314208984,
          "tSNE-2": 11.540679931640625
         },
         {
          "KM-label": 0,
          "digit": 9,
          "tSNE-1": -8.683022499084473,
          "tSNE-2": -12.735013961791992
         },
         {
          "KM-label": 2,
          "digit": 0,
          "tSNE-1": -3.1970088481903076,
          "tSNE-2": -41.10878372192383
         },
         {
          "KM-label": 6,
          "digit": 9,
          "tSNE-1": -5.653391361236572,
          "tSNE-2": 2.380092144012451
         },
         {
          "KM-label": 1,
          "digit": 5,
          "tSNE-1": 6.274610996246338,
          "tSNE-2": -15.492664337158203
         },
         {
          "KM-label": 0,
          "digit": 5,
          "tSNE-1": 4.7202582359313965,
          "tSNE-2": -21.199438095092773
         },
         {
          "KM-label": 3,
          "digit": 6,
          "tSNE-1": 39.97465515136719,
          "tSNE-2": -7.153278827667236
         },
         {
          "KM-label": 0,
          "digit": 5,
          "tSNE-1": 5.032215595245361,
          "tSNE-2": -20.992755889892578
         },
         {
          "KM-label": 2,
          "digit": 0,
          "tSNE-1": -7.244865894317627,
          "tSNE-2": -49.02126693725586
         },
         {
          "KM-label": 0,
          "digit": 9,
          "tSNE-1": -8.164423942565918,
          "tSNE-2": -22.918363571166992
         },
         {
          "KM-label": 6,
          "digit": 8,
          "tSNE-1": -12.190516471862793,
          "tSNE-2": 13.29551887512207
         },
         {
          "KM-label": 0,
          "digit": 9,
          "tSNE-1": -9.204859733581543,
          "tSNE-2": -11.608746528625488
         },
         {
          "KM-label": 6,
          "digit": 8,
          "tSNE-1": -13.371377944946289,
          "tSNE-2": 12.07611083984375
         },
         {
          "KM-label": 4,
          "digit": 4,
          "tSNE-1": 35.34907150268555,
          "tSNE-2": 28.8876953125
         },
         {
          "KM-label": 5,
          "digit": 1,
          "tSNE-1": -46.65061569213867,
          "tSNE-2": 11.246969223022461
         },
         {
          "KM-label": 8,
          "digit": 7,
          "tSNE-1": 0.5613434314727783,
          "tSNE-2": 39.29404067993164
         },
         {
          "KM-label": 8,
          "digit": 7,
          "tSNE-1": -3.454261064529419,
          "tSNE-2": 36.542057037353516
         },
         {
          "KM-label": 9,
          "digit": 3,
          "tSNE-1": -19.568992614746094,
          "tSNE-2": -6.266385555267334
         },
         {
          "KM-label": 0,
          "digit": 5,
          "tSNE-1": 5.557815074920654,
          "tSNE-2": -20.35921859741211
         },
         {
          "KM-label": 3,
          "digit": 1,
          "tSNE-1": -47.531455993652344,
          "tSNE-2": 10.064162254333496
         },
         {
          "KM-label": 2,
          "digit": 0,
          "tSNE-1": -3.106152057647705,
          "tSNE-2": -44.53025436401367
         },
         {
          "KM-label": 2,
          "digit": 0,
          "tSNE-1": -3.64985728263855,
          "tSNE-2": -51.76937484741211
         },
         {
          "KM-label": 5,
          "digit": 2,
          "tSNE-1": -31.033231735229492,
          "tSNE-2": 15.900273323059082
         },
         {
          "KM-label": 5,
          "digit": 2,
          "tSNE-1": -30.778038024902344,
          "tSNE-2": 15.798250198364258
         },
         {
          "KM-label": 8,
          "digit": 7,
          "tSNE-1": -7.069553375244141,
          "tSNE-2": 36.448978424072266
         },
         {
          "KM-label": 3,
          "digit": 8,
          "tSNE-1": -14.257454872131348,
          "tSNE-2": 12.045954704284668
         },
         {
          "KM-label": 5,
          "digit": 2,
          "tSNE-1": -32.24913787841797,
          "tSNE-2": 15.9465913772583
         },
         {
          "KM-label": 2,
          "digit": 0,
          "tSNE-1": -5.068620681762695,
          "tSNE-2": -41.64573669433594
         },
         {
          "KM-label": 5,
          "digit": 1,
          "tSNE-1": -46.733299255371094,
          "tSNE-2": 11.542426109313965
         },
         {
          "KM-label": 5,
          "digit": 2,
          "tSNE-1": -30.813323974609375,
          "tSNE-2": 15.812714576721191
         },
         {
          "KM-label": 3,
          "digit": 6,
          "tSNE-1": 40.030731201171875,
          "tSNE-2": -5.712067604064941
         },
         {
          "KM-label": 0,
          "digit": 3,
          "tSNE-1": -19.042659759521484,
          "tSNE-2": -6.89713191986084
         },
         {
          "KM-label": 9,
          "digit": 3,
          "tSNE-1": -23.363216400146484,
          "tSNE-2": -5.235255718231201
         },
         {
          "KM-label": 8,
          "digit": 7,
          "tSNE-1": 3.708921432495117,
          "tSNE-2": 42.71126174926758
         },
         {
          "KM-label": 0,
          "digit": 3,
          "tSNE-1": -18.3343505859375,
          "tSNE-2": -5.277339458465576
         },
         {
          "KM-label": 0,
          "digit": 3,
          "tSNE-1": -19.214759826660156,
          "tSNE-2": -5.997750759124756
         },
         {
          "KM-label": 4,
          "digit": 4,
          "tSNE-1": 34.973899841308594,
          "tSNE-2": 27.469572067260742
         },
         {
          "KM-label": 3,
          "digit": 6,
          "tSNE-1": 41.02595901489258,
          "tSNE-2": -6.6846489906311035
         },
         {
          "KM-label": 3,
          "digit": 6,
          "tSNE-1": 38.91431427001953,
          "tSNE-2": -7.611324787139893
         },
         {
          "KM-label": 3,
          "digit": 6,
          "tSNE-1": 34.68027114868164,
          "tSNE-2": -18.10129737854004
         },
         {
          "KM-label": 4,
          "digit": 4,
          "tSNE-1": 33.313011169433594,
          "tSNE-2": 30.091690063476562
         },
         {
          "KM-label": 0,
          "digit": 9,
          "tSNE-1": -7.740235805511475,
          "tSNE-2": -21.072338104248047
         },
         {
          "KM-label": 3,
          "digit": 1,
          "tSNE-1": -47.19289779663086,
          "tSNE-2": 9.938797950744629
         },
         {
          "KM-label": 1,
          "digit": 5,
          "tSNE-1": 5.852268695831299,
          "tSNE-2": -18.920251846313477
         },
         {
          "KM-label": 2,
          "digit": 0,
          "tSNE-1": 0.1041678786277771,
          "tSNE-2": -44.79663848876953
         },
         {
          "KM-label": 0,
          "digit": 9,
          "tSNE-1": -9.545892715454102,
          "tSNE-2": -19.260730743408203
         },
         {
          "KM-label": 0,
          "digit": 5,
          "tSNE-1": 5.518030166625977,
          "tSNE-2": -22.230388641357422
         },
         {
          "KM-label": 5,
          "digit": 2,
          "tSNE-1": -32.760040283203125,
          "tSNE-2": 14.162174224853516
         },
         {
          "KM-label": 6,
          "digit": 8,
          "tSNE-1": -13.87309455871582,
          "tSNE-2": 12.323773384094238
         },
         {
          "KM-label": 5,
          "digit": 2,
          "tSNE-1": -31.28053092956543,
          "tSNE-2": 21.83805274963379
         },
         {
          "KM-label": 2,
          "digit": 0,
          "tSNE-1": -8.803977012634277,
          "tSNE-2": -46.31022644042969
         },
         {
          "KM-label": 2,
          "digit": 0,
          "tSNE-1": -3.3712430000305176,
          "tSNE-2": -40.828426361083984
         },
         {
          "KM-label": 5,
          "digit": 1,
          "tSNE-1": -47.440635681152344,
          "tSNE-2": 10.623034477233887
         },
         {
          "KM-label": 8,
          "digit": 7,
          "tSNE-1": -5.282351493835449,
          "tSNE-2": 37.3190803527832
         },
         {
          "KM-label": 3,
          "digit": 6,
          "tSNE-1": 40.953739166259766,
          "tSNE-2": -6.661048889160156
         },
         {
          "KM-label": 0,
          "digit": 3,
          "tSNE-1": -19.032217025756836,
          "tSNE-2": -6.875494956970215
         },
         {
          "KM-label": 5,
          "digit": 2,
          "tSNE-1": -33.735450744628906,
          "tSNE-2": 24.621835708618164
         },
         {
          "KM-label": 5,
          "digit": 1,
          "tSNE-1": -46.99557113647461,
          "tSNE-2": 9.928771018981934
         },
         {
          "KM-label": 8,
          "digit": 7,
          "tSNE-1": -4.096042633056641,
          "tSNE-2": 36.81621170043945
         },
         {
          "KM-label": 4,
          "digit": 4,
          "tSNE-1": 34.75541305541992,
          "tSNE-2": 30.57222557067871
         },
         {
          "KM-label": 3,
          "digit": 6,
          "tSNE-1": 39.857154846191406,
          "tSNE-2": -5.571788787841797
         },
         {
          "KM-label": 0,
          "digit": 3,
          "tSNE-1": -18.993473052978516,
          "tSNE-2": -5.067973613739014
         },
         {
          "KM-label": 5,
          "digit": 1,
          "tSNE-1": -47.75041961669922,
          "tSNE-2": 10.825935363769531
         },
         {
          "KM-label": 0,
          "digit": 3,
          "tSNE-1": -19.205965042114258,
          "tSNE-2": -4.967682361602783
         },
         {
          "KM-label": 0,
          "digit": 9,
          "tSNE-1": -9.15328311920166,
          "tSNE-2": -11.608762741088867
         },
         {
          "KM-label": 5,
          "digit": 1,
          "tSNE-1": -46.178836822509766,
          "tSNE-2": 9.455469131469727
         },
         {
          "KM-label": 8,
          "digit": 7,
          "tSNE-1": -3.8653452396392822,
          "tSNE-2": 39.85112380981445
         },
         {
          "KM-label": 3,
          "digit": 6,
          "tSNE-1": 38.59374237060547,
          "tSNE-2": -7.947362899780273
         },
         {
          "KM-label": 6,
          "digit": 8,
          "tSNE-1": -13.243303298950195,
          "tSNE-2": 12.186040878295898
         },
         {
          "KM-label": 4,
          "digit": 4,
          "tSNE-1": 35.65768051147461,
          "tSNE-2": 29.279552459716797
         },
         {
          "KM-label": 9,
          "digit": 3,
          "tSNE-1": -19.826374053955078,
          "tSNE-2": -6.004086971282959
         },
         {
          "KM-label": 6,
          "digit": 1,
          "tSNE-1": -0.5415188670158386,
          "tSNE-2": 11.508306503295898
         },
         {
          "KM-label": 4,
          "digit": 4,
          "tSNE-1": 35.514556884765625,
          "tSNE-2": 29.860122680664062
         },
         {
          "KM-label": 2,
          "digit": 0,
          "tSNE-1": -4.411263942718506,
          "tSNE-2": -39.754417419433594
         },
         {
          "KM-label": 0,
          "digit": 5,
          "tSNE-1": 4.386413097381592,
          "tSNE-2": -20.9821834564209
         },
         {
          "KM-label": 9,
          "digit": 3,
          "tSNE-1": -19.756437301635742,
          "tSNE-2": -5.822300910949707
         },
         {
          "KM-label": 3,
          "digit": 6,
          "tSNE-1": 38.6368408203125,
          "tSNE-2": -7.860347270965576
         },
         {
          "KM-label": 0,
          "digit": 9,
          "tSNE-1": -9.150899887084961,
          "tSNE-2": -11.627052307128906
         },
         {
          "KM-label": 3,
          "digit": 6,
          "tSNE-1": 39.754051208496094,
          "tSNE-2": -6.564516544342041
         },
         {
          "KM-label": 5,
          "digit": 1,
          "tSNE-1": -45.37901306152344,
          "tSNE-2": 8.519624710083008
         },
         {
          "KM-label": 8,
          "digit": 7,
          "tSNE-1": -3.403520345687866,
          "tSNE-2": 38.04314041137695
         },
         {
          "KM-label": 1,
          "digit": 5,
          "tSNE-1": 6.33069372177124,
          "tSNE-2": -18.939178466796875
         },
         {
          "KM-label": 4,
          "digit": 4,
          "tSNE-1": 38.948974609375,
          "tSNE-2": 29.374765396118164
         },
         {
          "KM-label": 4,
          "digit": 4,
          "tSNE-1": 34.896751403808594,
          "tSNE-2": 27.068340301513672
         },
         {
          "KM-label": 8,
          "digit": 7,
          "tSNE-1": -8.09077262878418,
          "tSNE-2": 39.164878845214844
         },
         {
          "KM-label": 5,
          "digit": 2,
          "tSNE-1": -30.49197769165039,
          "tSNE-2": 15.362550735473633
         },
         {
          "KM-label": 6,
          "digit": 8,
          "tSNE-1": -12.344403266906738,
          "tSNE-2": 13.946660041809082
         },
         {
          "KM-label": 5,
          "digit": 2,
          "tSNE-1": -30.642833709716797,
          "tSNE-2": 20.624542236328125
         },
         {
          "KM-label": 5,
          "digit": 2,
          "tSNE-1": -30.909074783325195,
          "tSNE-2": 15.838066101074219
         },
         {
          "KM-label": 1,
          "digit": 5,
          "tSNE-1": 8.371936798095703,
          "tSNE-2": -23.217439651489258
         },
         {
          "KM-label": 8,
          "digit": 7,
          "tSNE-1": -3.732809543609619,
          "tSNE-2": 36.40761184692383
         },
         {
          "KM-label": 0,
          "digit": 9,
          "tSNE-1": -14.866129875183105,
          "tSNE-2": -21.54049301147461
         },
         {
          "KM-label": 0,
          "digit": 5,
          "tSNE-1": 5.601022243499756,
          "tSNE-2": -21.592235565185547
         },
         {
          "KM-label": 8,
          "digit": 4,
          "tSNE-1": 34.48405838012695,
          "tSNE-2": 30.817136764526367
         },
         {
          "KM-label": 7,
          "digit": 8,
          "tSNE-1": -12.064526557922363,
          "tSNE-2": 13.20004940032959
         },
         {
          "KM-label": 6,
          "digit": 8,
          "tSNE-1": -13.600140571594238,
          "tSNE-2": 12.540712356567383
         },
         {
          "KM-label": 4,
          "digit": 4,
          "tSNE-1": 34.68198013305664,
          "tSNE-2": 30.162534713745117
         },
         {
          "KM-label": 0,
          "digit": 9,
          "tSNE-1": -8.684137344360352,
          "tSNE-2": -21.25867462158203
         },
         {
          "KM-label": 2,
          "digit": 0,
          "tSNE-1": -3.3721883296966553,
          "tSNE-2": -41.871307373046875
         },
         {
          "KM-label": 6,
          "digit": 8,
          "tSNE-1": -13.617961883544922,
          "tSNE-2": 12.317193031311035
         },
         {
          "KM-label": 0,
          "digit": 9,
          "tSNE-1": -18.13170051574707,
          "tSNE-2": -23.71091651916504
         },
         {
          "KM-label": 6,
          "digit": 8,
          "tSNE-1": -12.318973541259766,
          "tSNE-2": 13.2071533203125
         },
         {
          "KM-label": 2,
          "digit": 0,
          "tSNE-1": -1.1937555074691772,
          "tSNE-2": -39.5279655456543
         },
         {
          "KM-label": 6,
          "digit": 1,
          "tSNE-1": 1.506990671157837,
          "tSNE-2": 13.822059631347656
         },
         {
          "KM-label": 5,
          "digit": 2,
          "tSNE-1": -25.99718475341797,
          "tSNE-2": 23.536273956298828
         },
         {
          "KM-label": 9,
          "digit": 3,
          "tSNE-1": -32.13149642944336,
          "tSNE-2": -8.5006742477417
         },
         {
          "KM-label": 4,
          "digit": 4,
          "tSNE-1": 32.090240478515625,
          "tSNE-2": 13.442970275878906
         },
         {
          "KM-label": 1,
          "digit": 5,
          "tSNE-1": 12.049468994140625,
          "tSNE-2": -20.88974952697754
         },
         {
          "KM-label": 3,
          "digit": 6,
          "tSNE-1": 39.99922180175781,
          "tSNE-2": -12.50613784790039
         },
         {
          "KM-label": 8,
          "digit": 7,
          "tSNE-1": -3.741737127304077,
          "tSNE-2": 37.781314849853516
         },
         {
          "KM-label": 0,
          "digit": 8,
          "tSNE-1": -12.06761360168457,
          "tSNE-2": 1.5787508487701416
         },
         {
          "KM-label": 7,
          "digit": 9,
          "tSNE-1": 20.05681800842285,
          "tSNE-2": 17.497547149658203
         },
         {
          "KM-label": 2,
          "digit": 0,
          "tSNE-1": -10.201860427856445,
          "tSNE-2": -40.796974182128906
         },
         {
          "KM-label": 6,
          "digit": 1,
          "tSNE-1": 2.3275434970855713,
          "tSNE-2": 11.259859085083008
         },
         {
          "KM-label": 5,
          "digit": 2,
          "tSNE-1": -25.491313934326172,
          "tSNE-2": 23.932861328125
         },
         {
          "KM-label": 9,
          "digit": 3,
          "tSNE-1": -33.27431106567383,
          "tSNE-2": -9.200654029846191
         },
         {
          "KM-label": 4,
          "digit": 4,
          "tSNE-1": 32.27455139160156,
          "tSNE-2": 13.049735069274902
         },
         {
          "KM-label": 1,
          "digit": 5,
          "tSNE-1": 14.29206657409668,
          "tSNE-2": -8.193424224853516
         },
         {
          "KM-label": 3,
          "digit": 6,
          "tSNE-1": 40.07100296020508,
          "tSNE-2": -13.212273597717285
         },
         {
          "KM-label": 8,
          "digit": 7,
          "tSNE-1": 3.7425050735473633,
          "tSNE-2": 42.76850128173828
         },
         {
          "KM-label": 6,
          "digit": 8,
          "tSNE-1": -7.600067615509033,
          "tSNE-2": 2.4703633785247803
         },
         {
          "KM-label": 7,
          "digit": 9,
          "tSNE-1": 20.902921676635742,
          "tSNE-2": 16.558731079101562
         },
         {
          "KM-label": 2,
          "digit": 0,
          "tSNE-1": -0.7584828734397888,
          "tSNE-2": -39.8410530090332
         },
         {
          "KM-label": 6,
          "digit": 1,
          "tSNE-1": 2.75260591506958,
          "tSNE-2": 10.902083396911621
         },
         {
          "KM-label": 5,
          "digit": 2,
          "tSNE-1": -26.630264282226562,
          "tSNE-2": 21.985652923583984
         },
         {
          "KM-label": 9,
          "digit": 3,
          "tSNE-1": -30.647216796875,
          "tSNE-2": -8.124719619750977
         },
         {
          "KM-label": 7,
          "digit": 4,
          "tSNE-1": 32.62502670288086,
          "tSNE-2": 16.219303131103516
         },
         {
          "KM-label": 1,
          "digit": 5,
          "tSNE-1": 14.150615692138672,
          "tSNE-2": -7.9241814613342285
         },
         {
          "KM-label": 3,
          "digit": 6,
          "tSNE-1": 40.10162353515625,
          "tSNE-2": -13.599695205688477
         },
         {
          "KM-label": 8,
          "digit": 7,
          "tSNE-1": 8.015474319458008,
          "tSNE-2": 42.06111145019531
         },
         {
          "KM-label": 0,
          "digit": 8,
          "tSNE-1": -11.991485595703125,
          "tSNE-2": 1.549700140953064
         },
         {
          "KM-label": 7,
          "digit": 9,
          "tSNE-1": 20.07546043395996,
          "tSNE-2": 16.844310760498047
         },
         {
          "KM-label": 2,
          "digit": 0,
          "tSNE-1": -5.59226131439209,
          "tSNE-2": -42.71749496459961
         },
         {
          "KM-label": 7,
          "digit": 9,
          "tSNE-1": 21.06826400756836,
          "tSNE-2": 16.285337448120117
         },
         {
          "KM-label": 4,
          "digit": 5,
          "tSNE-1": 13.638041496276855,
          "tSNE-2": -20.206546783447266
         },
         {
          "KM-label": 1,
          "digit": 5,
          "tSNE-1": 14.516252517700195,
          "tSNE-2": -9.91469669342041
         },
         {
          "KM-label": 3,
          "digit": 6,
          "tSNE-1": 41.714134216308594,
          "tSNE-2": -13.177763938903809
         },
         {
          "KM-label": 1,
          "digit": 5,
          "tSNE-1": 14.700806617736816,
          "tSNE-2": -7.858936309814453
         },
         {
          "KM-label": 2,
          "digit": 0,
          "tSNE-1": -1.2153338193893433,
          "tSNE-2": -48.23094177246094
         },
         {
          "KM-label": 7,
          "digit": 9,
          "tSNE-1": 18.4168758392334,
          "tSNE-2": 11.007519721984863
         },
         {
          "KM-label": 6,
          "digit": 8,
          "tSNE-1": -8.702742576599121,
          "tSNE-2": 2.599174976348877
         },
         {
          "KM-label": 7,
          "digit": 9,
          "tSNE-1": 20.645183563232422,
          "tSNE-2": 16.6243953704834
         },
         {
          "KM-label": 0,
          "digit": 8,
          "tSNE-1": -9.068842887878418,
          "tSNE-2": 2.3508663177490234
         },
         {
          "KM-label": 4,
          "digit": 4,
          "tSNE-1": 31.298877716064453,
          "tSNE-2": 14.852838516235352
         },
         {
          "KM-label": 6,
          "digit": 1,
          "tSNE-1": -1.5020757913589478,
          "tSNE-2": 14.969996452331543
         },
         {
          "KM-label": 8,
          "digit": 7,
          "tSNE-1": 7.823298931121826,
          "tSNE-2": 41.85330581665039
         },
         {
          "KM-label": 7,
          "digit": 7,
          "tSNE-1": 7.8759379386901855,
          "tSNE-2": 41.811038970947266
         },
         {
          "KM-label": 9,
          "digit": 3,
          "tSNE-1": -36.082645416259766,
          "tSNE-2": -7.494668006896973
         },
         {
          "KM-label": 1,
          "digit": 5,
          "tSNE-1": 12.921142578125,
          "tSNE-2": -8.018924713134766
         },
         {
          "KM-label": 6,
          "digit": 1,
          "tSNE-1": -1.4737740755081177,
          "tSNE-2": 14.834826469421387
         },
         {
          "KM-label": 2,
          "digit": 0,
          "tSNE-1": -0.4709733724594116,
          "tSNE-2": -41.88134765625
         },
         {
          "KM-label": 2,
          "digit": 0,
          "tSNE-1": -8.72189998626709,
          "tSNE-2": -42.34387969970703
         },
         {
          "KM-label": 9,
          "digit": 2,
          "tSNE-1": -24.8692684173584,
          "tSNE-2": 19.05465316772461
         },
         {
          "KM-label": 5,
          "digit": 2,
          "tSNE-1": -25.056079864501953,
          "tSNE-2": 21.251039505004883
         },
         {
          "KM-label": 8,
          "digit": 7,
          "tSNE-1": 4.534804344177246,
          "tSNE-2": 41.587764739990234
         },
         {
          "KM-label": 6,
          "digit": 8,
          "tSNE-1": -7.016996383666992,
          "tSNE-2": 2.869636058807373
         },
         {
          "KM-label": 6,
          "digit": 2,
          "tSNE-1": -24.263216018676758,
          "tSNE-2": 18.739360809326172
         },
         {
          "KM-label": 2,
          "digit": 0,
          "tSNE-1": 3.1519863605499268,
          "tSNE-2": -42.38329315185547
         },
         {
          "KM-label": 6,
          "digit": 1,
          "tSNE-1": 3.334420680999756,
          "tSNE-2": 17.465768814086914
         },
         {
          "KM-label": 0,
          "digit": 2,
          "tSNE-1": -24.391056060791016,
          "tSNE-2": 18.65081787109375
         },
         {
          "KM-label": 3,
          "digit": 6,
          "tSNE-1": 42.675235748291016,
          "tSNE-2": -12.455029487609863
         },
         {
          "KM-label": 9,
          "digit": 3,
          "tSNE-1": -33.7916259765625,
          "tSNE-2": -8.719982147216797
         },
         {
          "KM-label": 9,
          "digit": 3,
          "tSNE-1": -32.43812561035156,
          "tSNE-2": -8.427169799804688
         },
         {
          "KM-label": 8,
          "digit": 7,
          "tSNE-1": 4.651038646697998,
          "tSNE-2": 42.172916412353516
         },
         {
          "KM-label": 9,
          "digit": 3,
          "tSNE-1": -34.28754806518555,
          "tSNE-2": -9.300663948059082
         },
         {
          "KM-label": 9,
          "digit": 3,
          "tSNE-1": -30.866771697998047,
          "tSNE-2": -7.549587726593018
         },
         {
          "KM-label": 4,
          "digit": 4,
          "tSNE-1": 30.854646682739258,
          "tSNE-2": 15.420680046081543
         },
         {
          "KM-label": 3,
          "digit": 6,
          "tSNE-1": 40.29874038696289,
          "tSNE-2": -15.940736770629883
         },
         {
          "KM-label": 3,
          "digit": 6,
          "tSNE-1": 37.4152946472168,
          "tSNE-2": -12.070930480957031
         },
         {
          "KM-label": 3,
          "digit": 6,
          "tSNE-1": 41.665306091308594,
          "tSNE-2": -15.672866821289062
         },
         {
          "KM-label": 4,
          "digit": 4,
          "tSNE-1": 32.7251091003418,
          "tSNE-2": 13.409893989562988
         },
         {
          "KM-label": 7,
          "digit": 9,
          "tSNE-1": 20.316621780395508,
          "tSNE-2": 16.504615783691406
         },
         {
          "KM-label": 6,
          "digit": 1,
          "tSNE-1": 1.3803125619888306,
          "tSNE-2": 9.922319412231445
         },
         {
          "KM-label": 1,
          "digit": 5,
          "tSNE-1": 13.110636711120605,
          "tSNE-2": -19.069063186645508
         },
         {
          "KM-label": 2,
          "digit": 0,
          "tSNE-1": -0.0601218119263649,
          "tSNE-2": -41.518829345703125
         },
         {
          "KM-label": 7,
          "digit": 9,
          "tSNE-1": 20.272851943969727,
          "tSNE-2": 15.503934860229492
         },
         {
          "KM-label": 1,
          "digit": 5,
          "tSNE-1": 13.277637481689453,
          "tSNE-2": -19.298648834228516
         },
         {
          "KM-label": 9,
          "digit": 2,
          "tSNE-1": -24.91898536682129,
          "tSNE-2": 19.864656448364258
         },
         {
          "KM-label": 0,
          "digit": 8,
          "tSNE-1": -11.94359016418457,
          "tSNE-2": -1.5062100887298584
         },
         {
          "KM-label": 5,
          "digit": 2,
          "tSNE-1": -25.681255340576172,
          "tSNE-2": 24.626405715942383
         },
         {
          "KM-label": 2,
          "digit": 0,
          "tSNE-1": 0.21911899745464325,
          "tSNE-2": -39.866397857666016
         },
         {
          "KM-label": 2,
          "digit": 0,
          "tSNE-1": -4.536483287811279,
          "tSNE-2": -43.60521697998047
         },
         {
          "KM-label": 6,
          "digit": 1,
          "tSNE-1": 3.1993558406829834,
          "tSNE-2": 17.64027976989746
         },
         {
          "KM-label": 8,
          "digit": 7,
          "tSNE-1": 5.19630241394043,
          "tSNE-2": 41.72865676879883
         },
         {
          "KM-label": 3,
          "digit": 6,
          "tSNE-1": 39.78514862060547,
          "tSNE-2": -13.886893272399902
         },
         {
          "KM-label": 9,
          "digit": 3,
          "tSNE-1": -33.13072967529297,
          "tSNE-2": -8.586103439331055
         },
         {
          "KM-label": 5,
          "digit": 2,
          "tSNE-1": -30.487123489379883,
          "tSNE-2": 26.774131774902344
         },
         {
          "KM-label": 6,
          "digit": 1,
          "tSNE-1": 1.7341549396514893,
          "tSNE-2": 8.764026641845703
         },
         {
          "KM-label": 8,
          "digit": 7,
          "tSNE-1": 7.806973934173584,
          "tSNE-2": 42.011558532714844
         },
         {
          "KM-label": 4,
          "digit": 4,
          "tSNE-1": 32.54283142089844,
          "tSNE-2": 13.663229942321777
         },
         {
          "KM-label": 3,
          "digit": 6,
          "tSNE-1": 35.67107009887695,
          "tSNE-2": -7.950676441192627
         },
         {
          "KM-label": 9,
          "digit": 3,
          "tSNE-1": -34.53968811035156,
          "tSNE-2": -9.33368968963623
         },
         {
          "KM-label": 6,
          "digit": 1,
          "tSNE-1": 2.154710054397583,
          "tSNE-2": 9.02964973449707
         },
         {
          "KM-label": 9,
          "digit": 3,
          "tSNE-1": -24.91067886352539,
          "tSNE-2": -10.021228790283203
         },
         {
          "KM-label": 7,
          "digit": 9,
          "tSNE-1": 20.012983322143555,
          "tSNE-2": 15.781343460083008
         },
         {
          "KM-label": 6,
          "digit": 1,
          "tSNE-1": 1.1823441982269287,
          "tSNE-2": 10.450995445251465
         },
         {
          "KM-label": 8,
          "digit": 7,
          "tSNE-1": 5.373410224914551,
          "tSNE-2": 41.64988327026367
         },
         {
          "KM-label": 3,
          "digit": 6,
          "tSNE-1": 39.93904113769531,
          "tSNE-2": -16.17291831970215
         },
         {
          "KM-label": 6,
          "digit": 8,
          "tSNE-1": -7.660111427307129,
          "tSNE-2": 4.146884441375732
         },
         {
          "KM-label": 4,
          "digit": 4,
          "tSNE-1": 35.190826416015625,
          "tSNE-2": 30.15557289123535
         },
         {
          "KM-label": 9,
          "digit": 3,
          "tSNE-1": -24.939315795898438,
          "tSNE-2": -10.046727180480957
         },
         {
          "KM-label": 6,
          "digit": 1,
          "tSNE-1": 1.2327207326889038,
          "tSNE-2": 9.646285057067871
         },
         {
          "KM-label": 8,
          "digit": 4,
          "tSNE-1": 27.774473190307617,
          "tSNE-2": 29.943574905395508
         },
         {
          "KM-label": 2,
          "digit": 0,
          "tSNE-1": -0.6223189830780029,
          "tSNE-2": -43.43673324584961
         },
         {
          "KM-label": 1,
          "digit": 5,
          "tSNE-1": 10.72463607788086,
          "tSNE-2": -19.022668838500977
         },
         {
          "KM-label": 9,
          "digit": 3,
          "tSNE-1": -29.96123695373535,
          "tSNE-2": -7.928648471832275
         },
         {
          "KM-label": 3,
          "digit": 6,
          "tSNE-1": 35.424137115478516,
          "tSNE-2": -7.9277424812316895
         },
         {
          "KM-label": 7,
          "digit": 9,
          "tSNE-1": 21.263240814208984,
          "tSNE-2": 16.587631225585938
         },
         {
          "KM-label": 3,
          "digit": 6,
          "tSNE-1": 35.25890350341797,
          "tSNE-2": -7.996818542480469
         },
         {
          "KM-label": 6,
          "digit": 1,
          "tSNE-1": 1.1538695096969604,
          "tSNE-2": 14.049189567565918
         },
         {
          "KM-label": 8,
          "digit": 7,
          "tSNE-1": 5.512563705444336,
          "tSNE-2": 41.873409271240234
         },
         {
          "KM-label": 1,
          "digit": 5,
          "tSNE-1": 12.779901504516602,
          "tSNE-2": -7.516816139221191
         },
         {
          "KM-label": 4,
          "digit": 4,
          "tSNE-1": 39.038997650146484,
          "tSNE-2": 29.43535614013672
         },
         {
          "KM-label": 8,
          "digit": 4,
          "tSNE-1": 27.980432510375977,
          "tSNE-2": 29.467836380004883
         },
         {
          "KM-label": 8,
          "digit": 7,
          "tSNE-1": 6.327795028686523,
          "tSNE-2": 41.72214889526367
         },
         {
          "KM-label": 5,
          "digit": 2,
          "tSNE-1": -25.679401397705078,
          "tSNE-2": 22.546083450317383
         },
         {
          "KM-label": 6,
          "digit": 8,
          "tSNE-1": -4.288358211517334,
          "tSNE-2": 4.043455600738525
         },
         {
          "KM-label": 5,
          "digit": 2,
          "tSNE-1": -25.37782096862793,
          "tSNE-2": 22.365074157714844
         },
         {
          "KM-label": 5,
          "digit": 2,
          "tSNE-1": -26.04353141784668,
          "tSNE-2": 23.007280349731445
         },
         {
          "KM-label": 1,
          "digit": 5,
          "tSNE-1": 14.190505981445312,
          "tSNE-2": -6.718461990356445
         },
         {
          "KM-label": 8,
          "digit": 7,
          "tSNE-1": -3.226968288421631,
          "tSNE-2": 37.42529296875
         },
         {
          "KM-label": 7,
          "digit": 9,
          "tSNE-1": 20.752777099609375,
          "tSNE-2": 17.156986236572266
         },
         {
          "KM-label": 1,
          "digit": 5,
          "tSNE-1": 14.80303955078125,
          "tSNE-2": -3.667015790939331
         },
         {
          "KM-label": 4,
          "digit": 4,
          "tSNE-1": 39.48841857910156,
          "tSNE-2": 28.714492797851562
         },
         {
          "KM-label": 0,
          "digit": 8,
          "tSNE-1": -11.369888305664062,
          "tSNE-2": 0.08828727900981903
         },
         {
          "KM-label": 6,
          "digit": 8,
          "tSNE-1": -2.831526041030884,
          "tSNE-2": 4.862451553344727
         },
         {
          "KM-label": 8,
          "digit": 4,
          "tSNE-1": 27.922969818115234,
          "tSNE-2": 29.659318923950195
         },
         {
          "KM-label": 7,
          "digit": 9,
          "tSNE-1": 19.86802864074707,
          "tSNE-2": 17.030359268188477
         },
         {
          "KM-label": 2,
          "digit": 0,
          "tSNE-1": -0.618613600730896,
          "tSNE-2": -41.78376007080078
         },
         {
          "KM-label": 0,
          "digit": 8,
          "tSNE-1": -11.775761604309082,
          "tSNE-2": 1.8272392749786377
         },
         {
          "KM-label": 7,
          "digit": 9,
          "tSNE-1": 21.05299949645996,
          "tSNE-2": 17.81235122680664
         },
         {
          "KM-label": 6,
          "digit": 8,
          "tSNE-1": -6.342024326324463,
          "tSNE-2": 3.4977595806121826
         },
         {
          "KM-label": 2,
          "digit": 0,
          "tSNE-1": -10.456686973571777,
          "tSNE-2": -44.937713623046875
         },
         {
          "KM-label": 6,
          "digit": 1,
          "tSNE-1": 5.575957298278809,
          "tSNE-2": 16.414329528808594
         },
         {
          "KM-label": 5,
          "digit": 2,
          "tSNE-1": -31.365930557250977,
          "tSNE-2": 24.964885711669922
         },
         {
          "KM-label": 9,
          "digit": 3,
          "tSNE-1": -25.06736183166504,
          "tSNE-2": -9.242158889770508
         },
         {
          "KM-label": 4,
          "digit": 4,
          "tSNE-1": 39.78630828857422,
          "tSNE-2": 26.123825073242188
         },
         {
          "KM-label": 1,
          "digit": 5,
          "tSNE-1": 9.632722854614258,
          "tSNE-2": -8.562318801879883
         },
         {
          "KM-label": 3,
          "digit": 6,
          "tSNE-1": 27.644397735595703,
          "tSNE-2": -14.844504356384277
         },
         {
          "KM-label": 8,
          "digit": 7,
          "tSNE-1": 1.8694634437561035,
          "tSNE-2": 37.059879302978516
         },
         {
          "KM-label": 3,
          "digit": 8,
          "tSNE-1": -19.645944595336914,
          "tSNE-2": 8.02583122253418
         },
         {
          "KM-label": 0,
          "digit": 9,
          "tSNE-1": -15.767749786376953,
          "tSNE-2": -21.546350479125977
         },
         {
          "KM-label": 2,
          "digit": 0,
          "tSNE-1": -5.098923683166504,
          "tSNE-2": -51.110321044921875
         },
         {
          "KM-label": 6,
          "digit": 1,
          "tSNE-1": 5.159454345703125,
          "tSNE-2": 18.099485397338867
         },
         {
          "KM-label": 5,
          "digit": 2,
          "tSNE-1": -32.33876419067383,
          "tSNE-2": 23.768714904785156
         },
         {
          "KM-label": 9,
          "digit": 3,
          "tSNE-1": -27.636816024780273,
          "tSNE-2": -9.601792335510254
         },
         {
          "KM-label": 4,
          "digit": 4,
          "tSNE-1": 37.7769660949707,
          "tSNE-2": 25.36328887939453
         },
         {
          "KM-label": 1,
          "digit": 5,
          "tSNE-1": 11.844595909118652,
          "tSNE-2": -3.7831978797912598
         },
         {
          "KM-label": 2,
          "digit": 6,
          "tSNE-1": 27.19463348388672,
          "tSNE-2": -15.20622444152832
         },
         {
          "KM-label": 8,
          "digit": 7,
          "tSNE-1": -3.976839303970337,
          "tSNE-2": 39.431636810302734
         },
         {
          "KM-label": 7,
          "digit": 8,
          "tSNE-1": 13.078590393066406,
          "tSNE-2": 9.069722175598145
         },
         {
          "KM-label": 0,
          "digit": 9,
          "tSNE-1": -7.148631572723389,
          "tSNE-2": -22.5924072265625
         },
         {
          "KM-label": 2,
          "digit": 0,
          "tSNE-1": -9.614869117736816,
          "tSNE-2": -43.615055084228516
         },
         {
          "KM-label": 6,
          "digit": 1,
          "tSNE-1": 3.646042823791504,
          "tSNE-2": 16.997493743896484
         },
         {
          "KM-label": 5,
          "digit": 2,
          "tSNE-1": -30.8518009185791,
          "tSNE-2": 26.50440788269043
         },
         {
          "KM-label": 9,
          "digit": 3,
          "tSNE-1": -28.73979377746582,
          "tSNE-2": -10.57914924621582
         },
         {
          "KM-label": 4,
          "digit": 4,
          "tSNE-1": 38.33104705810547,
          "tSNE-2": 27.46231460571289
         },
         {
          "KM-label": 1,
          "digit": 5,
          "tSNE-1": 12.384632110595703,
          "tSNE-2": -4.381190299987793
         },
         {
          "KM-label": 3,
          "digit": 6,
          "tSNE-1": 29.69796371459961,
          "tSNE-2": -13.539222717285156
         },
         {
          "KM-label": 8,
          "digit": 7,
          "tSNE-1": -3.058068037033081,
          "tSNE-2": 40.05027770996094
         },
         {
          "KM-label": 6,
          "digit": 8,
          "tSNE-1": -5.168488502502441,
          "tSNE-2": 4.21281099319458
         },
         {
          "KM-label": 0,
          "digit": 9,
          "tSNE-1": -18.409130096435547,
          "tSNE-2": -23.817432403564453
         },
         {
          "KM-label": 2,
          "digit": 0,
          "tSNE-1": -5.760025501251221,
          "tSNE-2": -44.757537841796875
         },
         {
          "KM-label": 0,
          "digit": 9,
          "tSNE-1": -8.009631156921387,
          "tSNE-2": -22.660446166992188
         },
         {
          "KM-label": 1,
          "digit": 5,
          "tSNE-1": 7.7732038497924805,
          "tSNE-2": -7.60096549987793
         },
         {
          "KM-label": 1,
          "digit": 5,
          "tSNE-1": 13.249178886413574,
          "tSNE-2": -6.2975263595581055
         },
         {
          "KM-label": 3,
          "digit": 6,
          "tSNE-1": 36.773353576660156,
          "tSNE-2": -19.433252334594727
         },
         {
          "KM-label": 1,
          "digit": 5,
          "tSNE-1": 9.512163162231445,
          "tSNE-2": -8.198412895202637
         },
         {
          "KM-label": 2,
          "digit": 0,
          "tSNE-1": -5.612715244293213,
          "tSNE-2": -44.01470947265625
         },
         {
          "KM-label": 0,
          "digit": 9,
          "tSNE-1": -18.703556060791016,
          "tSNE-2": -7.589884281158447
         },
         {
          "KM-label": 0,
          "digit": 8,
          "tSNE-1": -12.161103248596191,
          "tSNE-2": -2.9523301124572754
         },
         {
          "KM-label": 0,
          "digit": 9,
          "tSNE-1": -8.739333152770996,
          "tSNE-2": -22.01420783996582
         },
         {
          "KM-label": 0,
          "digit": 8,
          "tSNE-1": -8.159210205078125,
          "tSNE-2": -4.93149471282959
         },
         {
          "KM-label": 4,
          "digit": 4,
          "tSNE-1": 37.38759231567383,
          "tSNE-2": 22.070417404174805
         },
         {
          "KM-label": 6,
          "digit": 1,
          "tSNE-1": -1.2306865453720093,
          "tSNE-2": 12.529339790344238
         },
         {
          "KM-label": 8,
          "digit": 7,
          "tSNE-1": -7.68306827545166,
          "tSNE-2": 40.94368362426758
         },
         {
          "KM-label": 8,
          "digit": 7,
          "tSNE-1": 2.4712913036346436,
          "tSNE-2": 37.500450134277344
         },
         {
          "KM-label": 9,
          "digit": 3,
          "tSNE-1": -27.68189239501953,
          "tSNE-2": -8.044081687927246
         },
         {
          "KM-label": 1,
          "digit": 5,
          "tSNE-1": 10.059859275817871,
          "tSNE-2": -7.676549434661865
         },
         {
          "KM-label": 6,
          "digit": 1,
          "tSNE-1": 1.1725802421569824,
          "tSNE-2": 12.819018363952637
         },
         {
          "KM-label": 2,
          "digit": 0,
          "tSNE-1": -0.12504419684410095,
          "tSNE-2": -45.940635681152344
         },
         {
          "KM-label": 2,
          "digit": 0,
          "tSNE-1": -6.0549702644348145,
          "tSNE-2": -40.539730072021484
         },
         {
          "KM-label": 5,
          "digit": 2,
          "tSNE-1": -28.01081085205078,
          "tSNE-2": 24.812591552734375
         },
         {
          "KM-label": 5,
          "digit": 2,
          "tSNE-1": -33.54444885253906,
          "tSNE-2": 27.24095916748047
         },
         {
          "KM-label": 8,
          "digit": 7,
          "tSNE-1": -7.722430229187012,
          "tSNE-2": 42.09841537475586
         },
         {
          "KM-label": 0,
          "digit": 8,
          "tSNE-1": -8.006219863891602,
          "tSNE-2": -5.082705020904541
         },
         {
          "KM-label": 5,
          "digit": 2,
          "tSNE-1": -30.315412521362305,
          "tSNE-2": 26.309345245361328
         },
         {
          "KM-label": 2,
          "digit": 0,
          "tSNE-1": -2.2771568298339844,
          "tSNE-2": -38.67229080200195
         },
         {
          "KM-label": 5,
          "digit": 1,
          "tSNE-1": -45.89192581176758,
          "tSNE-2": 12.594329833984375
         },
         {
          "KM-label": 5,
          "digit": 2,
          "tSNE-1": -36.01179504394531,
          "tSNE-2": 23.14518928527832
         },
         {
          "KM-label": 3,
          "digit": 6,
          "tSNE-1": 34.25940704345703,
          "tSNE-2": -6.083931922912598
         },
         {
          "KM-label": 9,
          "digit": 3,
          "tSNE-1": -27.272642135620117,
          "tSNE-2": -7.677350044250488
         },
         {
          "KM-label": 9,
          "digit": 3,
          "tSNE-1": -27.307361602783203,
          "tSNE-2": -7.4218926429748535
         },
         {
          "KM-label": 8,
          "digit": 7,
          "tSNE-1": -2.3950135707855225,
          "tSNE-2": 40.55443572998047
         },
         {
          "KM-label": 9,
          "digit": 3,
          "tSNE-1": -33.27177810668945,
          "tSNE-2": -5.903883934020996
         },
         {
          "KM-label": 9,
          "digit": 3,
          "tSNE-1": -32.65744400024414,
          "tSNE-2": -5.439431190490723
         },
         {
          "KM-label": 4,
          "digit": 4,
          "tSNE-1": 36.77238082885742,
          "tSNE-2": 26.160886764526367
         },
         {
          "KM-label": 3,
          "digit": 6,
          "tSNE-1": 31.711666107177734,
          "tSNE-2": -13.85783863067627
         },
         {
          "KM-label": 3,
          "digit": 6,
          "tSNE-1": 36.736637115478516,
          "tSNE-2": -19.577037811279297
         },
         {
          "KM-label": 3,
          "digit": 6,
          "tSNE-1": 27.540084838867188,
          "tSNE-2": -14.817513465881348
         },
         {
          "KM-label": 4,
          "digit": 4,
          "tSNE-1": 38.3244743347168,
          "tSNE-2": 26.80794334411621
         },
         {
          "KM-label": 0,
          "digit": 9,
          "tSNE-1": -18.479965209960938,
          "tSNE-2": -23.699129104614258
         },
         {
          "KM-label": 6,
          "digit": 1,
          "tSNE-1": -0.015176764689385891,
          "tSNE-2": 16.24019432067871
         },
         {
          "KM-label": 1,
          "digit": 5,
          "tSNE-1": 7.902376174926758,
          "tSNE-2": -7.4319987297058105
         },
         {
          "KM-label": 2,
          "digit": 0,
          "tSNE-1": 0.9958565831184387,
          "tSNE-2": -42.09645462036133
         },
         {
          "KM-label": 0,
          "digit": 9,
          "tSNE-1": -13.481954574584961,
          "tSNE-2": -17.725629806518555
         },
         {
          "KM-label": 1,
          "digit": 5,
          "tSNE-1": 8.706284523010254,
          "tSNE-2": -6.964797019958496
         },
         {
          "KM-label": 5,
          "digit": 2,
          "tSNE-1": -31.510990142822266,
          "tSNE-2": 27.082406997680664
         },
         {
          "KM-label": 6,
          "digit": 8,
          "tSNE-1": -7.2580413818359375,
          "tSNE-2": 0.06416212767362595
         },
         {
          "KM-label": 5,
          "digit": 2,
          "tSNE-1": -33.1427001953125,
          "tSNE-2": 26.985994338989258
         },
         {
          "KM-label": 2,
          "digit": 0,
          "tSNE-1": 2.4311742782592773,
          "tSNE-2": -41.10631561279297
         },
         {
          "KM-label": 2,
          "digit": 0,
          "tSNE-1": -6.688220977783203,
          "tSNE-2": -46.48457336425781
         },
         {
          "KM-label": 6,
          "digit": 1,
          "tSNE-1": 3.1327762603759766,
          "tSNE-2": 11.032557487487793
         },
         {
          "KM-label": 8,
          "digit": 7,
          "tSNE-1": -2.216301202774048,
          "tSNE-2": 41.012813568115234
         },
         {
          "KM-label": 3,
          "digit": 6,
          "tSNE-1": 35.053382873535156,
          "tSNE-2": -15.580497741699219
         },
         {
          "KM-label": 9,
          "digit": 3,
          "tSNE-1": -30.115564346313477,
          "tSNE-2": -6.218019485473633
         },
         {
          "KM-label": 8,
          "digit": 2,
          "tSNE-1": -26.193357467651367,
          "tSNE-2": 16.943021774291992
         },
         {
          "KM-label": 6,
          "digit": 1,
          "tSNE-1": 2.3570199012756348,
          "tSNE-2": 14.207174301147461
         },
         {
          "KM-label": 8,
          "digit": 7,
          "tSNE-1": 1.2866361141204834,
          "tSNE-2": 41.93505859375
         },
         {
          "KM-label": 4,
          "digit": 4,
          "tSNE-1": 38.2836799621582,
          "tSNE-2": 19.424470901489258
         },
         {
          "KM-label": 3,
          "digit": 6,
          "tSNE-1": 28.744802474975586,
          "tSNE-2": -13.695646286010742
         },
         {
          "KM-label": 9,
          "digit": 3,
          "tSNE-1": -26.6617374420166,
          "tSNE-2": -10.613865852355957
         },
         {
          "KM-label": 6,
          "digit": 1,
          "tSNE-1": 4.044931411743164,
          "tSNE-2": 13.98350715637207
         },
         {
          "KM-label": 9,
          "digit": 3,
          "tSNE-1": -28.04491424560547,
          "tSNE-2": -10.905261039733887
         },
         {
          "KM-label": 0,
          "digit": 9,
          "tSNE-1": -8.136774063110352,
          "tSNE-2": -23.07110023498535
         },
         {
          "KM-label": 6,
          "digit": 1,
          "tSNE-1": 4.54752779006958,
          "tSNE-2": 13.670172691345215
         },
         {
          "KM-label": 8,
          "digit": 7,
          "tSNE-1": -7.376738548278809,
          "tSNE-2": 41.566505432128906
         },
         {
          "KM-label": 3,
          "digit": 6,
          "tSNE-1": 36.20262145996094,
          "tSNE-2": -17.03473472595215
         },
         {
          "KM-label": 5,
          "digit": 8,
          "tSNE-1": -19.58172035217285,
          "tSNE-2": 8.103219032287598
         },
         {
          "KM-label": 4,
          "digit": 4,
          "tSNE-1": 39.477664947509766,
          "tSNE-2": 26.751060485839844
         },
         {
          "KM-label": 9,
          "digit": 3,
          "tSNE-1": -27.269392013549805,
          "tSNE-2": -11.327534675598145
         },
         {
          "KM-label": 6,
          "digit": 1,
          "tSNE-1": 4.0759687423706055,
          "tSNE-2": 15.734908103942871
         },
         {
          "KM-label": 4,
          "digit": 4,
          "tSNE-1": 41.275447845458984,
          "tSNE-2": 21.338335037231445
         },
         {
          "KM-label": 2,
          "digit": 0,
          "tSNE-1": -7.419645309448242,
          "tSNE-2": -44.04756164550781
         },
         {
          "KM-label": 1,
          "digit": 5,
          "tSNE-1": 8.439637184143066,
          "tSNE-2": -8.452027320861816
         },
         {
          "KM-label": 9,
          "digit": 3,
          "tSNE-1": -30.38220977783203,
          "tSNE-2": -4.704189777374268
         },
         {
          "KM-label": 3,
          "digit": 6,
          "tSNE-1": 32.33230209350586,
          "tSNE-2": -6.672336101531982
         },
         {
          "KM-label": 0,
          "digit": 9,
          "tSNE-1": -18.206005096435547,
          "tSNE-2": -22.427444458007812
         },
         {
          "KM-label": 3,
          "digit": 6,
          "tSNE-1": 41.52748489379883,
          "tSNE-2": -14.110091209411621
         },
         {
          "KM-label": 6,
          "digit": 1,
          "tSNE-1": 0.3664652109146118,
          "tSNE-2": 16.516695022583008
         },
         {
          "KM-label": 8,
          "digit": 7,
          "tSNE-1": -3.5787250995635986,
          "tSNE-2": 41.32445526123047
         },
         {
          "KM-label": 1,
          "digit": 5,
          "tSNE-1": 12.55322265625,
          "tSNE-2": -5.460212230682373
         },
         {
          "KM-label": 4,
          "digit": 4,
          "tSNE-1": 38.373844146728516,
          "tSNE-2": 27.175880432128906
         },
         {
          "KM-label": 4,
          "digit": 4,
          "tSNE-1": 36.59619140625,
          "tSNE-2": 21.290624618530273
         },
         {
          "KM-label": 8,
          "digit": 7,
          "tSNE-1": -2.4466335773468018,
          "tSNE-2": 40.73300552368164
         },
         {
          "KM-label": 5,
          "digit": 2,
          "tSNE-1": -32.164039611816406,
          "tSNE-2": 27.14573097229004
         },
         {
          "KM-label": 7,
          "digit": 8,
          "tSNE-1": -6.480574131011963,
          "tSNE-2": -4.035349369049072
         },
         {
          "KM-label": 8,
          "digit": 2,
          "tSNE-1": -24.824851989746094,
          "tSNE-2": 15.179929733276367
         },
         {
          "KM-label": 5,
          "digit": 2,
          "tSNE-1": -26.840662002563477,
          "tSNE-2": 22.87700080871582
         },
         {
          "KM-label": 1,
          "digit": 5,
          "tSNE-1": 8.174076080322266,
          "tSNE-2": -9.899600982666016
         },
         {
          "KM-label": 8,
          "digit": 7,
          "tSNE-1": -8.599515914916992,
          "tSNE-2": 36.17095947265625
         },
         {
          "KM-label": 0,
          "digit": 9,
          "tSNE-1": -8.027652740478516,
          "tSNE-2": -24.019432067871094
         },
         {
          "KM-label": 1,
          "digit": 5,
          "tSNE-1": 11.955230712890625,
          "tSNE-2": -4.367555618286133
         },
         {
          "KM-label": 4,
          "digit": 4,
          "tSNE-1": 39.689693450927734,
          "tSNE-2": 26.08785057067871
         },
         {
          "KM-label": 7,
          "digit": 8,
          "tSNE-1": -6.743670463562012,
          "tSNE-2": -4.087762832641602
         },
         {
          "KM-label": 0,
          "digit": 8,
          "tSNE-1": -12.409588813781738,
          "tSNE-2": 7.534692764282227
         },
         {
          "KM-label": 4,
          "digit": 4,
          "tSNE-1": 40.42938995361328,
          "tSNE-2": 21.07478141784668
         },
         {
          "KM-label": 0,
          "digit": 9,
          "tSNE-1": -7.7832159996032715,
          "tSNE-2": -24.163761138916016
         },
         {
          "KM-label": 2,
          "digit": 0,
          "tSNE-1": -3.0036680698394775,
          "tSNE-2": -43.246864318847656
         },
         {
          "KM-label": 6,
          "digit": 8,
          "tSNE-1": -6.325486660003662,
          "tSNE-2": -3.9512810707092285
         },
         {
          "KM-label": 0,
          "digit": 9,
          "tSNE-1": -10.247939109802246,
          "tSNE-2": -23.627897262573242
         },
         {
          "KM-label": 6,
          "digit": 8,
          "tSNE-1": -19.662277221679688,
          "tSNE-2": 7.943734169006348
         },
         {
          "KM-label": 5,
          "digit": 1,
          "tSNE-1": -46.02595138549805,
          "tSNE-2": 12.235678672790527
         },
         {
          "KM-label": 5,
          "digit": 2,
          "tSNE-1": -31.458477020263672,
          "tSNE-2": 21.008438110351562
         },
         {
          "KM-label": 9,
          "digit": 3,
          "tSNE-1": -29.89781951904297,
          "tSNE-2": -15.439906120300293
         },
         {
          "KM-label": 4,
          "digit": 4,
          "tSNE-1": 36.42869567871094,
          "tSNE-2": 19.035497665405273
         },
         {
          "KM-label": 1,
          "digit": 5,
          "tSNE-1": 6.384963512420654,
          "tSNE-2": -18.39626693725586
         },
         {
          "KM-label": 3,
          "digit": 6,
          "tSNE-1": 43.47257614135742,
          "tSNE-2": -15.461679458618164
         },
         {
          "KM-label": 8,
          "digit": 7,
          "tSNE-1": 4.441746234893799,
          "tSNE-2": 34.45193099975586
         },
         {
          "KM-label": 0,
          "digit": 8,
          "tSNE-1": -13.042065620422363,
          "tSNE-2": 2.048640727996826
         },
         {
          "KM-label": 0,
          "digit": 9,
          "tSNE-1": -16.005569458007812,
          "tSNE-2": -24.458192825317383
         },
         {
          "KM-label": 2,
          "digit": 0,
          "tSNE-1": -7.968881130218506,
          "tSNE-2": -48.73045349121094
         },
         {
          "KM-label": 5,
          "digit": 1,
          "tSNE-1": -45.82757568359375,
          "tSNE-2": 12.349678039550781
         },
         {
          "KM-label": 5,
          "digit": 2,
          "tSNE-1": -35.53025817871094,
          "tSNE-2": 25.79392433166504
         },
         {
          "KM-label": 9,
          "digit": 3,
          "tSNE-1": -27.882232666015625,
          "tSNE-2": -13.751429557800293
         },
         {
          "KM-label": 4,
          "digit": 4,
          "tSNE-1": 36.72808074951172,
          "tSNE-2": 18.73418617248535
         },
         {
          "KM-label": 0,
          "digit": 5,
          "tSNE-1": 3.1483654975891113,
          "tSNE-2": -20.625370025634766
         },
         {
          "KM-label": 3,
          "digit": 6,
          "tSNE-1": 42.28917694091797,
          "tSNE-2": -14.385415077209473
         },
         {
          "KM-label": 8,
          "digit": 7,
          "tSNE-1": 2.581300735473633,
          "tSNE-2": 33.69004821777344
         },
         {
          "KM-label": 0,
          "digit": 8,
          "tSNE-1": -13.721907615661621,
          "tSNE-2": 0.988862156867981
         },
         {
          "KM-label": 0,
          "digit": 9,
          "tSNE-1": -14.933083534240723,
          "tSNE-2": -22.699522018432617
         },
         {
          "KM-label": 2,
          "digit": 0,
          "tSNE-1": -7.612825870513916,
          "tSNE-2": -48.39314270019531
         },
         {
          "KM-label": 5,
          "digit": 1,
          "tSNE-1": -46.16630935668945,
          "tSNE-2": 12.612865447998047
         },
         {
          "KM-label": 5,
          "digit": 2,
          "tSNE-1": -32.44244384765625,
          "tSNE-2": 19.989233016967773
         },
         {
          "KM-label": 9,
          "digit": 3,
          "tSNE-1": -26.57526206970215,
          "tSNE-2": -14.567764282226562
         },
         {
          "KM-label": 4,
          "digit": 4,
          "tSNE-1": 31.800050735473633,
          "tSNE-2": 19.28847312927246
         },
         {
          "KM-label": 0,
          "digit": 5,
          "tSNE-1": 1.5908901691436768,
          "tSNE-2": -21.69814109802246
         },
         {
          "KM-label": 3,
          "digit": 6,
          "tSNE-1": 40.59607696533203,
          "tSNE-2": -16.769973754882812
         },
         {
          "KM-label": 8,
          "digit": 7,
          "tSNE-1": 4.693721771240234,
          "tSNE-2": 34.86819839477539
         },
         {
          "KM-label": 0,
          "digit": 8,
          "tSNE-1": -13.824699401855469,
          "tSNE-2": 1.624668002128601
         },
         {
          "KM-label": 0,
          "digit": 9,
          "tSNE-1": -15.478034973144531,
          "tSNE-2": -23.914918899536133
         },
         {
          "KM-label": 2,
          "digit": 0,
          "tSNE-1": -3.4834866523742676,
          "tSNE-2": -45.862064361572266
         },
         {
          "KM-label": 0,
          "digit": 9,
          "tSNE-1": -12.215054512023926,
          "tSNE-2": -22.777965545654297
         },
         {
          "KM-label": 0,
          "digit": 5,
          "tSNE-1": 1.9269319772720337,
          "tSNE-2": -20.738197326660156
         },
         {
          "KM-label": 0,
          "digit": 5,
          "tSNE-1": 4.601713180541992,
          "tSNE-2": -19.295116424560547
         },
         {
          "KM-label": 3,
          "digit": 6,
          "tSNE-1": 37.49274826049805,
          "tSNE-2": -14.589581489562988
         },
         {
          "KM-label": 0,
          "digit": 5,
          "tSNE-1": 1.7834506034851074,
          "tSNE-2": -21.34108543395996
         },
         {
          "KM-label": 2,
          "digit": 0,
          "tSNE-1": -8.12105941772461,
          "tSNE-2": -47.46498489379883
         },
         {
          "KM-label": 0,
          "digit": 9,
          "tSNE-1": -16.32027244567871,
          "tSNE-2": -22.81683349609375
         },
         {
          "KM-label": 0,
          "digit": 8,
          "tSNE-1": -12.875984191894531,
          "tSNE-2": 1.38599693775177
         },
         {
          "KM-label": 0,
          "digit": 9,
          "tSNE-1": -14.496274948120117,
          "tSNE-2": -23.98056411743164
         },
         {
          "KM-label": 0,
          "digit": 8,
          "tSNE-1": -10.264764785766602,
          "tSNE-2": -0.6650420427322388
         },
         {
          "KM-label": 4,
          "digit": 4,
          "tSNE-1": 30.576900482177734,
          "tSNE-2": 22.07421112060547
         },
         {
          "KM-label": 9,
          "digit": 1,
          "tSNE-1": -45.04697036743164,
          "tSNE-2": 8.644474983215332
         },
         {
          "KM-label": 8,
          "digit": 7,
          "tSNE-1": 2.016061305999756,
          "tSNE-2": 34.18597412109375
         },
         {
          "KM-label": 8,
          "digit": 7,
          "tSNE-1": 6.1070780754089355,
          "tSNE-2": 35.98931121826172
         },
         {
          "KM-label": 9,
          "digit": 3,
          "tSNE-1": -26.903085708618164,
          "tSNE-2": -14.098321914672852
         },
         {
          "KM-label": 0,
          "digit": 5,
          "tSNE-1": 0.7442581057548523,
          "tSNE-2": -21.45733070373535
         },
         {
          "KM-label": 5,
          "digit": 1,
          "tSNE-1": -45.04307556152344,
          "tSNE-2": 10.332841873168945
         },
         {
          "KM-label": 5,
          "digit": 2,
          "tSNE-1": -33.388023376464844,
          "tSNE-2": 19.54728126525879
         },
         {
          "KM-label": 8,
          "digit": 7,
          "tSNE-1": 2.457629442214966,
          "tSNE-2": 33.92449951171875
         },
         {
          "KM-label": 0,
          "digit": 8,
          "tSNE-1": -13.921868324279785,
          "tSNE-2": 0.5748489499092102
         },
         {
          "KM-label": 5,
          "digit": 2,
          "tSNE-1": -34.548282623291016,
          "tSNE-2": 14.39112663269043
         },
         {
          "KM-label": 2,
          "digit": 0,
          "tSNE-1": -6.867308616638184,
          "tSNE-2": -46.843849182128906
         },
         {
          "KM-label": 5,
          "digit": 1,
          "tSNE-1": -45.312217712402344,
          "tSNE-2": 10.875617027282715
         },
         {
          "KM-label": 5,
          "digit": 2,
          "tSNE-1": -33.532283782958984,
          "tSNE-2": 17.245601654052734
         },
         {
          "KM-label": 3,
          "digit": 6,
          "tSNE-1": 43.48353958129883,
          "tSNE-2": -15.466181755065918
         },
         {
          "KM-label": 9,
          "digit": 3,
          "tSNE-1": -28.343822479248047,
          "tSNE-2": -12.579137802124023
         },
         {
          "KM-label": 9,
          "digit": 3,
          "tSNE-1": -28.250324249267578,
          "tSNE-2": -13.77084732055664
         },
         {
          "KM-label": 8,
          "digit": 7,
          "tSNE-1": 4.036979675292969,
          "tSNE-2": 33.88050079345703
         },
         {
          "KM-label": 9,
          "digit": 3,
          "tSNE-1": -29.91122055053711,
          "tSNE-2": -16.594141006469727
         },
         {
          "KM-label": 9,
          "digit": 3,
          "tSNE-1": -27.7703800201416,
          "tSNE-2": -16.640592575073242
         },
         {
          "KM-label": 4,
          "digit": 4,
          "tSNE-1": 31.04294776916504,
          "tSNE-2": 19.53999900817871
         },
         {
          "KM-label": 3,
          "digit": 6,
          "tSNE-1": 37.1169319152832,
          "tSNE-2": -14.804798126220703
         },
         {
          "KM-label": 3,
          "digit": 6,
          "tSNE-1": 38.015380859375,
          "tSNE-2": -15.120394706726074
         },
         {
          "KM-label": 3,
          "digit": 6,
          "tSNE-1": 40.655391693115234,
          "tSNE-2": -14.94527816772461
         },
         {
          "KM-label": 4,
          "digit": 4,
          "tSNE-1": 31.880151748657227,
          "tSNE-2": 19.237319946289062
         },
         {
          "KM-label": 0,
          "digit": 9,
          "tSNE-1": -16.425888061523438,
          "tSNE-2": -24.15052604675293
         },
         {
          "KM-label": 5,
          "digit": 1,
          "tSNE-1": -45.16892623901367,
          "tSNE-2": 9.087126731872559
         },
         {
          "KM-label": 0,
          "digit": 5,
          "tSNE-1": 4.176262378692627,
          "tSNE-2": -19.26190757751465
         },
         {
          "KM-label": 2,
          "digit": 0,
          "tSNE-1": -8.182844161987305,
          "tSNE-2": -48.02886962890625
         },
         {
          "KM-label": 0,
          "digit": 9,
          "tSNE-1": -15.910866737365723,
          "tSNE-2": -24.412670135498047
         },
         {
          "KM-label": 0,
          "digit": 5,
          "tSNE-1": 2.921767473220825,
          "tSNE-2": -20.355791091918945
         },
         {
          "KM-label": 5,
          "digit": 2,
          "tSNE-1": -33.94169616699219,
          "tSNE-2": 14.420919418334961
         },
         {
          "KM-label": 0,
          "digit": 8,
          "tSNE-1": -10.981145858764648,
          "tSNE-2": 0.645296573638916
         },
         {
          "KM-label": 5,
          "digit": 2,
          "tSNE-1": -34.30579376220703,
          "tSNE-2": 14.704587936401367
         },
         {
          "KM-label": 2,
          "digit": 0,
          "tSNE-1": -10.483879089355469,
          "tSNE-2": -44.98834228515625
         },
         {
          "KM-label": 2,
          "digit": 0,
          "tSNE-1": -5.4887800216674805,
          "tSNE-2": -49.04888153076172
         },
         {
          "KM-label": 5,
          "digit": 1,
          "tSNE-1": -45.1617546081543,
          "tSNE-2": 10.339579582214355
         },
         {
          "KM-label": 8,
          "digit": 7,
          "tSNE-1": 1.680606722831726,
          "tSNE-2": 37.634918212890625
         },
         {
          "KM-label": 3,
          "digit": 6,
          "tSNE-1": 40.194400787353516,
          "tSNE-2": -15.625160217285156
         },
         {
          "KM-label": 9,
          "digit": 3,
          "tSNE-1": -29.969823837280273,
          "tSNE-2": -17.081878662109375
         },
         {
          "KM-label": 5,
          "digit": 2,
          "tSNE-1": -33.95344161987305,
          "tSNE-2": 20.90647315979004
         },
         {
          "KM-label": 5,
          "digit": 1,
          "tSNE-1": -46.03626251220703,
          "tSNE-2": 12.170672416687012
         },
         {
          "KM-label": 4,
          "digit": 4,
          "tSNE-1": 41.756317138671875,
          "tSNE-2": 19.516157150268555
         },
         {
          "KM-label": 3,
          "digit": 6,
          "tSNE-1": 35.50758743286133,
          "tSNE-2": -10.258583068847656
         },
         {
          "KM-label": 9,
          "digit": 3,
          "tSNE-1": -30.12379264831543,
          "tSNE-2": -15.176167488098145
         },
         {
          "KM-label": 5,
          "digit": 1,
          "tSNE-1": -45.434669494628906,
          "tSNE-2": 10.426409721374512
         },
         {
          "KM-label": 9,
          "digit": 3,
          "tSNE-1": -29.099689483642578,
          "tSNE-2": -17.231731414794922
         },
         {
          "KM-label": 0,
          "digit": 9,
          "tSNE-1": -16.46017074584961,
          "tSNE-2": -22.912458419799805
         },
         {
          "KM-label": 5,
          "digit": 1,
          "tSNE-1": -45.13729476928711,
          "tSNE-2": 9.332101821899414
         },
         {
          "KM-label": 8,
          "digit": 7,
          "tSNE-1": 4.046883583068848,
          "tSNE-2": 33.927703857421875
         },
         {
          "KM-label": 3,
          "digit": 6,
          "tSNE-1": 35.469871520996094,
          "tSNE-2": -13.758580207824707
         },
         {
          "KM-label": 0,
          "digit": 8,
          "tSNE-1": -10.803427696228027,
          "tSNE-2": -3.274928569793701
         },
         {
          "KM-label": 7,
          "digit": 4,
          "tSNE-1": 30.974355697631836,
          "tSNE-2": 19.547027587890625
         },
         {
          "KM-label": 9,
          "digit": 3,
          "tSNE-1": -28.475414276123047,
          "tSNE-2": -11.917951583862305
         },
         {
          "KM-label": 5,
          "digit": 1,
          "tSNE-1": -44.96997833251953,
          "tSNE-2": 9.2498197555542
         },
         {
          "KM-label": 4,
          "digit": 4,
          "tSNE-1": 36.86997604370117,
          "tSNE-2": 17.1972599029541
         },
         {
          "KM-label": 2,
          "digit": 0,
          "tSNE-1": -7.75510835647583,
          "tSNE-2": -46.8174934387207
         },
         {
          "KM-label": 1,
          "digit": 5,
          "tSNE-1": 6.5470290184021,
          "tSNE-2": -17.334142684936523
         },
         {
          "KM-label": 9,
          "digit": 3,
          "tSNE-1": -27.822059631347656,
          "tSNE-2": -16.54343605041504
         },
         {
          "KM-label": 3,
          "digit": 6,
          "tSNE-1": 39.40156555175781,
          "tSNE-2": -16.101768493652344
         },
         {
          "KM-label": 0,
          "digit": 9,
          "tSNE-1": -14.598291397094727,
          "tSNE-2": -23.250869750976562
         },
         {
          "KM-label": 3,
          "digit": 6,
          "tSNE-1": 38.00149917602539,
          "tSNE-2": -16.930452346801758
         },
         {
          "KM-label": 5,
          "digit": 1,
          "tSNE-1": -45.494903564453125,
          "tSNE-2": 11.20898151397705
         },
         {
          "KM-label": 8,
          "digit": 7,
          "tSNE-1": 4.952648639678955,
          "tSNE-2": 34.78902816772461
         },
         {
          "KM-label": 0,
          "digit": 5,
          "tSNE-1": 1.9799968004226685,
          "tSNE-2": -20.77715301513672
         },
         {
          "KM-label": 4,
          "digit": 4,
          "tSNE-1": 35.856910705566406,
          "tSNE-2": 18.962158203125
         },
         {
          "KM-label": 4,
          "digit": 4,
          "tSNE-1": 29.892507553100586,
          "tSNE-2": 21.684139251708984
         },
         {
          "KM-label": 8,
          "digit": 7,
          "tSNE-1": 1.6853060722351074,
          "tSNE-2": 34.732078552246094
         },
         {
          "KM-label": 5,
          "digit": 2,
          "tSNE-1": -32.96770095825195,
          "tSNE-2": 17.056076049804688
         },
         {
          "KM-label": 0,
          "digit": 8,
          "tSNE-1": -14.037407875061035,
          "tSNE-2": 1.6295216083526611
         },
         {
          "KM-label": 5,
          "digit": 2,
          "tSNE-1": -34.611297607421875,
          "tSNE-2": 14.018669128417969
         },
         {
          "KM-label": 5,
          "digit": 2,
          "tSNE-1": -36.07886505126953,
          "tSNE-2": 20.720491409301758
         },
         {
          "KM-label": 0,
          "digit": 5,
          "tSNE-1": 1.8479526042938232,
          "tSNE-2": -21.028547286987305
         },
         {
          "KM-label": 8,
          "digit": 7,
          "tSNE-1": 3.3811540603637695,
          "tSNE-2": 35.0717887878418
         },
         {
          "KM-label": 0,
          "digit": 9,
          "tSNE-1": -12.696749687194824,
          "tSNE-2": -22.90971565246582
         },
         {
          "KM-label": 0,
          "digit": 5,
          "tSNE-1": 6.983198642730713,
          "tSNE-2": -20.298011779785156
         },
         {
          "KM-label": 4,
          "digit": 4,
          "tSNE-1": 28.653932571411133,
          "tSNE-2": 22.221513748168945
         },
         {
          "KM-label": 4,
          "digit": 4,
          "tSNE-1": 29.66523551940918,
          "tSNE-2": 23.971519470214844
         },
         {
          "KM-label": 0,
          "digit": 9,
          "tSNE-1": -8.201013565063477,
          "tSNE-2": -13.642532348632812
         },
         {
          "KM-label": 2,
          "digit": 0,
          "tSNE-1": -8.774287223815918,
          "tSNE-2": -48.88576126098633
         },
         {
          "KM-label": 0,
          "digit": 8,
          "tSNE-1": -11.684454917907715,
          "tSNE-2": -2.471539258956909
         },
         {
          "KM-label": 0,
          "digit": 9,
          "tSNE-1": -14.444635391235352,
          "tSNE-2": -22.526567459106445
         },
         {
          "KM-label": 0,
          "digit": 8,
          "tSNE-1": -12.407594680786133,
          "tSNE-2": 1.3305692672729492
         },
         {
          "KM-label": 2,
          "digit": 0,
          "tSNE-1": -7.84517765045166,
          "tSNE-2": -44.56657791137695
         },
         {
          "KM-label": 6,
          "digit": 1,
          "tSNE-1": -1.356810212135315,
          "tSNE-2": 13.640864372253418
         },
         {
          "KM-label": 5,
          "digit": 2,
          "tSNE-1": -32.97111129760742,
          "tSNE-2": 23.645328521728516
         },
         {
          "KM-label": 9,
          "digit": 3,
          "tSNE-1": -31.778745651245117,
          "tSNE-2": -13.657923698425293
         },
         {
          "KM-label": 4,
          "digit": 4,
          "tSNE-1": 29.1832332611084,
          "tSNE-2": 22.663768768310547
         },
         {
          "KM-label": 1,
          "digit": 5,
          "tSNE-1": 10.679702758789062,
          "tSNE-2": -10.94941520690918
         },
         {
          "KM-label": 3,
          "digit": 6,
          "tSNE-1": 40.584590911865234,
          "tSNE-2": -16.285049438476562
         },
         {
          "KM-label": 8,
          "digit": 7,
          "tSNE-1": -0.6323720812797546,
          "tSNE-2": 34.65385055541992
         },
         {
          "KM-label": 8,
          "digit": 8,
          "tSNE-1": -4.461313724517822,
          "tSNE-2": 1.8810986280441284
         },
         {
          "KM-label": 9,
          "digit": 9,
          "tSNE-1": -19.847803115844727,
          "tSNE-2": -13.990553855895996
         },
         {
          "KM-label": 2,
          "digit": 0,
          "tSNE-1": -2.527829647064209,
          "tSNE-2": -47.270137786865234
         },
         {
          "KM-label": 6,
          "digit": 1,
          "tSNE-1": 1.1811269521713257,
          "tSNE-2": 15.383892059326172
         },
         {
          "KM-label": 5,
          "digit": 2,
          "tSNE-1": -29.94217300415039,
          "tSNE-2": 18.223655700683594
         },
         {
          "KM-label": 9,
          "digit": 3,
          "tSNE-1": -32.0101318359375,
          "tSNE-2": -13.945651054382324
         },
         {
          "KM-label": 4,
          "digit": 4,
          "tSNE-1": 29.09715461730957,
          "tSNE-2": 22.15851402282715
         },
         {
          "KM-label": 1,
          "digit": 5,
          "tSNE-1": 8.727485656738281,
          "tSNE-2": -11.853357315063477
         },
         {
          "KM-label": 3,
          "digit": 6,
          "tSNE-1": 37.5930290222168,
          "tSNE-2": -18.185562133789062
         },
         {
          "KM-label": 8,
          "digit": 7,
          "tSNE-1": 1.6734821796417236,
          "tSNE-2": 34.91537094116211
         },
         {
          "KM-label": 6,
          "digit": 8,
          "tSNE-1": -4.852506637573242,
          "tSNE-2": 9.259057998657227
         },
         {
          "KM-label": 0,
          "digit": 9,
          "tSNE-1": -6.656872272491455,
          "tSNE-2": -14.422506332397461
         },
         {
          "KM-label": 2,
          "digit": 0,
          "tSNE-1": -6.920328617095947,
          "tSNE-2": -50.8436279296875
         },
         {
          "KM-label": 6,
          "digit": 1,
          "tSNE-1": 5.212915420532227,
          "tSNE-2": 15.244967460632324
         },
         {
          "KM-label": 5,
          "digit": 2,
          "tSNE-1": -33.06108093261719,
          "tSNE-2": 14.195693969726562
         },
         {
          "KM-label": 9,
          "digit": 3,
          "tSNE-1": -32.9401969909668,
          "tSNE-2": -12.59078598022461
         },
         {
          "KM-label": 4,
          "digit": 4,
          "tSNE-1": 30.01370620727539,
          "tSNE-2": 22.619426727294922
         },
         {
          "KM-label": 1,
          "digit": 5,
          "tSNE-1": 5.176090240478516,
          "tSNE-2": -16.955175399780273
         },
         {
          "KM-label": 3,
          "digit": 6,
          "tSNE-1": 37.491416931152344,
          "tSNE-2": -13.654279708862305
         },
         {
          "KM-label": 8,
          "digit": 7,
          "tSNE-1": -0.6676375269889832,
          "tSNE-2": 34.10432052612305
         },
         {
          "KM-label": 0,
          "digit": 8,
          "tSNE-1": -14.35393238067627,
          "tSNE-2": 5.854625701904297
         },
         {
          "KM-label": 0,
          "digit": 9,
          "tSNE-1": -6.453338146209717,
          "tSNE-2": -15.531554222106934
         },
         {
          "KM-label": 2,
          "digit": 0,
          "tSNE-1": -6.412681579589844,
          "tSNE-2": -48.60245132446289
         },
         {
          "KM-label": 0,
          "digit": 9,
          "tSNE-1": -10.794483184814453,
          "tSNE-2": -15.746201515197754
         },
         {
          "KM-label": 1,
          "digit": 5,
          "tSNE-1": 10.713994979858398,
          "tSNE-2": -12.150449752807617
         },
         {
          "KM-label": 1,
          "digit": 5,
          "tSNE-1": 11.633893013000488,
          "tSNE-2": -11.199454307556152
         },
         {
          "KM-label": 3,
          "digit": 6,
          "tSNE-1": 33.157142639160156,
          "tSNE-2": -8.014924049377441
         },
         {
          "KM-label": 1,
          "digit": 5,
          "tSNE-1": 10.73680591583252,
          "tSNE-2": -12.01771068572998
         },
         {
          "KM-label": 2,
          "digit": 0,
          "tSNE-1": -2.068016529083252,
          "tSNE-2": -46.619449615478516
         },
         {
          "KM-label": 0,
          "digit": 9,
          "tSNE-1": -6.855914115905762,
          "tSNE-2": -14.592626571655273
         },
         {
          "KM-label": 0,
          "digit": 8,
          "tSNE-1": -14.882613182067871,
          "tSNE-2": 4.524239540100098
         },
         {
          "KM-label": 0,
          "digit": 9,
          "tSNE-1": -10.5894775390625,
          "tSNE-2": -16.05095863342285
         },
         {
          "KM-label": 6,
          "digit": 8,
          "tSNE-1": -9.286563873291016,
          "tSNE-2": 8.178679466247559
         },
         {
          "KM-label": 4,
          "digit": 4,
          "tSNE-1": 29.463794708251953,
          "tSNE-2": 21.347627639770508
         },
         {
          "KM-label": 6,
          "digit": 1,
          "tSNE-1": -0.06746561825275421,
          "tSNE-2": 14.21502685546875
         },
         {
          "KM-label": 8,
          "digit": 7,
          "tSNE-1": 0.20314110815525055,
          "tSNE-2": 33.259647369384766
         },
         {
          "KM-label": 8,
          "digit": 7,
          "tSNE-1": 0.5561074614524841,
          "tSNE-2": 35.317527770996094
         },
         {
          "KM-label": 9,
          "digit": 3,
          "tSNE-1": -35.02334976196289,
          "tSNE-2": -7.918261528015137
         },
         {
          "KM-label": 1,
          "digit": 5,
          "tSNE-1": 7.82956075668335,
          "tSNE-2": -15.550267219543457
         },
         {
          "KM-label": 6,
          "digit": 1,
          "tSNE-1": 4.834691524505615,
          "tSNE-2": 13.725921630859375
         },
         {
          "KM-label": 2,
          "digit": 0,
          "tSNE-1": -7.887909889221191,
          "tSNE-2": -51.84183883666992
         },
         {
          "KM-label": 2,
          "digit": 0,
          "tSNE-1": -7.870966911315918,
          "tSNE-2": -51.794639587402344
         },
         {
          "KM-label": 8,
          "digit": 7,
          "tSNE-1": -0.6201951503753662,
          "tSNE-2": 33.54631805419922
         },
         {
          "KM-label": 6,
          "digit": 8,
          "tSNE-1": -4.746886253356934,
          "tSNE-2": 9.373001098632812
         },
         {
          "KM-label": 5,
          "digit": 2,
          "tSNE-1": -32.82052230834961,
          "tSNE-2": 12.839984893798828
         },
         {
          "KM-label": 2,
          "digit": 0,
          "tSNE-1": -4.483468532562256,
          "tSNE-2": -51.851749420166016
         },
         {
          "KM-label": 6,
          "digit": 1,
          "tSNE-1": 2.45849871635437,
          "tSNE-2": 9.476490020751953
         },
         {
          "KM-label": 5,
          "digit": 2,
          "tSNE-1": -33.544334411621094,
          "tSNE-2": 14.49790096282959
         },
         {
          "KM-label": 3,
          "digit": 6,
          "tSNE-1": 37.488182067871094,
          "tSNE-2": -7.091854572296143
         },
         {
          "KM-label": 9,
          "digit": 3,
          "tSNE-1": -33.96155548095703,
          "tSNE-2": -11.904142379760742
         },
         {
          "KM-label": 9,
          "digit": 3,
          "tSNE-1": -34.53886795043945,
          "tSNE-2": -7.426454067230225
         },
         {
          "KM-label": 8,
          "digit": 7,
          "tSNE-1": -0.8120446801185608,
          "tSNE-2": 32.12253189086914
         },
         {
          "KM-label": 9,
          "digit": 3,
          "tSNE-1": -33.499019622802734,
          "tSNE-2": -10.900848388671875
         },
         {
          "KM-label": 9,
          "digit": 3,
          "tSNE-1": -33.86771011352539,
          "tSNE-2": -11.844759941101074
         },
         {
          "KM-label": 4,
          "digit": 4,
          "tSNE-1": 29.65264129638672,
          "tSNE-2": 23.76572608947754
         },
         {
          "KM-label": 3,
          "digit": 6,
          "tSNE-1": 39.83086395263672,
          "tSNE-2": -11.424642562866211
         },
         {
          "KM-label": 3,
          "digit": 6,
          "tSNE-1": 34.36944580078125,
          "tSNE-2": -11.160130500793457
         },
         {
          "KM-label": 3,
          "digit": 6,
          "tSNE-1": 36.78218078613281,
          "tSNE-2": -11.042495727539062
         },
         {
          "KM-label": 8,
          "digit": 4,
          "tSNE-1": 28.850570678710938,
          "tSNE-2": 27.01838493347168
         },
         {
          "KM-label": 0,
          "digit": 9,
          "tSNE-1": -6.60634708404541,
          "tSNE-2": -14.479803085327148
         },
         {
          "KM-label": 6,
          "digit": 1,
          "tSNE-1": 5.555643081665039,
          "tSNE-2": 15.513935089111328
         },
         {
          "KM-label": 1,
          "digit": 5,
          "tSNE-1": 9.24195384979248,
          "tSNE-2": -16.122783660888672
         },
         {
          "KM-label": 2,
          "digit": 0,
          "tSNE-1": -6.4875640869140625,
          "tSNE-2": -47.478736877441406
         },
         {
          "KM-label": 1,
          "digit": 9,
          "tSNE-1": -2.9546422958374023,
          "tSNE-2": 1.5395660400390625
         },
         {
          "KM-label": 1,
          "digit": 5,
          "tSNE-1": 14.508441925048828,
          "tSNE-2": -9.92097282409668
         },
         {
          "KM-label": 5,
          "digit": 2,
          "tSNE-1": -35.88319778442383,
          "tSNE-2": 15.886248588562012
         },
         {
          "KM-label": 0,
          "digit": 8,
          "tSNE-1": -14.555909156799316,
          "tSNE-2": 5.1573991775512695
         },
         {
          "KM-label": 9,
          "digit": 2,
          "tSNE-1": -33.086036682128906,
          "tSNE-2": 11.20628547668457
         },
         {
          "KM-label": 2,
          "digit": 0,
          "tSNE-1": -4.479227542877197,
          "tSNE-2": -52.10280990600586
         },
         {
          "KM-label": 2,
          "digit": 0,
          "tSNE-1": -3.7576773166656494,
          "tSNE-2": -51.84664535522461
         },
         {
          "KM-label": 6,
          "digit": 1,
          "tSNE-1": 4.210218906402588,
          "tSNE-2": 11.910956382751465
         },
         {
          "KM-label": 8,
          "digit": 7,
          "tSNE-1": -3.254272222518921,
          "tSNE-2": 34.179508209228516
         },
         {
          "KM-label": 3,
          "digit": 6,
          "tSNE-1": 35.976104736328125,
          "tSNE-2": -7.189404487609863
         },
         {
          "KM-label": 9,
          "digit": 3,
          "tSNE-1": -32.47148513793945,
          "tSNE-2": -13.420136451721191
         },
         {
          "KM-label": 5,
          "digit": 2,
          "tSNE-1": -33.75349807739258,
          "tSNE-2": 18.3752384185791
         },
         {
          "KM-label": 6,
          "digit": 1,
          "tSNE-1": 5.1120429039001465,
          "tSNE-2": 15.836588859558105
         },
         {
          "KM-label": 8,
          "digit": 7,
          "tSNE-1": -0.8658352494239807,
          "tSNE-2": 31.957239151000977
         },
         {
          "KM-label": 4,
          "digit": 4,
          "tSNE-1": 29.549297332763672,
          "tSNE-2": 23.107027053833008
         },
         {
          "KM-label": 3,
          "digit": 6,
          "tSNE-1": 39.6403923034668,
          "tSNE-2": -11.540729522705078
         },
         {
          "KM-label": 9,
          "digit": 3,
          "tSNE-1": -32.48593521118164,
          "tSNE-2": -13.476423263549805
         },
         {
          "KM-label": 6,
          "digit": 1,
          "tSNE-1": -0.1889316439628601,
          "tSNE-2": 15.336244583129883
         },
         {
          "KM-label": 8,
          "digit": 3,
          "tSNE-1": 5.468181133270264,
          "tSNE-2": 39.884559631347656
         },
         {
          "KM-label": 0,
          "digit": 9,
          "tSNE-1": -7.089987754821777,
          "tSNE-2": -14.543428421020508
         },
         {
          "KM-label": 6,
          "digit": 1,
          "tSNE-1": 3.142320156097412,
          "tSNE-2": 15.535846710205078
         },
         {
          "KM-label": 8,
          "digit": 7,
          "tSNE-1": 0.9867508411407471,
          "tSNE-2": 34.56138229370117
         },
         {
          "KM-label": 3,
          "digit": 6,
          "tSNE-1": 35.18339920043945,
          "tSNE-2": -12.668769836425781
         },
         {
          "KM-label": 6,
          "digit": 8,
          "tSNE-1": -14.36465835571289,
          "tSNE-2": 5.16933012008667
         },
         {
          "KM-label": 4,
          "digit": 4,
          "tSNE-1": 29.198707580566406,
          "tSNE-2": 24.735509872436523
         },
         {
          "KM-label": 9,
          "digit": 3,
          "tSNE-1": -32.910240173339844,
          "tSNE-2": -13.539817810058594
         },
         {
          "KM-label": 6,
          "digit": 1,
          "tSNE-1": 5.562213897705078,
          "tSNE-2": 12.390746116638184
         },
         {
          "KM-label": 4,
          "digit": 4,
          "tSNE-1": 31.524324417114258,
          "tSNE-2": 24.037960052490234
         },
         {
          "KM-label": 2,
          "digit": 0,
          "tSNE-1": -8.088163375854492,
          "tSNE-2": -45.12432098388672
         },
         {
          "KM-label": 1,
          "digit": 5,
          "tSNE-1": 11.968903541564941,
          "tSNE-2": -14.34028148651123
         },
         {
          "KM-label": 9,
          "digit": 3,
          "tSNE-1": -34.190486907958984,
          "tSNE-2": -12.684816360473633
         },
         {
          "KM-label": 3,
          "digit": 6,
          "tSNE-1": 37.17628479003906,
          "tSNE-2": -4.269191741943359
         },
         {
          "KM-label": 0,
          "digit": 9,
          "tSNE-1": -15.560172080993652,
          "tSNE-2": -16.26970100402832
         },
         {
          "KM-label": 3,
          "digit": 6,
          "tSNE-1": 38.07686233520508,
          "tSNE-2": -15.739534378051758
         },
         {
          "KM-label": 6,
          "digit": 1,
          "tSNE-1": 4.5924272537231445,
          "tSNE-2": 13.005425453186035
         },
         {
          "KM-label": 8,
          "digit": 7,
          "tSNE-1": -4.304125785827637,
          "tSNE-2": 34.85035705566406
         },
         {
          "KM-label": 1,
          "digit": 5,
          "tSNE-1": 12.268516540527344,
          "tSNE-2": -17.930326461791992
         },
         {
          "KM-label": 4,
          "digit": 4,
          "tSNE-1": 34.612571716308594,
          "tSNE-2": 21.48855972290039
         },
         {
          "KM-label": 4,
          "digit": 4,
          "tSNE-1": 29.595382690429688,
          "tSNE-2": 23.10402488708496
         },
         {
          "KM-label": 8,
          "digit": 7,
          "tSNE-1": -2.6399714946746826,
          "tSNE-2": 34.22403335571289
         },
         {
          "KM-label": 5,
          "digit": 2,
          "tSNE-1": -35.734474182128906,
          "tSNE-2": 20.46489143371582
         },
         {
          "KM-label": 6,
          "digit": 8,
          "tSNE-1": -3.6230084896087646,
          "tSNE-2": 1.9872170686721802
         },
         {
          "KM-label": 5,
          "digit": 2,
          "tSNE-1": -30.045289993286133,
          "tSNE-2": 18.136899948120117
         },
         {
          "KM-label": 5,
          "digit": 2,
          "tSNE-1": -34.19377899169922,
          "tSNE-2": 12.960158348083496
         },
         {
          "KM-label": 1,
          "digit": 5,
          "tSNE-1": 10.816264152526855,
          "tSNE-2": -10.600560188293457
         },
         {
          "KM-label": 8,
          "digit": 7,
          "tSNE-1": -0.8219174742698669,
          "tSNE-2": 33.394405364990234
         },
         {
          "KM-label": 0,
          "digit": 9,
          "tSNE-1": -16.590890884399414,
          "tSNE-2": -15.083451271057129
         },
         {
          "KM-label": 1,
          "digit": 5,
          "tSNE-1": 12.60096549987793,
          "tSNE-2": -17.236045837402344
         },
         {
          "KM-label": 4,
          "digit": 4,
          "tSNE-1": 32.45193099975586,
          "tSNE-2": 23.411529541015625
         },
         {
          "KM-label": 5,
          "digit": 8,
          "tSNE-1": -15.582151412963867,
          "tSNE-2": 4.63334846496582
         },
         {
          "KM-label": 9,
          "digit": 8,
          "tSNE-1": -10.624817848205566,
          "tSNE-2": 6.017841815948486
         },
         {
          "KM-label": 4,
          "digit": 4,
          "tSNE-1": 29.026020050048828,
          "tSNE-2": 24.935806274414062
         },
         {
          "KM-label": 0,
          "digit": 9,
          "tSNE-1": -6.349501609802246,
          "tSNE-2": -13.994399070739746
         },
         {
          "KM-label": 2,
          "digit": 0,
          "tSNE-1": -6.575319766998291,
          "tSNE-2": -49.5367431640625
         },
         {
          "KM-label": 6,
          "digit": 8,
          "tSNE-1": -14.222779273986816,
          "tSNE-2": 6.8144211769104
         },
         {
          "KM-label": 0,
          "digit": 9,
          "tSNE-1": -15.542984008789062,
          "tSNE-2": -14.827473640441895
         },
         {
          "KM-label": 6,
          "digit": 8,
          "tSNE-1": -14.27726936340332,
          "tSNE-2": 6.07911491394043
         },
         {
          "KM-label": 2,
          "digit": 0,
          "tSNE-1": -3.498810291290283,
          "tSNE-2": -45.719852447509766
         },
         {
          "KM-label": 7,
          "digit": 1,
          "tSNE-1": 13.619967460632324,
          "tSNE-2": 9.905351638793945
         },
         {
          "KM-label": 5,
          "digit": 2,
          "tSNE-1": -31.971097946166992,
          "tSNE-2": 24.700504302978516
         },
         {
          "KM-label": 9,
          "digit": 3,
          "tSNE-1": -32.72909164428711,
          "tSNE-2": -11.303939819335938
         },
         {
          "KM-label": 4,
          "digit": 4,
          "tSNE-1": 33.326622009277344,
          "tSNE-2": 23.571130752563477
         },
         {
          "KM-label": 1,
          "digit": 5,
          "tSNE-1": 11.348098754882812,
          "tSNE-2": -18.43126106262207
         },
         {
          "KM-label": 3,
          "digit": 6,
          "tSNE-1": 40.04129409790039,
          "tSNE-2": -17.4514102935791
         },
         {
          "KM-label": 8,
          "digit": 7,
          "tSNE-1": -6.5597944259643555,
          "tSNE-2": 36.307586669921875
         },
         {
          "KM-label": 0,
          "digit": 8,
          "tSNE-1": -14.657086372375488,
          "tSNE-2": 0.9451918601989746
         },
         {
          "KM-label": 0,
          "digit": 9,
          "tSNE-1": -11.659156799316406,
          "tSNE-2": -14.17769718170166
         },
         {
          "KM-label": 2,
          "digit": 0,
          "tSNE-1": -8.227871894836426,
          "tSNE-2": -43.394287109375
         },
         {
          "KM-label": 7,
          "digit": 1,
          "tSNE-1": 14.180931091308594,
          "tSNE-2": 9.921266555786133
         },
         {
          "KM-label": 5,
          "digit": 2,
          "tSNE-1": -31.38446807861328,
          "tSNE-2": 20.01190185546875
         },
         {
          "KM-label": 9,
          "digit": 3,
          "tSNE-1": -33.97035598754883,
          "tSNE-2": -6.845030307769775
         },
         {
          "KM-label": 4,
          "digit": 4,
          "tSNE-1": 37.72835159301758,
          "tSNE-2": 19.116737365722656
         },
         {
          "KM-label": 1,
          "digit": 5,
          "tSNE-1": 10.690013885498047,
          "tSNE-2": -19.26768684387207
         },
         {
          "KM-label": 3,
          "digit": 6,
          "tSNE-1": 39.96113586425781,
          "tSNE-2": -7.877182960510254
         },
         {
          "KM-label": 8,
          "digit": 7,
          "tSNE-1": 0.7837733626365662,
          "tSNE-2": 40.9926643371582
         },
         {
          "KM-label": 6,
          "digit": 8,
          "tSNE-1": -2.413900852203369,
          "tSNE-2": 6.130807399749756
         },
         {
          "KM-label": 0,
          "digit": 9,
          "tSNE-1": -19.254608154296875,
          "tSNE-2": -20.8209228515625
         },
         {
          "KM-label": 2,
          "digit": 0,
          "tSNE-1": -7.614502429962158,
          "tSNE-2": -42.72149658203125
         },
         {
          "KM-label": 6,
          "digit": 1,
          "tSNE-1": 8.27829360961914,
          "tSNE-2": 9.501012802124023
         },
         {
          "KM-label": 5,
          "digit": 2,
          "tSNE-1": -26.611896514892578,
          "tSNE-2": 21.516202926635742
         },
         {
          "KM-label": 9,
          "digit": 3,
          "tSNE-1": -35.89387893676758,
          "tSNE-2": -11.264294624328613
         },
         {
          "KM-label": 4,
          "digit": 4,
          "tSNE-1": 35.41556167602539,
          "tSNE-2": 28.04119873046875
         },
         {
          "KM-label": 1,
          "digit": 5,
          "tSNE-1": 12.358099937438965,
          "tSNE-2": -4.099434852600098
         },
         {
          "KM-label": 3,
          "digit": 6,
          "tSNE-1": 35.32907485961914,
          "tSNE-2": -11.248553276062012
         },
         {
          "KM-label": 8,
          "digit": 7,
          "tSNE-1": 4.010210037231445,
          "tSNE-2": 42.789695739746094
         },
         {
          "KM-label": 6,
          "digit": 8,
          "tSNE-1": -3.1895904541015625,
          "tSNE-2": 6.729166030883789
         },
         {
          "KM-label": 0,
          "digit": 9,
          "tSNE-1": -11.947270393371582,
          "tSNE-2": -14.231989860534668
         },
         {
          "KM-label": 2,
          "digit": 0,
          "tSNE-1": -9.651731491088867,
          "tSNE-2": -40.81707000732422
         },
         {
          "KM-label": 0,
          "digit": 9,
          "tSNE-1": -10.29330825805664,
          "tSNE-2": -18.859834671020508
         },
         {
          "KM-label": 1,
          "digit": 5,
          "tSNE-1": 8.494893074035645,
          "tSNE-2": -16.53812599182129
         },
         {
          "KM-label": 1,
          "digit": 5,
          "tSNE-1": 8.035426139831543,
          "tSNE-2": -10.067258834838867
         },
         {
          "KM-label": 3,
          "digit": 6,
          "tSNE-1": 36.36958312988281,
          "tSNE-2": -11.270380020141602
         },
         {
          "KM-label": 1,
          "digit": 5,
          "tSNE-1": 9.782031059265137,
          "tSNE-2": -8.786234855651855
         },
         {
          "KM-label": 2,
          "digit": 0,
          "tSNE-1": -4.718501091003418,
          "tSNE-2": -36.50749969482422
         },
         {
          "KM-label": 0,
          "digit": 9,
          "tSNE-1": -10.148941993713379,
          "tSNE-2": -18.2559757232666
         },
         {
          "KM-label": 1,
          "digit": 8,
          "tSNE-1": -1.9883922338485718,
          "tSNE-2": 2.5528128147125244
         },
         {
          "KM-label": 0,
          "digit": 9,
          "tSNE-1": -10.034722328186035,
          "tSNE-2": -19.096176147460938
         },
         {
          "KM-label": 1,
          "digit": 8,
          "tSNE-1": -2.453834295272827,
          "tSNE-2": 7.981578826904297
         },
         {
          "KM-label": 4,
          "digit": 4,
          "tSNE-1": 36.915714263916016,
          "tSNE-2": 18.795263290405273
         },
         {
          "KM-label": 6,
          "digit": 1,
          "tSNE-1": 1.528396725654602,
          "tSNE-2": 15.571739196777344
         },
         {
          "KM-label": 8,
          "digit": 7,
          "tSNE-1": -7.252957820892334,
          "tSNE-2": 37.51972961425781
         },
         {
          "KM-label": 8,
          "digit": 7,
          "tSNE-1": -5.609804153442383,
          "tSNE-2": 35.82757568359375
         },
         {
          "KM-label": 8,
          "digit": 3,
          "tSNE-1": -25.858003616333008,
          "tSNE-2": 2.5658164024353027
         },
         {
          "KM-label": 1,
          "digit": 5,
          "tSNE-1": 12.809134483337402,
          "tSNE-2": -19.081188201904297
         },
         {
          "KM-label": 6,
          "digit": 1,
          "tSNE-1": 10.138867378234863,
          "tSNE-2": 9.577336311340332
         },
         {
          "KM-label": 2,
          "digit": 0,
          "tSNE-1": -4.054598331451416,
          "tSNE-2": -37.40938186645508
         },
         {
          "KM-label": 2,
          "digit": 0,
          "tSNE-1": -4.709298610687256,
          "tSNE-2": -36.539527893066406
         },
         {
          "KM-label": 5,
          "digit": 2,
          "tSNE-1": -28.03151512145996,
          "tSNE-2": 19.384939193725586
         },
         {
          "KM-label": 5,
          "digit": 2,
          "tSNE-1": -26.43766975402832,
          "tSNE-2": 22.421537399291992
         },
         {
          "KM-label": 8,
          "digit": 7,
          "tSNE-1": -4.171746253967285,
          "tSNE-2": 37.92935562133789
         },
         {
          "KM-label": 8,
          "digit": 8,
          "tSNE-1": -1.4549918174743652,
          "tSNE-2": 3.62485408782959
         },
         {
          "KM-label": 5,
          "digit": 2,
          "tSNE-1": -30.41522789001465,
          "tSNE-2": 25.07961082458496
         },
         {
          "KM-label": 2,
          "digit": 0,
          "tSNE-1": -9.313404083251953,
          "tSNE-2": -40.626953125
         },
         {
          "KM-label": 6,
          "digit": 1,
          "tSNE-1": 7.014131546020508,
          "tSNE-2": 15.929829597473145
         },
         {
          "KM-label": 5,
          "digit": 2,
          "tSNE-1": -29.592302322387695,
          "tSNE-2": 21.442758560180664
         },
         {
          "KM-label": 3,
          "digit": 6,
          "tSNE-1": 29.746740341186523,
          "tSNE-2": -12.478092193603516
         },
         {
          "KM-label": 9,
          "digit": 3,
          "tSNE-1": -35.99825668334961,
          "tSNE-2": -11.043985366821289
         },
         {
          "KM-label": 9,
          "digit": 3,
          "tSNE-1": -29.533002853393555,
          "tSNE-2": -3.766679525375366
         },
         {
          "KM-label": 8,
          "digit": 7,
          "tSNE-1": -6.702447891235352,
          "tSNE-2": 35.714229583740234
         },
         {
          "KM-label": 9,
          "digit": 3,
          "tSNE-1": -31.516197204589844,
          "tSNE-2": -0.20470701158046722
         },
         {
          "KM-label": 9,
          "digit": 3,
          "tSNE-1": -34.79661178588867,
          "tSNE-2": -6.653687953948975
         },
         {
          "KM-label": 4,
          "digit": 4,
          "tSNE-1": 40.05841827392578,
          "tSNE-2": 20.983694076538086
         },
         {
          "KM-label": 3,
          "digit": 6,
          "tSNE-1": 34.42132568359375,
          "tSNE-2": -11.569886207580566
         },
         {
          "KM-label": 3,
          "digit": 6,
          "tSNE-1": 37.06103515625,
          "tSNE-2": -8.73975658416748
         },
         {
          "KM-label": 3,
          "digit": 6,
          "tSNE-1": 37.11033630371094,
          "tSNE-2": -8.614588737487793
         },
         {
          "KM-label": 4,
          "digit": 4,
          "tSNE-1": 33.985809326171875,
          "tSNE-2": 22.177209854125977
         },
         {
          "KM-label": 0,
          "digit": 9,
          "tSNE-1": -16.090179443359375,
          "tSNE-2": -17.63670539855957
         },
         {
          "KM-label": 6,
          "digit": 1,
          "tSNE-1": 4.237263202667236,
          "tSNE-2": 12.223395347595215
         },
         {
          "KM-label": 1,
          "digit": 5,
          "tSNE-1": 14.288931846618652,
          "tSNE-2": -7.464074611663818
         },
         {
          "KM-label": 2,
          "digit": 0,
          "tSNE-1": -10.080827713012695,
          "tSNE-2": -41.32442855834961
         },
         {
          "KM-label": 0,
          "digit": 9,
          "tSNE-1": -11.586345672607422,
          "tSNE-2": -16.66338348388672
         },
         {
          "KM-label": 1,
          "digit": 5,
          "tSNE-1": 10.533262252807617,
          "tSNE-2": -17.830894470214844
         },
         {
          "KM-label": 5,
          "digit": 2,
          "tSNE-1": -29.15162467956543,
          "tSNE-2": 21.068742752075195
         },
         {
          "KM-label": 1,
          "digit": 8,
          "tSNE-1": -2.267577648162842,
          "tSNE-2": 2.7262156009674072
         },
         {
          "KM-label": 5,
          "digit": 2,
          "tSNE-1": -26.463579177856445,
          "tSNE-2": 17.05710792541504
         },
         {
          "KM-label": 2,
          "digit": 0,
          "tSNE-1": -10.068730354309082,
          "tSNE-2": -40.834434509277344
         },
         {
          "KM-label": 2,
          "digit": 0,
          "tSNE-1": -9.390962600708008,
          "tSNE-2": -40.848567962646484
         },
         {
          "KM-label": 6,
          "digit": 1,
          "tSNE-1": 5.118295192718506,
          "tSNE-2": 16.06399154663086
         },
         {
          "KM-label": 8,
          "digit": 7,
          "tSNE-1": -7.265689849853516,
          "tSNE-2": 37.238426208496094
         },
         {
          "KM-label": 3,
          "digit": 6,
          "tSNE-1": 34.2722282409668,
          "tSNE-2": -12.672369956970215
         },
         {
          "KM-label": 9,
          "digit": 3,
          "tSNE-1": -30.892963409423828,
          "tSNE-2": -1.4377219676971436
         },
         {
          "KM-label": 5,
          "digit": 2,
          "tSNE-1": -28.78657341003418,
          "tSNE-2": 22.430225372314453
         },
         {
          "KM-label": 6,
          "digit": 1,
          "tSNE-1": 9.395951271057129,
          "tSNE-2": 9.48285961151123
         },
         {
          "KM-label": 8,
          "digit": 7,
          "tSNE-1": -8.000144004821777,
          "tSNE-2": 38.61545181274414
         },
         {
          "KM-label": 4,
          "digit": 4,
          "tSNE-1": 35.49825668334961,
          "tSNE-2": 21.097557067871094
         },
         {
          "KM-label": 3,
          "digit": 6,
          "tSNE-1": 33.88914108276367,
          "tSNE-2": -11.882437705993652
         },
         {
          "KM-label": 9,
          "digit": 3,
          "tSNE-1": -31.80278968811035,
          "tSNE-2": -3.1863043308258057
         },
         {
          "KM-label": 6,
          "digit": 1,
          "tSNE-1": 4.279051780700684,
          "tSNE-2": 12.98723030090332
         },
         {
          "KM-label": 9,
          "digit": 3,
          "tSNE-1": -32.05089569091797,
          "tSNE-2": -11.385393142700195
         },
         {
          "KM-label": 0,
          "digit": 9,
          "tSNE-1": -9.618144989013672,
          "tSNE-2": -19.002050399780273
         },
         {
          "KM-label": 6,
          "digit": 1,
          "tSNE-1": 4.201162338256836,
          "tSNE-2": 12.732398986816406
         },
         {
          "KM-label": 8,
          "digit": 7,
          "tSNE-1": -4.286118030548096,
          "tSNE-2": 38.94304275512695
         },
         {
          "KM-label": 3,
          "digit": 6,
          "tSNE-1": 33.92339324951172,
          "tSNE-2": -11.617609024047852
         },
         {
          "KM-label": 6,
          "digit": 8,
          "tSNE-1": -4.362780570983887,
          "tSNE-2": 8.506240844726562
         },
         {
          "KM-label": 4,
          "digit": 4,
          "tSNE-1": 35.294044494628906,
          "tSNE-2": 21.9820499420166
         },
         {
          "KM-label": 9,
          "digit": 3,
          "tSNE-1": -29.984472274780273,
          "tSNE-2": -6.310598373413086
         },
         {
          "KM-label": 6,
          "digit": 1,
          "tSNE-1": 4.5206403732299805,
          "tSNE-2": 9.615604400634766
         },
         {
          "KM-label": 4,
          "digit": 4,
          "tSNE-1": 38.02455139160156,
          "tSNE-2": 22.79642677307129
         },
         {
          "KM-label": 2,
          "digit": 0,
          "tSNE-1": -0.030619893223047256,
          "tSNE-2": -45.36561584472656
         },
         {
          "KM-label": 1,
          "digit": 5,
          "tSNE-1": 11.56867790222168,
          "tSNE-2": -3.5746936798095703
         },
         {
          "KM-label": 9,
          "digit": 3,
          "tSNE-1": -30.920196533203125,
          "tSNE-2": -1.2594877481460571
         },
         {
          "KM-label": 3,
          "digit": 6,
          "tSNE-1": 37.736000061035156,
          "tSNE-2": -8.828027725219727
         },
         {
          "KM-label": 0,
          "digit": 9,
          "tSNE-1": -11.801411628723145,
          "tSNE-2": -17.35538673400879
         },
         {
          "KM-label": 3,
          "digit": 6,
          "tSNE-1": 33.08079528808594,
          "tSNE-2": -11.438431739807129
         },
         {
          "KM-label": 1,
          "digit": 1,
          "tSNE-1": 7.313600063323975,
          "tSNE-2": 8.803521156311035
         },
         {
          "KM-label": 8,
          "digit": 7,
          "tSNE-1": -7.195093154907227,
          "tSNE-2": 36.00941467285156
         },
         {
          "KM-label": 1,
          "digit": 5,
          "tSNE-1": 11.509073257446289,
          "tSNE-2": -4.949047088623047
         },
         {
          "KM-label": 4,
          "digit": 4,
          "tSNE-1": 38.63251495361328,
          "tSNE-2": 21.5448055267334
         },
         {
          "KM-label": 4,
          "digit": 4,
          "tSNE-1": 34.756927490234375,
          "tSNE-2": 23.01072883605957
         },
         {
          "KM-label": 8,
          "digit": 7,
          "tSNE-1": 3.194270610809326,
          "tSNE-2": 42.462738037109375
         },
         {
          "KM-label": 5,
          "digit": 2,
          "tSNE-1": -30.546953201293945,
          "tSNE-2": 26.820606231689453
         },
         {
          "KM-label": 5,
          "digit": 8,
          "tSNE-1": -19.224550247192383,
          "tSNE-2": 8.809355735778809
         },
         {
          "KM-label": 5,
          "digit": 2,
          "tSNE-1": -29.951370239257812,
          "tSNE-2": 24.258310317993164
         },
         {
          "KM-label": 5,
          "digit": 2,
          "tSNE-1": -28.767675399780273,
          "tSNE-2": 21.282325744628906
         },
         {
          "KM-label": 1,
          "digit": 5,
          "tSNE-1": 15.060710906982422,
          "tSNE-2": -3.7120633125305176
         },
         {
          "KM-label": 8,
          "digit": 7,
          "tSNE-1": 1.4204308986663818,
          "tSNE-2": 43.353248596191406
         },
         {
          "KM-label": 0,
          "digit": 9,
          "tSNE-1": -12.00918197631836,
          "tSNE-2": -16.993968963623047
         },
         {
          "KM-label": 1,
          "digit": 5,
          "tSNE-1": 12.009690284729004,
          "tSNE-2": -7.3575358390808105
         },
         {
          "KM-label": 4,
          "digit": 4,
          "tSNE-1": 36.12696075439453,
          "tSNE-2": 20.703340530395508
         },
         {
          "KM-label": 6,
          "digit": 8,
          "tSNE-1": -2.5208868980407715,
          "tSNE-2": 7.135226249694824
         },
         {
          "KM-label": 6,
          "digit": 8,
          "tSNE-1": -5.032577037811279,
          "tSNE-2": 8.090412139892578
         },
         {
          "KM-label": 4,
          "digit": 4,
          "tSNE-1": 31.072742462158203,
          "tSNE-2": 26.707408905029297
         },
         {
          "KM-label": 0,
          "digit": 9,
          "tSNE-1": -11.511475563049316,
          "tSNE-2": -23.223194122314453
         },
         {
          "KM-label": 2,
          "digit": 0,
          "tSNE-1": -10.557831764221191,
          "tSNE-2": -40.783077239990234
         },
         {
          "KM-label": 6,
          "digit": 8,
          "tSNE-1": -6.085743427276611,
          "tSNE-2": 8.76150131225586
         },
         {
          "KM-label": 0,
          "digit": 9,
          "tSNE-1": -10.41494083404541,
          "tSNE-2": -16.79157829284668
         },
         {
          "KM-label": 6,
          "digit": 8,
          "tSNE-1": -5.418638229370117,
          "tSNE-2": 8.468622207641602
         },
         {
          "KM-label": 2,
          "digit": 0,
          "tSNE-1": -7.074243068695068,
          "tSNE-2": -50.84846496582031
         },
         {
          "KM-label": 7,
          "digit": 1,
          "tSNE-1": 19.427480697631836,
          "tSNE-2": 7.723991870880127
         },
         {
          "KM-label": 5,
          "digit": 2,
          "tSNE-1": -32.349544525146484,
          "tSNE-2": 12.189013481140137
         },
         {
          "KM-label": 9,
          "digit": 3,
          "tSNE-1": -31.577905654907227,
          "tSNE-2": -10.330038070678711
         },
         {
          "KM-label": 4,
          "digit": 4,
          "tSNE-1": 41.14467239379883,
          "tSNE-2": 20.202857971191406
         },
         {
          "KM-label": 0,
          "digit": 5,
          "tSNE-1": 7.994859218597412,
          "tSNE-2": -20.329153060913086
         },
         {
          "KM-label": 3,
          "digit": 6,
          "tSNE-1": 31.164264678955078,
          "tSNE-2": -9.203307151794434
         },
         {
          "KM-label": 8,
          "digit": 7,
          "tSNE-1": -8.111810684204102,
          "tSNE-2": 38.038108825683594
         },
         {
          "KM-label": 6,
          "digit": 8,
          "tSNE-1": -5.450902462005615,
          "tSNE-2": 5.086477279663086
         },
         {
          "KM-label": 0,
          "digit": 9,
          "tSNE-1": -14.278985023498535,
          "tSNE-2": -22.530149459838867
         },
         {
          "KM-label": 2,
          "digit": 0,
          "tSNE-1": -0.9826468825340271,
          "tSNE-2": -44.46470642089844
         },
         {
          "KM-label": 6,
          "digit": 1,
          "tSNE-1": 9.492172241210938,
          "tSNE-2": 9.642789840698242
         },
         {
          "KM-label": 5,
          "digit": 2,
          "tSNE-1": -35.239173889160156,
          "tSNE-2": 12.523277282714844
         },
         {
          "KM-label": 9,
          "digit": 3,
          "tSNE-1": -34.66352081298828,
          "tSNE-2": -7.298548221588135
         },
         {
          "KM-label": 4,
          "digit": 4,
          "tSNE-1": 41.486297607421875,
          "tSNE-2": 20.00135612487793
         },
         {
          "KM-label": 1,
          "digit": 5,
          "tSNE-1": 8.137114524841309,
          "tSNE-2": -17.837305068969727
         },
         {
          "KM-label": 3,
          "digit": 6,
          "tSNE-1": 31.915775299072266,
          "tSNE-2": -9.09663200378418
         },
         {
          "KM-label": 8,
          "digit": 7,
          "tSNE-1": 2.7783706188201904,
          "tSNE-2": 37.78904342651367
         },
         {
          "KM-label": 6,
          "digit": 8,
          "tSNE-1": -3.713012456893921,
          "tSNE-2": 5.137844562530518
         },
         {
          "KM-label": 0,
          "digit": 9,
          "tSNE-1": -10.972317695617676,
          "tSNE-2": -20.074729919433594
         },
         {
          "KM-label": 2,
          "digit": 0,
          "tSNE-1": -1.8094977140426636,
          "tSNE-2": -44.86679458618164
         },
         {
          "KM-label": 7,
          "digit": 1,
          "tSNE-1": 19.014339447021484,
          "tSNE-2": 12.845317840576172
         },
         {
          "KM-label": 9,
          "digit": 2,
          "tSNE-1": -33.020774841308594,
          "tSNE-2": 11.977385520935059
         },
         {
          "KM-label": 9,
          "digit": 3,
          "tSNE-1": -26.635427474975586,
          "tSNE-2": -14.805045127868652
         },
         {
          "KM-label": 4,
          "digit": 4,
          "tSNE-1": 41.581050872802734,
          "tSNE-2": 19.969133377075195
         },
         {
          "KM-label": 1,
          "digit": 5,
          "tSNE-1": 11.912854194641113,
          "tSNE-2": -17.45305633544922
         },
         {
          "KM-label": 3,
          "digit": 6,
          "tSNE-1": 32.36204147338867,
          "tSNE-2": -11.044707298278809
         },
         {
          "KM-label": 8,
          "digit": 7,
          "tSNE-1": -1.2708263397216797,
          "tSNE-2": 37.15790939331055
         },
         {
          "KM-label": 6,
          "digit": 8,
          "tSNE-1": -3.973292112350464,
          "tSNE-2": 6.585411071777344
         },
         {
          "KM-label": 0,
          "digit": 9,
          "tSNE-1": -10.270000457763672,
          "tSNE-2": -19.504072189331055
         },
         {
          "KM-label": 2,
          "digit": 0,
          "tSNE-1": -2.673236846923828,
          "tSNE-2": -51.47789764404297
         },
         {
          "KM-label": 0,
          "digit": 9,
          "tSNE-1": -11.197969436645508,
          "tSNE-2": -21.00840187072754
         },
         {
          "KM-label": 1,
          "digit": 5,
          "tSNE-1": 10.711575508117676,
          "tSNE-2": -16.792037963867188
         },
         {
          "KM-label": 1,
          "digit": 5,
          "tSNE-1": 11.43886947631836,
          "tSNE-2": -16.262147903442383
         },
         {
          "KM-label": 3,
          "digit": 6,
          "tSNE-1": 32.372806549072266,
          "tSNE-2": -11.014713287353516
         },
         {
          "KM-label": 1,
          "digit": 5,
          "tSNE-1": 7.171144962310791,
          "tSNE-2": -14.523100852966309
         },
         {
          "KM-label": 2,
          "digit": 0,
          "tSNE-1": 3.4912922382354736,
          "tSNE-2": -41.32514953613281
         },
         {
          "KM-label": 0,
          "digit": 9,
          "tSNE-1": -14.576346397399902,
          "tSNE-2": -19.33157730102539
         },
         {
          "KM-label": 6,
          "digit": 8,
          "tSNE-1": -6.751095771789551,
          "tSNE-2": 8.59131908416748
         },
         {
          "KM-label": 0,
          "digit": 9,
          "tSNE-1": -9.145827293395996,
          "tSNE-2": -18.2823429107666
         },
         {
          "KM-label": 6,
          "digit": 8,
          "tSNE-1": -5.863778591156006,
          "tSNE-2": 5.922624588012695
         },
         {
          "KM-label": 4,
          "digit": 4,
          "tSNE-1": 40.74586486816406,
          "tSNE-2": 20.289077758789062
         },
         {
          "KM-label": 6,
          "digit": 1,
          "tSNE-1": 6.7998785972595215,
          "tSNE-2": 15.365082740783691
         },
         {
          "KM-label": 8,
          "digit": 7,
          "tSNE-1": 3.268756628036499,
          "tSNE-2": 37.46562957763672
         },
         {
          "KM-label": 8,
          "digit": 7,
          "tSNE-1": -2.124802350997925,
          "tSNE-2": 36.9195442199707
         },
         {
          "KM-label": 9,
          "digit": 3,
          "tSNE-1": -31.552791595458984,
          "tSNE-2": -11.506770133972168
         },
         {
          "KM-label": 1,
          "digit": 5,
          "tSNE-1": 10.809462547302246,
          "tSNE-2": -16.949766159057617
         },
         {
          "KM-label": 6,
          "digit": 1,
          "tSNE-1": 6.132052898406982,
          "tSNE-2": 16.123210906982422
         },
         {
          "KM-label": 2,
          "digit": 0,
          "tSNE-1": -0.6858229637145996,
          "tSNE-2": -43.252017974853516
         },
         {
          "KM-label": 2,
          "digit": 0,
          "tSNE-1": -0.29427698254585266,
          "tSNE-2": -43.17350769042969
         },
         {
          "KM-label": 9,
          "digit": 2,
          "tSNE-1": -33.1279182434082,
          "tSNE-2": 10.953006744384766
         },
         {
          "KM-label": 9,
          "digit": 2,
          "tSNE-1": -33.73863220214844,
          "tSNE-2": 10.521722793579102
         },
         {
          "KM-label": 8,
          "digit": 7,
          "tSNE-1": -1.235560655593872,
          "tSNE-2": 37.27503967285156
         },
         {
          "KM-label": 6,
          "digit": 8,
          "tSNE-1": -4.608704090118408,
          "tSNE-2": 5.528513431549072
         },
         {
          "KM-label": 9,
          "digit": 2,
          "tSNE-1": -34.97297286987305,
          "tSNE-2": 10.400468826293945
         },
         {
          "KM-label": 2,
          "digit": 0,
          "tSNE-1": -2.8201744556427,
          "tSNE-2": -38.492618560791016
         },
         {
          "KM-label": 7,
          "digit": 1,
          "tSNE-1": 17.165828704833984,
          "tSNE-2": 9.195465087890625
         },
         {
          "KM-label": 9,
          "digit": 2,
          "tSNE-1": -33.46772766113281,
          "tSNE-2": 11.154407501220703
         },
         {
          "KM-label": 3,
          "digit": 6,
          "tSNE-1": 30.28334617614746,
          "tSNE-2": -12.664840698242188
         },
         {
          "KM-label": 9,
          "digit": 3,
          "tSNE-1": -30.73527717590332,
          "tSNE-2": -4.403005123138428
         },
         {
          "KM-label": 9,
          "digit": 3,
          "tSNE-1": -33.72596740722656,
          "tSNE-2": -8.370623588562012
         },
         {
          "KM-label": 8,
          "digit": 7,
          "tSNE-1": -7.822810173034668,
          "tSNE-2": 36.392208099365234
         },
         {
          "KM-label": 9,
          "digit": 3,
          "tSNE-1": -34.27823257446289,
          "tSNE-2": -10.522992134094238
         },
         {
          "KM-label": 9,
          "digit": 3,
          "tSNE-1": -33.70085906982422,
          "tSNE-2": -10.721006393432617
         },
         {
          "KM-label": 4,
          "digit": 4,
          "tSNE-1": 40.75926971435547,
          "tSNE-2": 19.86730194091797
         },
         {
          "KM-label": 3,
          "digit": 6,
          "tSNE-1": 29.818452835083008,
          "tSNE-2": -13.08537769317627
         },
         {
          "KM-label": 3,
          "digit": 6,
          "tSNE-1": 29.427566528320312,
          "tSNE-2": -12.854025840759277
         },
         {
          "KM-label": 3,
          "digit": 6,
          "tSNE-1": 30.794580459594727,
          "tSNE-2": -12.206449508666992
         },
         {
          "KM-label": 4,
          "digit": 4,
          "tSNE-1": 39.22555160522461,
          "tSNE-2": 22.227279663085938
         },
         {
          "KM-label": 0,
          "digit": 9,
          "tSNE-1": -18.74982261657715,
          "tSNE-2": -22.06378746032715
         },
         {
          "KM-label": 6,
          "digit": 1,
          "tSNE-1": 4.61097526550293,
          "tSNE-2": 16.1778621673584
         },
         {
          "KM-label": 1,
          "digit": 5,
          "tSNE-1": 11.527837753295898,
          "tSNE-2": -18.434864044189453
         },
         {
          "KM-label": 2,
          "digit": 0,
          "tSNE-1": -4.938249588012695,
          "tSNE-2": -42.28251266479492
         },
         {
          "KM-label": 0,
          "digit": 9,
          "tSNE-1": -11.263819694519043,
          "tSNE-2": -19.94353675842285
         },
         {
          "KM-label": 3,
          "digit": 5,
          "tSNE-1": 34.17786407470703,
          "tSNE-2": -18.55657958984375
         },
         {
          "KM-label": 5,
          "digit": 2,
          "tSNE-1": -34.644535064697266,
          "tSNE-2": 16.177412033081055
         },
         {
          "KM-label": 6,
          "digit": 8,
          "tSNE-1": -8.031790733337402,
          "tSNE-2": 4.348076820373535
         },
         {
          "KM-label": 9,
          "digit": 2,
          "tSNE-1": -34.880104064941406,
          "tSNE-2": 9.868313789367676
         },
         {
          "KM-label": 2,
          "digit": 0,
          "tSNE-1": -7.820242404937744,
          "tSNE-2": -44.143035888671875
         },
         {
          "KM-label": 2,
          "digit": 0,
          "tSNE-1": -1.564286470413208,
          "tSNE-2": -43.744232177734375
         },
         {
          "KM-label": 7,
          "digit": 1,
          "tSNE-1": 13.9399995803833,
          "tSNE-2": 9.82242488861084
         },
         {
          "KM-label": 8,
          "digit": 7,
          "tSNE-1": -6.010297775268555,
          "tSNE-2": 36.49076843261719
         },
         {
          "KM-label": 3,
          "digit": 6,
          "tSNE-1": 31.101512908935547,
          "tSNE-2": -10.282124519348145
         },
         {
          "KM-label": 9,
          "digit": 3,
          "tSNE-1": -31.138935089111328,
          "tSNE-2": -11.358001708984375
         },
         {
          "KM-label": 5,
          "digit": 2,
          "tSNE-1": -33.32908630371094,
          "tSNE-2": 14.960958480834961
         },
         {
          "KM-label": 6,
          "digit": 1,
          "tSNE-1": 5.650651454925537,
          "tSNE-2": 18.059246063232422
         },
         {
          "KM-label": 8,
          "digit": 7,
          "tSNE-1": -7.676023960113525,
          "tSNE-2": 41.16438293457031
         },
         {
          "KM-label": 4,
          "digit": 4,
          "tSNE-1": 39.23242950439453,
          "tSNE-2": 22.401662826538086
         },
         {
          "KM-label": 3,
          "digit": 6,
          "tSNE-1": 32.37022399902344,
          "tSNE-2": -10.967411041259766
         },
         {
          "KM-label": 9,
          "digit": 3,
          "tSNE-1": -29.537553787231445,
          "tSNE-2": -2.8604915142059326
         },
         {
          "KM-label": 6,
          "digit": 1,
          "tSNE-1": 6.142693042755127,
          "tSNE-2": 16.936988830566406
         },
         {
          "KM-label": 9,
          "digit": 3,
          "tSNE-1": -29.67034149169922,
          "tSNE-2": -11.510486602783203
         },
         {
          "KM-label": 0,
          "digit": 9,
          "tSNE-1": -13.655407905578613,
          "tSNE-2": -21.484590530395508
         },
         {
          "KM-label": 6,
          "digit": 1,
          "tSNE-1": 6.025362491607666,
          "tSNE-2": 15.396512985229492
         },
         {
          "KM-label": 8,
          "digit": 7,
          "tSNE-1": 2.2026352882385254,
          "tSNE-2": 38.66151428222656
         },
         {
          "KM-label": 3,
          "digit": 6,
          "tSNE-1": 32.024635314941406,
          "tSNE-2": -9.636641502380371
         },
         {
          "KM-label": 6,
          "digit": 8,
          "tSNE-1": -5.182870864868164,
          "tSNE-2": 9.03061294555664
         },
         {
          "KM-label": 4,
          "digit": 4,
          "tSNE-1": 40.93265151977539,
          "tSNE-2": 19.78152084350586
         },
         {
          "KM-label": 9,
          "digit": 3,
          "tSNE-1": -33.48282241821289,
          "tSNE-2": -9.373916625976562
         },
         {
          "KM-label": 6,
          "digit": 1,
          "tSNE-1": 5.720486640930176,
          "tSNE-2": 13.673328399658203
         },
         {
          "KM-label": 4,
          "digit": 4,
          "tSNE-1": 34.66267776489258,
          "tSNE-2": 22.489845275878906
         },
         {
          "KM-label": 2,
          "digit": 0,
          "tSNE-1": -0.9849072098731995,
          "tSNE-2": -44.37343215942383
         },
         {
          "KM-label": 1,
          "digit": 5,
          "tSNE-1": 12.755386352539062,
          "tSNE-2": -14.139871597290039
         },
         {
          "KM-label": 9,
          "digit": 3,
          "tSNE-1": -32.107887268066406,
          "tSNE-2": -11.432351112365723
         },
         {
          "KM-label": 3,
          "digit": 6,
          "tSNE-1": 28.983051300048828,
          "tSNE-2": -10.67830753326416
         },
         {
          "KM-label": 0,
          "digit": 9,
          "tSNE-1": -9.211063385009766,
          "tSNE-2": -20.57740020751953
         },
         {
          "KM-label": 3,
          "digit": 6,
          "tSNE-1": 28.62966537475586,
          "tSNE-2": -12.874844551086426
         },
         {
          "KM-label": 6,
          "digit": 1,
          "tSNE-1": 6.444857597351074,
          "tSNE-2": 13.617901802062988
         },
         {
          "KM-label": 8,
          "digit": 7,
          "tSNE-1": -5.640949726104736,
          "tSNE-2": 40.223289489746094
         },
         {
          "KM-label": 1,
          "digit": 5,
          "tSNE-1": 9.780573844909668,
          "tSNE-2": -12.811577796936035
         },
         {
          "KM-label": 4,
          "digit": 4,
          "tSNE-1": 37.3363151550293,
          "tSNE-2": 20.052391052246094
         },
         {
          "KM-label": 4,
          "digit": 4,
          "tSNE-1": 37.11497116088867,
          "tSNE-2": 20.200401306152344
         },
         {
          "KM-label": 8,
          "digit": 7,
          "tSNE-1": 4.21998405456543,
          "tSNE-2": 40.413543701171875
         },
         {
          "KM-label": 0,
          "digit": 2,
          "tSNE-1": -33.81853485107422,
          "tSNE-2": 11.690625190734863
         },
         {
          "KM-label": 6,
          "digit": 8,
          "tSNE-1": -7.023458003997803,
          "tSNE-2": 8.881941795349121
         },
         {
          "KM-label": 5,
          "digit": 2,
          "tSNE-1": -34.00716018676758,
          "tSNE-2": 14.055177688598633
         },
         {
          "KM-label": 5,
          "digit": 2,
          "tSNE-1": -33.45834732055664,
          "tSNE-2": 13.046204566955566
         },
         {
          "KM-label": 0,
          "digit": 5,
          "tSNE-1": 11.834185600280762,
          "tSNE-2": -19.14853286743164
         },
         {
          "KM-label": 8,
          "digit": 7,
          "tSNE-1": -2.814736843109131,
          "tSNE-2": 36.961551666259766
         },
         {
          "KM-label": 0,
          "digit": 9,
          "tSNE-1": -9.235858917236328,
          "tSNE-2": -20.273103713989258
         },
         {
          "KM-label": 1,
          "digit": 5,
          "tSNE-1": 7.92615270614624,
          "tSNE-2": -13.857820510864258
         },
         {
          "KM-label": 4,
          "digit": 4,
          "tSNE-1": 36.70667266845703,
          "tSNE-2": 20.296308517456055
         },
         {
          "KM-label": 6,
          "digit": 8,
          "tSNE-1": -5.252769947052002,
          "tSNE-2": 5.986687183380127
         },
         {
          "KM-label": 6,
          "digit": 8,
          "tSNE-1": -3.4411091804504395,
          "tSNE-2": 5.206362724304199
         },
         {
          "KM-label": 4,
          "digit": 4,
          "tSNE-1": 39.23731994628906,
          "tSNE-2": 22.304479598999023
         },
         {
          "KM-label": 0,
          "digit": 9,
          "tSNE-1": -7.565720081329346,
          "tSNE-2": -21.065837860107422
         },
         {
          "KM-label": 2,
          "digit": 0,
          "tSNE-1": 3.6093969345092773,
          "tSNE-2": -41.39265060424805
         },
         {
          "KM-label": 6,
          "digit": 8,
          "tSNE-1": -4.113119125366211,
          "tSNE-2": 7.757469177246094
         },
         {
          "KM-label": 2,
          "digit": 0,
          "tSNE-1": -7.630122184753418,
          "tSNE-2": -47.86629104614258
         },
         {
          "KM-label": 7,
          "digit": 1,
          "tSNE-1": 19.1019287109375,
          "tSNE-2": 8.167912483215332
         },
         {
          "KM-label": 5,
          "digit": 2,
          "tSNE-1": -35.497249603271484,
          "tSNE-2": 22.917112350463867
         },
         {
          "KM-label": 9,
          "digit": 3,
          "tSNE-1": -25.69052505493164,
          "tSNE-2": -12.231468200683594
         },
         {
          "KM-label": 4,
          "digit": 4,
          "tSNE-1": 34.205135345458984,
          "tSNE-2": 30.325769424438477
         },
         {
          "KM-label": 1,
          "digit": 5,
          "tSNE-1": 6.387833118438721,
          "tSNE-2": -19.597387313842773
         },
         {
          "KM-label": 3,
          "digit": 6,
          "tSNE-1": 37.58980178833008,
          "tSNE-2": -17.51361083984375
         },
         {
          "KM-label": 8,
          "digit": 7,
          "tSNE-1": 5.278720855712891,
          "tSNE-2": 36.248939514160156
         },
         {
          "KM-label": 0,
          "digit": 8,
          "tSNE-1": -11.0772705078125,
          "tSNE-2": -2.826223134994507
         },
         {
          "KM-label": 0,
          "digit": 9,
          "tSNE-1": -13.236300468444824,
          "tSNE-2": -24.12932777404785
         },
         {
          "KM-label": 2,
          "digit": 0,
          "tSNE-1": -3.464226245880127,
          "tSNE-2": -48.54978561401367
         },
         {
          "KM-label": 7,
          "digit": 1,
          "tSNE-1": 19.776975631713867,
          "tSNE-2": 8.903186798095703
         },
         {
          "KM-label": 5,
          "digit": 2,
          "tSNE-1": -36.66059494018555,
          "tSNE-2": 23.788949966430664
         },
         {
          "KM-label": 9,
          "digit": 3,
          "tSNE-1": -25.799699783325195,
          "tSNE-2": -13.861533164978027
         },
         {
          "KM-label": 4,
          "digit": 4,
          "tSNE-1": 37.520389556884766,
          "tSNE-2": 27.887887954711914
         },
         {
          "KM-label": 0,
          "digit": 5,
          "tSNE-1": 7.578066349029541,
          "tSNE-2": -19.85630226135254
         },
         {
          "KM-label": 3,
          "digit": 6,
          "tSNE-1": 37.825443267822266,
          "tSNE-2": -17.931692123413086
         },
         {
          "KM-label": 8,
          "digit": 7,
          "tSNE-1": 5.992244720458984,
          "tSNE-2": 36.68981170654297
         },
         {
          "KM-label": 0,
          "digit": 8,
          "tSNE-1": -11.530872344970703,
          "tSNE-2": -2.809187889099121
         },
         {
          "KM-label": 0,
          "digit": 9,
          "tSNE-1": -10.827369689941406,
          "tSNE-2": -24.115131378173828
         },
         {
          "KM-label": 2,
          "digit": 0,
          "tSNE-1": -9.71058177947998,
          "tSNE-2": -47.50034713745117
         },
         {
          "KM-label": 7,
          "digit": 1,
          "tSNE-1": 17.947509765625,
          "tSNE-2": 9.563389778137207
         },
         {
          "KM-label": 5,
          "digit": 2,
          "tSNE-1": -35.80867004394531,
          "tSNE-2": 22.36821746826172
         },
         {
          "KM-label": 9,
          "digit": 3,
          "tSNE-1": -26.112869262695312,
          "tSNE-2": -11.153691291809082
         },
         {
          "KM-label": 4,
          "digit": 4,
          "tSNE-1": 36.0753173828125,
          "tSNE-2": 28.378259658813477
         },
         {
          "KM-label": 0,
          "digit": 5,
          "tSNE-1": 0.14329473674297333,
          "tSNE-2": -19.475053787231445
         },
         {
          "KM-label": 3,
          "digit": 6,
          "tSNE-1": 39.38941955566406,
          "tSNE-2": -17.387428283691406
         },
         {
          "KM-label": 8,
          "digit": 7,
          "tSNE-1": 5.344598293304443,
          "tSNE-2": 36.02764129638672
         },
         {
          "KM-label": 0,
          "digit": 8,
          "tSNE-1": -12.09774112701416,
          "tSNE-2": -2.824352264404297
         },
         {
          "KM-label": 0,
          "digit": 9,
          "tSNE-1": -13.367563247680664,
          "tSNE-2": -24.11414909362793
         },
         {
          "KM-label": 2,
          "digit": 0,
          "tSNE-1": -4.489093780517578,
          "tSNE-2": -48.59473419189453
         },
         {
          "KM-label": 0,
          "digit": 9,
          "tSNE-1": -12.369135856628418,
          "tSNE-2": -21.748449325561523
         },
         {
          "KM-label": 0,
          "digit": 5,
          "tSNE-1": 7.569792747497559,
          "tSNE-2": -19.956222534179688
         },
         {
          "KM-label": 0,
          "digit": 5,
          "tSNE-1": 7.519930839538574,
          "tSNE-2": -19.714269638061523
         },
         {
          "KM-label": 3,
          "digit": 6,
          "tSNE-1": 35.08024597167969,
          "tSNE-2": -17.28423309326172
         },
         {
          "KM-label": 0,
          "digit": 5,
          "tSNE-1": 7.743370056152344,
          "tSNE-2": -19.797269821166992
         },
         {
          "KM-label": 2,
          "digit": 0,
          "tSNE-1": -4.3330230712890625,
          "tSNE-2": -48.1096076965332
         },
         {
          "KM-label": 0,
          "digit": 9,
          "tSNE-1": -11.08190631866455,
          "tSNE-2": -23.439258575439453
         },
         {
          "KM-label": 0,
          "digit": 8,
          "tSNE-1": -9.883565902709961,
          "tSNE-2": -1.581919550895691
         },
         {
          "KM-label": 0,
          "digit": 9,
          "tSNE-1": -11.957176208496094,
          "tSNE-2": -24.708648681640625
         },
         {
          "KM-label": 0,
          "digit": 8,
          "tSNE-1": -9.709071159362793,
          "tSNE-2": -1.9875344038009644
         },
         {
          "KM-label": 4,
          "digit": 4,
          "tSNE-1": 36.43576431274414,
          "tSNE-2": 25.030746459960938
         },
         {
          "KM-label": 7,
          "digit": 1,
          "tSNE-1": 19.876476287841797,
          "tSNE-2": 10.609291076660156
         },
         {
          "KM-label": 8,
          "digit": 7,
          "tSNE-1": 3.676605701446533,
          "tSNE-2": 36.40398025512695
         },
         {
          "KM-label": 8,
          "digit": 7,
          "tSNE-1": 3.7842109203338623,
          "tSNE-2": 35.615562438964844
         },
         {
          "KM-label": 9,
          "digit": 3,
          "tSNE-1": -29.206050872802734,
          "tSNE-2": -10.565983772277832
         },
         {
          "KM-label": 0,
          "digit": 5,
          "tSNE-1": 4.079017162322998,
          "tSNE-2": -20.03611946105957
         },
         {
          "KM-label": 7,
          "digit": 1,
          "tSNE-1": 20.290569305419922,
          "tSNE-2": 10.425727844238281
         },
         {
          "KM-label": 2,
          "digit": 0,
          "tSNE-1": -5.138988971710205,
          "tSNE-2": -47.290313720703125
         },
         {
          "KM-label": 2,
          "digit": 0,
          "tSNE-1": -5.118251323699951,
          "tSNE-2": -47.55913543701172
         },
         {
          "KM-label": 5,
          "digit": 2,
          "tSNE-1": -37.02790069580078,
          "tSNE-2": 20.010961532592773
         },
         {
          "KM-label": 5,
          "digit": 2,
          "tSNE-1": -35.53190994262695,
          "tSNE-2": 21.74671745300293
         },
         {
          "KM-label": 8,
          "digit": 7,
          "tSNE-1": 6.671911239624023,
          "tSNE-2": 37.31711196899414
         },
         {
          "KM-label": 7,
          "digit": 8,
          "tSNE-1": -7.635377883911133,
          "tSNE-2": -5.579121112823486
         },
         {
          "KM-label": 5,
          "digit": 2,
          "tSNE-1": -36.9327392578125,
          "tSNE-2": 21.514169692993164
         },
         {
          "KM-label": 2,
          "digit": 0,
          "tSNE-1": -2.8705129623413086,
          "tSNE-2": -51.50370788574219
         },
         {
          "KM-label": 7,
          "digit": 1,
          "tSNE-1": 20.242435455322266,
          "tSNE-2": 8.991212844848633
         },
         {
          "KM-label": 5,
          "digit": 2,
          "tSNE-1": -37.222023010253906,
          "tSNE-2": 21.92084503173828
         },
         {
          "KM-label": 3,
          "digit": 6,
          "tSNE-1": 38.44417953491211,
          "tSNE-2": -18.165443420410156
         },
         {
          "KM-label": 9,
          "digit": 3,
          "tSNE-1": -25.71198844909668,
          "tSNE-2": -13.386673927307129
         },
         {
          "KM-label": 9,
          "digit": 3,
          "tSNE-1": -29.046180725097656,
          "tSNE-2": -12.574392318725586
         },
         {
          "KM-label": 8,
          "digit": 7,
          "tSNE-1": 5.013129711151123,
          "tSNE-2": 37.119747161865234
         },
         {
          "KM-label": 9,
          "digit": 3,
          "tSNE-1": -26.328989028930664,
          "tSNE-2": -13.92340087890625
         },
         {
          "KM-label": 9,
          "digit": 3,
          "tSNE-1": -30.535871505737305,
          "tSNE-2": -12.216340065002441
         },
         {
          "KM-label": 4,
          "digit": 4,
          "tSNE-1": 37.34011459350586,
          "tSNE-2": 28.339279174804688
         },
         {
          "KM-label": 3,
          "digit": 6,
          "tSNE-1": 39.08536148071289,
          "tSNE-2": -16.23379898071289
         },
         {
          "KM-label": 3,
          "digit": 6,
          "tSNE-1": 42.204002380371094,
          "tSNE-2": -15.189672470092773
         },
         {
          "KM-label": 3,
          "digit": 6,
          "tSNE-1": 37.00032424926758,
          "tSNE-2": -14.350082397460938
         },
         {
          "KM-label": 4,
          "digit": 4,
          "tSNE-1": 36.393978118896484,
          "tSNE-2": 27.228925704956055
         },
         {
          "KM-label": 0,
          "digit": 9,
          "tSNE-1": -14.138277053833008,
          "tSNE-2": -24.53441619873047
         },
         {
          "KM-label": 7,
          "digit": 1,
          "tSNE-1": 20.251798629760742,
          "tSNE-2": 9.038454055786133
         },
         {
          "KM-label": 0,
          "digit": 5,
          "tSNE-1": 8.3634614944458,
          "tSNE-2": -19.83271026611328
         },
         {
          "KM-label": 2,
          "digit": 0,
          "tSNE-1": -1.5532387495040894,
          "tSNE-2": -50.837127685546875
         },
         {
          "KM-label": 0,
          "digit": 9,
          "tSNE-1": -12.728432655334473,
          "tSNE-2": -24.942161560058594
         },
         {
          "KM-label": 1,
          "digit": 5,
          "tSNE-1": 11.02703857421875,
          "tSNE-2": -17.56041145324707
         },
         {
          "KM-label": 5,
          "digit": 2,
          "tSNE-1": -36.232872009277344,
          "tSNE-2": 22.054309844970703
         },
         {
          "KM-label": 0,
          "digit": 8,
          "tSNE-1": -9.881651878356934,
          "tSNE-2": -4.057852745056152
         },
         {
          "KM-label": 5,
          "digit": 2,
          "tSNE-1": -36.829315185546875,
          "tSNE-2": 21.491535186767578
         },
         {
          "KM-label": 2,
          "digit": 0,
          "tSNE-1": -2.483875274658203,
          "tSNE-2": -51.393470764160156
         },
         {
          "KM-label": 2,
          "digit": 0,
          "tSNE-1": -5.582431316375732,
          "tSNE-2": -47.133323669433594
         },
         {
          "KM-label": 7,
          "digit": 1,
          "tSNE-1": 20.669614791870117,
          "tSNE-2": 9.354422569274902
         },
         {
          "KM-label": 8,
          "digit": 7,
          "tSNE-1": 3.6849524974823,
          "tSNE-2": 37.19141387939453
         },
         {
          "KM-label": 3,
          "digit": 6,
          "tSNE-1": 37.31712341308594,
          "tSNE-2": -17.67972183227539
         },
         {
          "KM-label": 9,
          "digit": 3,
          "tSNE-1": -27.71267318725586,
          "tSNE-2": -12.247054100036621
         },
         {
          "KM-label": 5,
          "digit": 2,
          "tSNE-1": -34.92892074584961,
          "tSNE-2": 26.45730209350586
         },
         {
          "KM-label": 7,
          "digit": 1,
          "tSNE-1": 19.394014358520508,
          "tSNE-2": 8.02822494506836
         },
         {
          "KM-label": 8,
          "digit": 7,
          "tSNE-1": 2.874427556991577,
          "tSNE-2": 36.522857666015625
         },
         {
          "KM-label": 4,
          "digit": 4,
          "tSNE-1": 37.281314849853516,
          "tSNE-2": 26.958959579467773
         },
         {
          "KM-label": 3,
          "digit": 6,
          "tSNE-1": 37.07895278930664,
          "tSNE-2": -17.29646110534668
         },
         {
          "KM-label": 9,
          "digit": 3,
          "tSNE-1": -29.194040298461914,
          "tSNE-2": -8.964454650878906
         },
         {
          "KM-label": 7,
          "digit": 1,
          "tSNE-1": 17.967721939086914,
          "tSNE-2": 9.612930297851562
         },
         {
          "KM-label": 9,
          "digit": 3,
          "tSNE-1": -29.441123962402344,
          "tSNE-2": -10.730245590209961
         },
         {
          "KM-label": 0,
          "digit": 9,
          "tSNE-1": -11.020792007446289,
          "tSNE-2": -23.235504150390625
         },
         {
          "KM-label": 7,
          "digit": 1,
          "tSNE-1": 20.08426284790039,
          "tSNE-2": 9.736889839172363
         },
         {
          "KM-label": 8,
          "digit": 7,
          "tSNE-1": 3.909421443939209,
          "tSNE-2": 36.47713851928711
         },
         {
          "KM-label": 3,
          "digit": 6,
          "tSNE-1": 36.51640701293945,
          "tSNE-2": -16.351943969726562
         },
         {
          "KM-label": 0,
          "digit": 8,
          "tSNE-1": -9.465180397033691,
          "tSNE-2": -4.023436069488525
         },
         {
          "KM-label": 4,
          "digit": 4,
          "tSNE-1": 35.93983459472656,
          "tSNE-2": 28.589033126831055
         },
         {
          "KM-label": 9,
          "digit": 3,
          "tSNE-1": -29.76005744934082,
          "tSNE-2": -12.184484481811523
         },
         {
          "KM-label": 7,
          "digit": 1,
          "tSNE-1": 20.500505447387695,
          "tSNE-2": 10.15917682647705
         },
         {
          "KM-label": 4,
          "digit": 4,
          "tSNE-1": 36.094078063964844,
          "tSNE-2": 28.16050910949707
         },
         {
          "KM-label": 2,
          "digit": 0,
          "tSNE-1": -4.718677997589111,
          "tSNE-2": -48.635284423828125
         },
         {
          "KM-label": 0,
          "digit": 5,
          "tSNE-1": 4.042459487915039,
          "tSNE-2": -20.027633666992188
         },
         {
          "KM-label": 9,
          "digit": 3,
          "tSNE-1": -27.591421127319336,
          "tSNE-2": -11.342101097106934
         },
         {
          "KM-label": 3,
          "digit": 6,
          "tSNE-1": 36.59526062011719,
          "tSNE-2": -16.43131446838379
         },
         {
          "KM-label": 0,
          "digit": 9,
          "tSNE-1": -13.728472709655762,
          "tSNE-2": -24.645671844482422
         },
         {
          "KM-label": 3,
          "digit": 6,
          "tSNE-1": 35.43830871582031,
          "tSNE-2": -11.703442573547363
         },
         {
          "KM-label": 7,
          "digit": 1,
          "tSNE-1": 20.142642974853516,
          "tSNE-2": 8.606996536254883
         },
         {
          "KM-label": 8,
          "digit": 7,
          "tSNE-1": 5.555041790008545,
          "tSNE-2": 35.269012451171875
         },
         {
          "KM-label": 0,
          "digit": 5,
          "tSNE-1": 2.236375331878662,
          "tSNE-2": -21.667512893676758
         },
         {
          "KM-label": 4,
          "digit": 4,
          "tSNE-1": 36.96580123901367,
          "tSNE-2": 27.29838752746582
         },
         {
          "KM-label": 4,
          "digit": 4,
          "tSNE-1": 32.969573974609375,
          "tSNE-2": 29.576499938964844
         },
         {
          "KM-label": 8,
          "digit": 7,
          "tSNE-1": 5.645137786865234,
          "tSNE-2": 37.00730514526367
         },
         {
          "KM-label": 5,
          "digit": 2,
          "tSNE-1": -36.27939987182617,
          "tSNE-2": 20.252206802368164
         },
         {
          "KM-label": 0,
          "digit": 8,
          "tSNE-1": -8.461204528808594,
          "tSNE-2": -4.424093246459961
         },
         {
          "KM-label": 5,
          "digit": 2,
          "tSNE-1": -33.555641174316406,
          "tSNE-2": 15.778582572937012
         },
         {
          "KM-label": 5,
          "digit": 2,
          "tSNE-1": -37.20973587036133,
          "tSNE-2": 21.87935447692871
         },
         {
          "KM-label": 1,
          "digit": 5,
          "tSNE-1": 8.75066089630127,
          "tSNE-2": -19.407960891723633
         },
         {
          "KM-label": 8,
          "digit": 7,
          "tSNE-1": 5.412567138671875,
          "tSNE-2": 35.820682525634766
         },
         {
          "KM-label": 0,
          "digit": 9,
          "tSNE-1": -11.818400382995605,
          "tSNE-2": -21.154052734375
         },
         {
          "KM-label": 1,
          "digit": 5,
          "tSNE-1": 7.5313801765441895,
          "tSNE-2": -17.72057342529297
         },
         {
          "KM-label": 4,
          "digit": 4,
          "tSNE-1": 37.084739685058594,
          "tSNE-2": 27.983957290649414
         },
         {
          "KM-label": 0,
          "digit": 8,
          "tSNE-1": -8.294939994812012,
          "tSNE-2": -3.916301965713501
         },
         {
          "KM-label": 8,
          "digit": 8,
          "tSNE-1": -8.338757514953613,
          "tSNE-2": -3.2754485607147217
         },
         {
          "KM-label": 4,
          "digit": 4,
          "tSNE-1": 36.93832015991211,
          "tSNE-2": 25.7934627532959
         },
         {
          "KM-label": 9,
          "digit": 9,
          "tSNE-1": -10.446571350097656,
          "tSNE-2": -25.644895553588867
         },
         {
          "KM-label": 2,
          "digit": 0,
          "tSNE-1": -6.792755126953125,
          "tSNE-2": -46.075477600097656
         },
         {
          "KM-label": 8,
          "digit": 8,
          "tSNE-1": -8.214933395385742,
          "tSNE-2": -4.267143249511719
         },
         {
          "KM-label": 0,
          "digit": 9,
          "tSNE-1": -10.547575950622559,
          "tSNE-2": -25.131938934326172
         },
         {
          "KM-label": 0,
          "digit": 8,
          "tSNE-1": -8.486513137817383,
          "tSNE-2": -3.1661863327026367
         },
         {
          "KM-label": 2,
          "digit": 0,
          "tSNE-1": 0.5094355940818787,
          "tSNE-2": -42.790870666503906
         },
         {
          "KM-label": 6,
          "digit": 1,
          "tSNE-1": 7.618163108825684,
          "tSNE-2": 14.881796836853027
         },
         {
          "KM-label": 5,
          "digit": 2,
          "tSNE-1": -31.273120880126953,
          "tSNE-2": 18.527751922607422
         },
         {
          "KM-label": 9,
          "digit": 3,
          "tSNE-1": -31.453102111816406,
          "tSNE-2": -3.857126474380493
         },
         {
          "KM-label": 4,
          "digit": 4,
          "tSNE-1": 32.102806091308594,
          "tSNE-2": 25.10692024230957
         },
         {
          "KM-label": 1,
          "digit": 5,
          "tSNE-1": 13.46474838256836,
          "tSNE-2": -5.455907344818115
         },
         {
          "KM-label": 7,
          "digit": 6,
          "tSNE-1": 30.49403953552246,
          "tSNE-2": -8.439159393310547
         },
         {
          "KM-label": 6,
          "digit": 7,
          "tSNE-1": -9.9607572555542,
          "tSNE-2": 35.4212760925293
         },
         {
          "KM-label": 6,
          "digit": 8,
          "tSNE-1": 8.385209083557129,
          "tSNE-2": 9.964831352233887
         },
         {
          "KM-label": 7,
          "digit": 9,
          "tSNE-1": 19.72765350341797,
          "tSNE-2": 16.420448303222656
         },
         {
          "KM-label": 2,
          "digit": 0,
          "tSNE-1": 0.8821622133255005,
          "tSNE-2": -43.42486572265625
         },
         {
          "KM-label": 6,
          "digit": 1,
          "tSNE-1": 5.1489644050598145,
          "tSNE-2": 10.789142608642578
         },
         {
          "KM-label": 9,
          "digit": 2,
          "tSNE-1": -35.69172668457031,
          "tSNE-2": 10.535810470581055
         },
         {
          "KM-label": 9,
          "digit": 3,
          "tSNE-1": -35.39254379272461,
          "tSNE-2": -5.3142266273498535
         },
         {
          "KM-label": 4,
          "digit": 4,
          "tSNE-1": 31.682785034179688,
          "tSNE-2": 25.281890869140625
         },
         {
          "KM-label": 1,
          "digit": 5,
          "tSNE-1": 14.201074600219727,
          "tSNE-2": -5.939516544342041
         },
         {
          "KM-label": 3,
          "digit": 6,
          "tSNE-1": 29.64818572998047,
          "tSNE-2": -9.303133964538574
         },
         {
          "KM-label": 7,
          "digit": 9,
          "tSNE-1": 18.607864379882812,
          "tSNE-2": 18.775278091430664
         },
         {
          "KM-label": 2,
          "digit": 0,
          "tSNE-1": 0.6327416896820068,
          "tSNE-2": -42.04304122924805
         },
         {
          "KM-label": 6,
          "digit": 1,
          "tSNE-1": 4.677218437194824,
          "tSNE-2": 10.325634002685547
         },
         {
          "KM-label": 5,
          "digit": 2,
          "tSNE-1": -36.38972091674805,
          "tSNE-2": 15.379300117492676
         },
         {
          "KM-label": 9,
          "digit": 3,
          "tSNE-1": -29.705047607421875,
          "tSNE-2": -2.865668535232544
         },
         {
          "KM-label": 4,
          "digit": 4,
          "tSNE-1": 31.936922073364258,
          "tSNE-2": 27.994375228881836
         },
         {
          "KM-label": 1,
          "digit": 5,
          "tSNE-1": 10.86057186126709,
          "tSNE-2": -10.446457862854004
         },
         {
          "KM-label": 3,
          "digit": 6,
          "tSNE-1": 34.35658264160156,
          "tSNE-2": -3.994763135910034
         },
         {
          "KM-label": 8,
          "digit": 7,
          "tSNE-1": -9.368346214294434,
          "tSNE-2": 35.77021026611328
         },
         {
          "KM-label": 1,
          "digit": 8,
          "tSNE-1": 0.2601931393146515,
          "tSNE-2": 7.198232173919678
         },
         {
          "KM-label": 7,
          "digit": 9,
          "tSNE-1": 18.63024139404297,
          "tSNE-2": 18.82626724243164
         },
         {
          "KM-label": 4,
          "digit": 0,
          "tSNE-1": 4.862961769104004,
          "tSNE-2": -41.604488372802734
         },
         {
          "KM-label": 7,
          "digit": 9,
          "tSNE-1": 18.74783706665039,
          "tSNE-2": 18.59876251220703
         },
         {
          "KM-label": 1,
          "digit": 5,
          "tSNE-1": 7.737036228179932,
          "tSNE-2": -5.0611090660095215
         },
         {
          "KM-label": 1,
          "digit": 5,
          "tSNE-1": 12.303703308105469,
          "tSNE-2": -3.0084962844848633
         },
         {
          "KM-label": 3,
          "digit": 6,
          "tSNE-1": 30.38905906677246,
          "tSNE-2": -11.102629661560059
         },
         {
          "KM-label": 1,
          "digit": 5,
          "tSNE-1": 13.9537353515625,
          "tSNE-2": -5.596930980682373
         },
         {
          "KM-label": 2,
          "digit": 0,
          "tSNE-1": -2.439509153366089,
          "tSNE-2": -44.55396270751953
         },
         {
          "KM-label": 1,
          "digit": 9,
          "tSNE-1": 10.297329902648926,
          "tSNE-2": 26.561721801757812
         },
         {
          "KM-label": 6,
          "digit": 8,
          "tSNE-1": -8.426417350769043,
          "tSNE-2": 13.846094131469727
         },
         {
          "KM-label": 1,
          "digit": 9,
          "tSNE-1": 7.601020812988281,
          "tSNE-2": -4.966913223266602
         },
         {
          "KM-label": 6,
          "digit": 8,
          "tSNE-1": -10.830421447753906,
          "tSNE-2": 11.923831939697266
         },
         {
          "KM-label": 4,
          "digit": 4,
          "tSNE-1": 33.82855987548828,
          "tSNE-2": 26.064640045166016
         },
         {
          "KM-label": 6,
          "digit": 1,
          "tSNE-1": 6.814377307891846,
          "tSNE-2": 17.000350952148438
         },
         {
          "KM-label": 8,
          "digit": 7,
          "tSNE-1": -5.769761562347412,
          "tSNE-2": 38.8060417175293
         },
         {
          "KM-label": 8,
          "digit": 7,
          "tSNE-1": -9.18281364440918,
          "tSNE-2": 39.06353759765625
         },
         {
          "KM-label": 6,
          "digit": 3,
          "tSNE-1": -24.943761825561523,
          "tSNE-2": 1.8662433624267578
         },
         {
          "KM-label": 1,
          "digit": 5,
          "tSNE-1": 13.48173999786377,
          "tSNE-2": -3.0860726833343506
         },
         {
          "KM-label": 6,
          "digit": 1,
          "tSNE-1": 6.617275238037109,
          "tSNE-2": 14.214852333068848
         },
         {
          "KM-label": 2,
          "digit": 0,
          "tSNE-1": 4.486168384552002,
          "tSNE-2": -42.59139633178711
         },
         {
          "KM-label": 2,
          "digit": 0,
          "tSNE-1": -7.022306442260742,
          "tSNE-2": -39.26356887817383
         },
         {
          "KM-label": 2,
          "digit": 2,
          "tSNE-1": -35.020503997802734,
          "tSNE-2": 9.50224781036377
         },
         {
          "KM-label": 5,
          "digit": 2,
          "tSNE-1": -32.96078872680664,
          "tSNE-2": 19.588119506835938
         },
         {
          "KM-label": 6,
          "digit": 7,
          "tSNE-1": -10.038976669311523,
          "tSNE-2": 39.04075622558594
         },
         {
          "KM-label": 6,
          "digit": 8,
          "tSNE-1": -4.22308874130249,
          "tSNE-2": 6.079396724700928
         },
         {
          "KM-label": 9,
          "digit": 2,
          "tSNE-1": -34.9793586730957,
          "tSNE-2": 9.895767211914062
         },
         {
          "KM-label": 2,
          "digit": 0,
          "tSNE-1": 4.017632007598877,
          "tSNE-2": -44.78277587890625
         },
         {
          "KM-label": 6,
          "digit": 1,
          "tSNE-1": 5.209372043609619,
          "tSNE-2": 10.7724027633667
         },
         {
          "KM-label": 5,
          "digit": 2,
          "tSNE-1": -26.598833084106445,
          "tSNE-2": 23.637338638305664
         },
         {
          "KM-label": 3,
          "digit": 6,
          "tSNE-1": 30.441547393798828,
          "tSNE-2": -9.433486938476562
         },
         {
          "KM-label": 6,
          "digit": 3,
          "tSNE-1": -24.977325439453125,
          "tSNE-2": 1.7047855854034424
         },
         {
          "KM-label": 8,
          "digit": 3,
          "tSNE-1": -24.713565826416016,
          "tSNE-2": 2.492506265640259
         },
         {
          "KM-label": 8,
          "digit": 7,
          "tSNE-1": -8.920222282409668,
          "tSNE-2": 39.32668685913086
         },
         {
          "KM-label": 8,
          "digit": 3,
          "tSNE-1": -8.509503364562988,
          "tSNE-2": 29.48219108581543
         },
         {
          "KM-label": 6,
          "digit": 3,
          "tSNE-1": -25.055267333984375,
          "tSNE-2": 1.2337335348129272
         },
         {
          "KM-label": 4,
          "digit": 4,
          "tSNE-1": 31.54851722717285,
          "tSNE-2": 28.138160705566406
         },
         {
          "KM-label": 3,
          "digit": 6,
          "tSNE-1": 33.45003890991211,
          "tSNE-2": -6.322376728057861
         },
         {
          "KM-label": 3,
          "digit": 6,
          "tSNE-1": 32.8483772277832,
          "tSNE-2": -5.908091068267822
         },
         {
          "KM-label": 3,
          "digit": 6,
          "tSNE-1": 30.883445739746094,
          "tSNE-2": -9.878592491149902
         },
         {
          "KM-label": 8,
          "digit": 4,
          "tSNE-1": -4.866366863250732,
          "tSNE-2": 26.044992446899414
         },
         {
          "KM-label": 7,
          "digit": 9,
          "tSNE-1": 19.930490493774414,
          "tSNE-2": 18.4543399810791
         },
         {
          "KM-label": 6,
          "digit": 1,
          "tSNE-1": 5.786959171295166,
          "tSNE-2": 14.371503829956055
         },
         {
          "KM-label": 1,
          "digit": 5,
          "tSNE-1": 13.073819160461426,
          "tSNE-2": -5.2558135986328125
         },
         {
          "KM-label": 2,
          "digit": 0,
          "tSNE-1": 4.345601558685303,
          "tSNE-2": -42.96285629272461
         },
         {
          "KM-label": 0,
          "digit": 9,
          "tSNE-1": -18.24666976928711,
          "tSNE-2": -20.794506072998047
         },
         {
          "KM-label": 1,
          "digit": 5,
          "tSNE-1": 11.418109893798828,
          "tSNE-2": -14.167158126831055
         },
         {
          "KM-label": 9,
          "digit": 2,
          "tSNE-1": -35.585838317871094,
          "tSNE-2": 10.436195373535156
         },
         {
          "KM-label": 6,
          "digit": 8,
          "tSNE-1": -10.045536041259766,
          "tSNE-2": 11.433143615722656
         },
         {
          "KM-label": 2,
          "digit": 0,
          "tSNE-1": -4.848350524902344,
          "tSNE-2": -51.1622314453125
         },
         {
          "KM-label": 6,
          "digit": 1,
          "tSNE-1": 6.692336559295654,
          "tSNE-2": 14.701925277709961
         },
         {
          "KM-label": 8,
          "digit": 7,
          "tSNE-1": -7.211790561676025,
          "tSNE-2": 38.740116119384766
         },
         {
          "KM-label": 3,
          "digit": 6,
          "tSNE-1": 30.525238037109375,
          "tSNE-2": -9.555343627929688
         },
         {
          "KM-label": 9,
          "digit": 3,
          "tSNE-1": -30.08469581604004,
          "tSNE-2": -2.3017849922180176
         },
         {
          "KM-label": 5,
          "digit": 2,
          "tSNE-1": -32.04789733886719,
          "tSNE-2": 25.12952995300293
         },
         {
          "KM-label": 6,
          "digit": 1,
          "tSNE-1": 7.5053300857543945,
          "tSNE-2": 16.359338760375977
         },
         {
          "KM-label": 8,
          "digit": 7,
          "tSNE-1": -8.561023712158203,
          "tSNE-2": 41.30945587158203
         },
         {
          "KM-label": 8,
          "digit": 4,
          "tSNE-1": -4.84207820892334,
          "tSNE-2": 26.06395149230957
         },
         {
          "KM-label": 3,
          "digit": 6,
          "tSNE-1": 31.951122283935547,
          "tSNE-2": -6.571793556213379
         },
         {
          "KM-label": 9,
          "digit": 3,
          "tSNE-1": -32.08525848388672,
          "tSNE-2": -3.6728391647338867
         },
         {
          "KM-label": 6,
          "digit": 1,
          "tSNE-1": 7.072952747344971,
          "tSNE-2": 16.824373245239258
         },
         {
          "KM-label": 9,
          "digit": 3,
          "tSNE-1": -27.944215774536133,
          "tSNE-2": -2.877147674560547
         },
         {
          "KM-label": 8,
          "digit": 9,
          "tSNE-1": 9.64976692199707,
          "tSNE-2": 27.34379768371582
         },
         {
          "KM-label": 6,
          "digit": 1,
          "tSNE-1": 6.098442077636719,
          "tSNE-2": 16.001419067382812
         },
         {
          "KM-label": 8,
          "digit": 7,
          "tSNE-1": -9.064253807067871,
          "tSNE-2": 38.41437530517578
         },
         {
          "KM-label": 3,
          "digit": 6,
          "tSNE-1": 33.438316345214844,
          "tSNE-2": -9.76524543762207
         },
         {
          "KM-label": 6,
          "digit": 8,
          "tSNE-1": -10.291074752807617,
          "tSNE-2": 12.378493309020996
         },
         {
          "KM-label": 4,
          "digit": 4,
          "tSNE-1": 34.32834243774414,
          "tSNE-2": 25.964115142822266
         },
         {
          "KM-label": 9,
          "digit": 3,
          "tSNE-1": -31.068580627441406,
          "tSNE-2": -4.0020575523376465
         },
         {
          "KM-label": 6,
          "digit": 1,
          "tSNE-1": 6.451664924621582,
          "tSNE-2": 17.062097549438477
         },
         {
          "KM-label": 4,
          "digit": 4,
          "tSNE-1": 32.60923767089844,
          "tSNE-2": 25.035930633544922
         },
         {
          "KM-label": 2,
          "digit": 0,
          "tSNE-1": 2.039044141769409,
          "tSNE-2": -42.053504943847656
         },
         {
          "KM-label": 1,
          "digit": 5,
          "tSNE-1": 11.838783264160156,
          "tSNE-2": -10.201967239379883
         },
         {
          "KM-label": 9,
          "digit": 3,
          "tSNE-1": -31.9222412109375,
          "tSNE-2": -3.963836908340454
         },
         {
          "KM-label": 3,
          "digit": 6,
          "tSNE-1": 32.56291961669922,
          "tSNE-2": -5.480157375335693
         },
         {
          "KM-label": 9,
          "digit": 9,
          "tSNE-1": -18.726299285888672,
          "tSNE-2": -19.54734992980957
         },
         {
          "KM-label": 3,
          "digit": 6,
          "tSNE-1": 33.82245635986328,
          "tSNE-2": -4.9062957763671875
         },
         {
          "KM-label": 6,
          "digit": 1,
          "tSNE-1": 6.738841533660889,
          "tSNE-2": 17.182695388793945
         },
         {
          "KM-label": 8,
          "digit": 7,
          "tSNE-1": -2.425841808319092,
          "tSNE-2": 39.09043884277344
         },
         {
          "KM-label": 1,
          "digit": 5,
          "tSNE-1": 9.672776222229004,
          "tSNE-2": -6.916390895843506
         },
         {
          "KM-label": 4,
          "digit": 4,
          "tSNE-1": 32.18391799926758,
          "tSNE-2": 25.117708206176758
         },
         {
          "KM-label": 4,
          "digit": 4,
          "tSNE-1": 32.11101531982422,
          "tSNE-2": 29.082862854003906
         },
         {
          "KM-label": 8,
          "digit": 7,
          "tSNE-1": -6.129055500030518,
          "tSNE-2": 40.52603530883789
         },
         {
          "KM-label": 5,
          "digit": 2,
          "tSNE-1": -35.734825134277344,
          "tSNE-2": 24.299468994140625
         },
         {
          "KM-label": 9,
          "digit": 2,
          "tSNE-1": -32.59245300292969,
          "tSNE-2": 11.449249267578125
         },
         {
          "KM-label": 1,
          "digit": 5,
          "tSNE-1": 14.497206687927246,
          "tSNE-2": -6.282106876373291
         },
         {
          "KM-label": 8,
          "digit": 7,
          "tSNE-1": -9.19441032409668,
          "tSNE-2": 39.99315643310547
         },
         {
          "KM-label": 9,
          "digit": 9,
          "tSNE-1": -27.572338104248047,
          "tSNE-2": -3.7889292240142822
         },
         {
          "KM-label": 1,
          "digit": 5,
          "tSNE-1": 11.864096641540527,
          "tSNE-2": -10.30047607421875
         },
         {
          "KM-label": 8,
          "digit": 4,
          "tSNE-1": -4.894169807434082,
          "tSNE-2": 26.02848243713379
         },
         {
          "KM-label": 4,
          "digit": 4,
          "tSNE-1": 33.159324645996094,
          "tSNE-2": 25.909271240234375
         },
         {
          "KM-label": 1,
          "digit": 9,
          "tSNE-1": 7.812064170837402,
          "tSNE-2": -4.943179130554199
         },
         {
          "KM-label": 2,
          "digit": 0,
          "tSNE-1": -4.731456279754639,
          "tSNE-2": -42.139739990234375
         },
         {
          "KM-label": 6,
          "digit": 8,
          "tSNE-1": -8.264656066894531,
          "tSNE-2": 11.977587699890137
         },
         {
          "KM-label": 1,
          "digit": 9,
          "tSNE-1": 9.8731050491333,
          "tSNE-2": 27.010351181030273
         },
         {
          "KM-label": 8,
          "digit": 8,
          "tSNE-1": -8.740642547607422,
          "tSNE-2": 11.909366607666016
         },
         {
          "KM-label": 2,
          "digit": 0,
          "tSNE-1": -2.8522558212280273,
          "tSNE-2": -48.6480827331543
         },
         {
          "KM-label": 6,
          "digit": 1,
          "tSNE-1": 0.060129713267087936,
          "tSNE-2": 10.99526596069336
         },
         {
          "KM-label": 5,
          "digit": 2,
          "tSNE-1": -34.1523323059082,
          "tSNE-2": 20.38080406188965
         },
         {
          "KM-label": 9,
          "digit": 3,
          "tSNE-1": -24.417461395263672,
          "tSNE-2": -8.943611145019531
         },
         {
          "KM-label": 7,
          "digit": 4,
          "tSNE-1": 36.95352554321289,
          "tSNE-2": 16.360050201416016
         },
         {
          "KM-label": 1,
          "digit": 5,
          "tSNE-1": 9.670844078063965,
          "tSNE-2": -21.578998565673828
         },
         {
          "KM-label": 3,
          "digit": 6,
          "tSNE-1": 41.74711608886719,
          "tSNE-2": -9.292943954467773
         },
         {
          "KM-label": 8,
          "digit": 7,
          "tSNE-1": -4.497420310974121,
          "tSNE-2": 36.94173049926758
         },
         {
          "KM-label": 9,
          "digit": 8,
          "tSNE-1": -10.792252540588379,
          "tSNE-2": 6.9526824951171875
         },
         {
          "KM-label": 0,
          "digit": 9,
          "tSNE-1": -14.7086763381958,
          "tSNE-2": -21.775257110595703
         },
         {
          "KM-label": 2,
          "digit": 0,
          "tSNE-1": -2.154904365539551,
          "tSNE-2": -47.79670333862305
         },
         {
          "KM-label": 6,
          "digit": 1,
          "tSNE-1": -0.011147461831569672,
          "tSNE-2": 12.528695106506348
         },
         {
          "KM-label": 5,
          "digit": 2,
          "tSNE-1": -25.8825740814209,
          "tSNE-2": 23.075786590576172
         },
         {
          "KM-label": 6,
          "digit": 3,
          "tSNE-1": -26.65081787109375,
          "tSNE-2": 0.8840105533599854
         },
         {
          "KM-label": 4,
          "digit": 4,
          "tSNE-1": 36.483787536621094,
          "tSNE-2": 23.23309898376465
         },
         {
          "KM-label": 1,
          "digit": 5,
          "tSNE-1": 10.502498626708984,
          "tSNE-2": -21.18002700805664
         },
         {
          "KM-label": 3,
          "digit": 6,
          "tSNE-1": 34.65267562866211,
          "tSNE-2": -15.802661895751953
         },
         {
          "KM-label": 8,
          "digit": 7,
          "tSNE-1": 3.1087231636047363,
          "tSNE-2": 40.273773193359375
         },
         {
          "KM-label": 6,
          "digit": 8,
          "tSNE-1": -6.301645278930664,
          "tSNE-2": 7.6571502685546875
         },
         {
          "KM-label": 0,
          "digit": 9,
          "tSNE-1": -12.093961715698242,
          "tSNE-2": -18.316913604736328
         },
         {
          "KM-label": 2,
          "digit": 0,
          "tSNE-1": 1.0743820667266846,
          "tSNE-2": -49.23872375488281
         },
         {
          "KM-label": 6,
          "digit": 1,
          "tSNE-1": 2.428318977355957,
          "tSNE-2": 11.417402267456055
         },
         {
          "KM-label": 5,
          "digit": 2,
          "tSNE-1": -26.48675537109375,
          "tSNE-2": 19.940351486206055
         },
         {
          "KM-label": 1,
          "digit": 3,
          "tSNE-1": -0.8241463899612427,
          "tSNE-2": -8.22082233428955
         },
         {
          "KM-label": 4,
          "digit": 4,
          "tSNE-1": 36.12670135498047,
          "tSNE-2": 22.455005645751953
         },
         {
          "KM-label": 4,
          "digit": 5,
          "tSNE-1": 10.87231731414795,
          "tSNE-2": -21.851980209350586
         },
         {
          "KM-label": 3,
          "digit": 6,
          "tSNE-1": 41.60989761352539,
          "tSNE-2": -9.509357452392578
         },
         {
          "KM-label": 8,
          "digit": 7,
          "tSNE-1": -4.435891628265381,
          "tSNE-2": 36.8065185546875
         },
         {
          "KM-label": 6,
          "digit": 8,
          "tSNE-1": -10.953125953674316,
          "tSNE-2": 7.433742046356201
         },
         {
          "KM-label": 0,
          "digit": 9,
          "tSNE-1": -16.99305534362793,
          "tSNE-2": -20.67696762084961
         },
         {
          "KM-label": 2,
          "digit": 0,
          "tSNE-1": -7.0439453125,
          "tSNE-2": -44.51851272583008
         },
         {
          "KM-label": 0,
          "digit": 9,
          "tSNE-1": -15.003039360046387,
          "tSNE-2": -18.62870979309082
         },
         {
          "KM-label": 1,
          "digit": 5,
          "tSNE-1": 10.331331253051758,
          "tSNE-2": -15.220831871032715
         },
         {
          "KM-label": 1,
          "digit": 5,
          "tSNE-1": 5.5186767578125,
          "tSNE-2": -16.363739013671875
         },
         {
          "KM-label": 3,
          "digit": 6,
          "tSNE-1": 41.57502365112305,
          "tSNE-2": -10.0714111328125
         },
         {
          "KM-label": 1,
          "digit": 5,
          "tSNE-1": 7.905825614929199,
          "tSNE-2": -14.092262268066406
         },
         {
          "KM-label": 2,
          "digit": 0,
          "tSNE-1": 0.27814874053001404,
          "tSNE-2": -40.737979888916016
         },
         {
          "KM-label": 0,
          "digit": 9,
          "tSNE-1": -9.897750854492188,
          "tSNE-2": -24.222976684570312
         },
         {
          "KM-label": 0,
          "digit": 8,
          "tSNE-1": -12.249802589416504,
          "tSNE-2": 5.352869987487793
         },
         {
          "KM-label": 0,
          "digit": 9,
          "tSNE-1": -10.83263111114502,
          "tSNE-2": -22.768312454223633
         },
         {
          "KM-label": 6,
          "digit": 8,
          "tSNE-1": -5.715714454650879,
          "tSNE-2": 7.274234294891357
         },
         {
          "KM-label": 4,
          "digit": 4,
          "tSNE-1": 35.724308013916016,
          "tSNE-2": 23.719118118286133
         },
         {
          "KM-label": 6,
          "digit": 1,
          "tSNE-1": -0.2976742684841156,
          "tSNE-2": 11.369302749633789
         },
         {
          "KM-label": 8,
          "digit": 7,
          "tSNE-1": 4.4346394538879395,
          "tSNE-2": 33.257877349853516
         },
         {
          "KM-label": 8,
          "digit": 7,
          "tSNE-1": 4.1906418800354,
          "tSNE-2": 41.72905349731445
         },
         {
          "KM-label": 8,
          "digit": 3,
          "tSNE-1": -26.140920639038086,
          "tSNE-2": 2.4909751415252686
         },
         {
          "KM-label": 1,
          "digit": 5,
          "tSNE-1": 10.469696044921875,
          "tSNE-2": -21.4641056060791
         },
         {
          "KM-label": 6,
          "digit": 1,
          "tSNE-1": 1.2746243476867676,
          "tSNE-2": 13.203128814697266
         },
         {
          "KM-label": 2,
          "digit": 0,
          "tSNE-1": 0.2522619366645813,
          "tSNE-2": -48.407470703125
         },
         {
          "KM-label": 2,
          "digit": 0,
          "tSNE-1": -6.653246879577637,
          "tSNE-2": -44.09696578979492
         },
         {
          "KM-label": 5,
          "digit": 2,
          "tSNE-1": -35.0245246887207,
          "tSNE-2": 26.371536254882812
         },
         {
          "KM-label": 5,
          "digit": 2,
          "tSNE-1": -35.5086669921875,
          "tSNE-2": 22.653173446655273
         },
         {
          "KM-label": 8,
          "digit": 7,
          "tSNE-1": -4.594864368438721,
          "tSNE-2": 40.46879959106445
         },
         {
          "KM-label": 6,
          "digit": 8,
          "tSNE-1": -3.3339526653289795,
          "tSNE-2": 2.3949506282806396
         },
         {
          "KM-label": 5,
          "digit": 2,
          "tSNE-1": -34.86398696899414,
          "tSNE-2": 26.24338150024414
         },
         {
          "KM-label": 2,
          "digit": 0,
          "tSNE-1": 1.8525633811950684,
          "tSNE-2": -39.05988311767578
         },
         {
          "KM-label": 6,
          "digit": 1,
          "tSNE-1": 1.9411580562591553,
          "tSNE-2": 11.962830543518066
         },
         {
          "KM-label": 5,
          "digit": 2,
          "tSNE-1": -37.181785583496094,
          "tSNE-2": 23.80289649963379
         },
         {
          "KM-label": 3,
          "digit": 6,
          "tSNE-1": 34.072181701660156,
          "tSNE-2": -15.409891128540039
         },
         {
          "KM-label": 6,
          "digit": 3,
          "tSNE-1": -27.246295928955078,
          "tSNE-2": 0.9813891053199768
         },
         {
          "KM-label": 6,
          "digit": 3,
          "tSNE-1": -27.310213088989258,
          "tSNE-2": 1.4314472675323486
         },
         {
          "KM-label": 8,
          "digit": 7,
          "tSNE-1": -3.2030434608459473,
          "tSNE-2": 43.12250900268555
         },
         {
          "KM-label": 0,
          "digit": 3,
          "tSNE-1": -23.80784034729004,
          "tSNE-2": -8.744352340698242
         },
         {
          "KM-label": 6,
          "digit": 3,
          "tSNE-1": -26.83385467529297,
          "tSNE-2": 1.370748519897461
         },
         {
          "KM-label": 4,
          "digit": 4,
          "tSNE-1": 34.19293975830078,
          "tSNE-2": 20.599834442138672
         },
         {
          "KM-label": 3,
          "digit": 6,
          "tSNE-1": 37.88382339477539,
          "tSNE-2": -4.145275592803955
         },
         {
          "KM-label": 3,
          "digit": 6,
          "tSNE-1": 41.51514434814453,
          "tSNE-2": -10.433834075927734
         },
         {
          "KM-label": 3,
          "digit": 6,
          "tSNE-1": 43.35406494140625,
          "tSNE-2": -11.827086448669434
         },
         {
          "KM-label": 4,
          "digit": 4,
          "tSNE-1": 37.011234283447266,
          "tSNE-2": 17.256105422973633
         },
         {
          "KM-label": 0,
          "digit": 9,
          "tSNE-1": -13.091283798217773,
          "tSNE-2": -19.653793334960938
         },
         {
          "KM-label": 6,
          "digit": 1,
          "tSNE-1": -0.08684410899877548,
          "tSNE-2": 14.080665588378906
         },
         {
          "KM-label": 1,
          "digit": 5,
          "tSNE-1": 8.207676887512207,
          "tSNE-2": -22.6758975982666
         },
         {
          "KM-label": 2,
          "digit": 0,
          "tSNE-1": 0.19646266102790833,
          "tSNE-2": -48.01025390625
         },
         {
          "KM-label": 0,
          "digit": 9,
          "tSNE-1": -14.974374771118164,
          "tSNE-2": -18.98150634765625
         },
         {
          "KM-label": 0,
          "digit": 5,
          "tSNE-1": 10.808650016784668,
          "tSNE-2": -22.062713623046875
         },
         {
          "KM-label": 5,
          "digit": 2,
          "tSNE-1": -38.25010299682617,
          "tSNE-2": 19.840412139892578
         },
         {
          "KM-label": 6,
          "digit": 8,
          "tSNE-1": -10.644012451171875,
          "tSNE-2": 7.907723426818848
         },
         {
          "KM-label": 5,
          "digit": 2,
          "tSNE-1": -26.33954620361328,
          "tSNE-2": 21.338581085205078
         },
         {
          "KM-label": 2,
          "digit": 0,
          "tSNE-1": -6.957566261291504,
          "tSNE-2": -42.71733856201172
         },
         {
          "KM-label": 2,
          "digit": 0,
          "tSNE-1": 0.8812599182128906,
          "tSNE-2": -49.249271392822266
         },
         {
          "KM-label": 6,
          "digit": 1,
          "tSNE-1": -1.5666128396987915,
          "tSNE-2": 12.79128360748291
         },
         {
          "KM-label": 8,
          "digit": 7,
          "tSNE-1": -6.400973796844482,
          "tSNE-2": 41.95124816894531
         },
         {
          "KM-label": 3,
          "digit": 6,
          "tSNE-1": 37.727603912353516,
          "tSNE-2": -5.045497894287109
         },
         {
          "KM-label": 9,
          "digit": 3,
          "tSNE-1": -27.58424186706543,
          "tSNE-2": 0.33450043201446533
         },
         {
          "KM-label": 5,
          "digit": 2,
          "tSNE-1": -26.496551513671875,
          "tSNE-2": 20.018415451049805
         },
         {
          "KM-label": 6,
          "digit": 1,
          "tSNE-1": 8.863809585571289,
          "tSNE-2": 12.897791862487793
         },
         {
          "KM-label": 8,
          "digit": 7,
          "tSNE-1": -5.256901264190674,
          "tSNE-2": 42.70585632324219
         },
         {
          "KM-label": 4,
          "digit": 4,
          "tSNE-1": 37.42662048339844,
          "tSNE-2": 17.82583236694336
         },
         {
          "KM-label": 3,
          "digit": 6,
          "tSNE-1": 36.07139205932617,
          "tSNE-2": -6.473409175872803
         },
         {
          "KM-label": 9,
          "digit": 3,
          "tSNE-1": -29.932147979736328,
          "tSNE-2": -3.5445990562438965
         },
         {
          "KM-label": 6,
          "digit": 1,
          "tSNE-1": 0.052345387637615204,
          "tSNE-2": 15.254037857055664
         },
         {
          "KM-label": 9,
          "digit": 3,
          "tSNE-1": -29.06679916381836,
          "tSNE-2": -8.158354759216309
         },
         {
          "KM-label": 0,
          "digit": 9,
          "tSNE-1": -13.151718139648438,
          "tSNE-2": -19.16007423400879
         },
         {
          "KM-label": 6,
          "digit": 1,
          "tSNE-1": 1.5562764406204224,
          "tSNE-2": 11.710970878601074
         },
         {
          "KM-label": 8,
          "digit": 7,
          "tSNE-1": -0.8150829672813416,
          "tSNE-2": 38.629432678222656
         },
         {
          "KM-label": 3,
          "digit": 6,
          "tSNE-1": 40.22003936767578,
          "tSNE-2": -8.607718467712402
         },
         {
          "KM-label": 6,
          "digit": 8,
          "tSNE-1": -5.064933776855469,
          "tSNE-2": 11.245782852172852
         },
         {
          "KM-label": 4,
          "digit": 4,
          "tSNE-1": 39.08500671386719,
          "tSNE-2": 20.98423957824707
         },
         {
          "KM-label": 1,
          "digit": 3,
          "tSNE-1": -0.7894765734672546,
          "tSNE-2": -8.244590759277344
         },
         {
          "KM-label": 6,
          "digit": 1,
          "tSNE-1": -1.1985076665878296,
          "tSNE-2": 12.895049095153809
         },
         {
          "KM-label": 4,
          "digit": 4,
          "tSNE-1": 34.34532165527344,
          "tSNE-2": 18.501937866210938
         },
         {
          "KM-label": 2,
          "digit": 0,
          "tSNE-1": 4.014896869659424,
          "tSNE-2": -45.356510162353516
         },
         {
          "KM-label": 0,
          "digit": 5,
          "tSNE-1": 6.734020709991455,
          "tSNE-2": -21.364776611328125
         },
         {
          "KM-label": 9,
          "digit": 3,
          "tSNE-1": -28.66844367980957,
          "tSNE-2": -6.0391669273376465
         },
         {
          "KM-label": 3,
          "digit": 6,
          "tSNE-1": 35.29221725463867,
          "tSNE-2": -4.770951747894287
         },
         {
          "KM-label": 0,
          "digit": 9,
          "tSNE-1": -12.740097045898438,
          "tSNE-2": -18.57211685180664
         },
         {
          "KM-label": 3,
          "digit": 6,
          "tSNE-1": 36.8426399230957,
          "tSNE-2": -16.139265060424805
         },
         {
          "KM-label": 6,
          "digit": 1,
          "tSNE-1": -1.2634049654006958,
          "tSNE-2": 13.2067232131958
         },
         {
          "KM-label": 8,
          "digit": 7,
          "tSNE-1": -8.470731735229492,
          "tSNE-2": 36.52497863769531
         },
         {
          "KM-label": 1,
          "digit": 5,
          "tSNE-1": 10.314534187316895,
          "tSNE-2": -20.37819480895996
         },
         {
          "KM-label": 4,
          "digit": 4,
          "tSNE-1": 35.9415397644043,
          "tSNE-2": 17.373563766479492
         },
         {
          "KM-label": 4,
          "digit": 4,
          "tSNE-1": 39.184173583984375,
          "tSNE-2": 19.299518585205078
         },
         {
          "KM-label": 8,
          "digit": 7,
          "tSNE-1": 0.8670223951339722,
          "tSNE-2": 41.56125259399414
         },
         {
          "KM-label": 5,
          "digit": 2,
          "tSNE-1": -37.15067672729492,
          "tSNE-2": 20.135793685913086
         },
         {
          "KM-label": 6,
          "digit": 8,
          "tSNE-1": -12.009940147399902,
          "tSNE-2": 7.317231178283691
         },
         {
          "KM-label": 5,
          "digit": 2,
          "tSNE-1": -36.04673767089844,
          "tSNE-2": 21.264671325683594
         },
         {
          "KM-label": 5,
          "digit": 2,
          "tSNE-1": -37.37627410888672,
          "tSNE-2": 22.912372589111328
         },
         {
          "KM-label": 0,
          "digit": 5,
          "tSNE-1": 11.07387924194336,
          "tSNE-2": -21.655942916870117
         },
         {
          "KM-label": 8,
          "digit": 7,
          "tSNE-1": -6.1935601234436035,
          "tSNE-2": 41.04444122314453
         },
         {
          "KM-label": 0,
          "digit": 9,
          "tSNE-1": -16.856393814086914,
          "tSNE-2": -17.585840225219727
         },
         {
          "KM-label": 0,
          "digit": 5,
          "tSNE-1": 7.1158552169799805,
          "tSNE-2": -22.06707763671875
         },
         {
          "KM-label": 4,
          "digit": 4,
          "tSNE-1": 38.01312255859375,
          "tSNE-2": 19.305919647216797
         },
         {
          "KM-label": 6,
          "digit": 8,
          "tSNE-1": -3.904634952545166,
          "tSNE-2": 10.932515144348145
         },
         {
          "KM-label": 6,
          "digit": 8,
          "tSNE-1": -0.5960626006126404,
          "tSNE-2": 16.6734619140625
         },
         {
          "KM-label": 4,
          "digit": 4,
          "tSNE-1": 36.50162887573242,
          "tSNE-2": 21.502037048339844
         },
         {
          "KM-label": 0,
          "digit": 9,
          "tSNE-1": -14.035482406616211,
          "tSNE-2": -18.439401626586914
         },
         {
          "KM-label": 2,
          "digit": 0,
          "tSNE-1": 0.3980365991592407,
          "tSNE-2": -39.94084930419922
         },
         {
          "KM-label": 6,
          "digit": 8,
          "tSNE-1": -5.321652412414551,
          "tSNE-2": 11.406441688537598
         },
         {
          "KM-label": 0,
          "digit": 9,
          "tSNE-1": -12.98837947845459,
          "tSNE-2": -15.145829200744629
         },
         {
          "KM-label": 0,
          "digit": 8,
          "tSNE-1": -12.228026390075684,
          "tSNE-2": 5.945458889007568
         }
        ]
       },
       "hconcat": [
        {
         "encoding": {
          "color": {
           "field": "KM-label",
           "scale": {
            "scheme": "Spectral"
           },
           "type": "nominal"
          },
          "x": {
           "field": "tSNE-1",
           "type": "quantitative"
          },
          "y": {
           "field": "tSNE-2",
           "type": "quantitative"
          }
         },
         "height": 450,
         "mark": {
          "size": 40,
          "type": "circle"
         },
         "selection": {
          "selector009": {
           "type": "interval"
          }
         },
         "width": 450
        },
        {
         "encoding": {
          "text": {
           "field": "digit",
           "type": "nominal"
          },
          "y": {
           "axis": null,
           "field": "row_number",
           "type": "ordinal"
          }
         },
         "mark": "text",
         "title": "digit",
         "transform": [
          {
           "window": [
            {
             "as": "row_number",
             "field": "",
             "op": "row_number"
            }
           ]
          },
          {
           "filter": {
            "selection": "selector009"
           }
          },
          {
           "window": [
            {
             "as": "rank",
             "field": "row_number",
             "op": "rank"
            }
           ]
          },
          {
           "filter": "(datum.rank < 25)"
          }
         ]
        }
       ]
      },
      "image/png": "[encoded data removed]",
      "text/plain": [
       "<VegaLite 3 object>\n",
       "\n",
       "If you see this message, it means the renderer has not been properly enabled\n",
       "for the frontend that you are using. For more information, see\n",
       "https://altair-viz.github.io/user_guide/troubleshooting.html\n"
      ]
     },
     "execution_count": null,
     "metadata": {},
     "output_type": "execute_result"
    }
   ],
   "source": [
    "#| code-fold: show\n",
    "\n",
    "# Get digits dataset\n",
    "digits = load_digits()\n",
    "# Cluster it with kmeans and get the predicted labels\n",
    "kmlabel = KMeans(n_clusters=10, n_jobs=-1).fit_predict(digits.data)\n",
    "# Embed in 2D with tSNE\n",
    "embedding = TSNE(n_components=2, n_iter=500).fit_transform(digits.data)\n",
    "\n",
    "# Turn data into a dataframe\n",
    "digits_df = pd.DataFrame({\n",
    "    \"tSNE-1\": embedding[:, 0],\n",
    "    \"tSNE-2\": embedding[:, 1],    \n",
    "    \"digit\": digits.target,\n",
    "    \"KM-label\": kmlabel\n",
    "})\n",
    "\n",
    "# Make the chart\n",
    "plot_interactive_embedding(\n",
    "    source=digits_df,\n",
    "    x=\"tSNE-1\",\n",
    "    y=\"tSNE-2\",\n",
    "    target_col=\"digit\",\n",
    "    color_col=\"KM-label\",\n",
    "    figsize=(450, 450),\n",
    "    filename=\"your_filename\"\n",
    ")"
   ]
  },
  {
   "cell_type": "markdown",
   "metadata": {},
   "source": [
    "You can save the output by passing a ```filename``` argument.\n",
    "That will generate an interactive file like [this](https://nbviewer.jupyter.org/github/fabridamicelli/pythonicity/blob/master/figs/interactiveEmbedding.html)."
   ]
  },
  {
   "cell_type": "markdown",
   "metadata": {},
   "source": [
    "#### All the code can be found [here](https://github.com/fabridamicelli/pythonicity)."
   ]
  },
  {
   "cell_type": "markdown",
   "metadata": {},
   "source": [
    "#### A couple of links worth checking out:\n",
    "- [Altair](https://altair-viz.github.io/): \"Declarative Visualization in Python\". This does the job under the hood of what I showed you. I did not even scratch the surface of that powerful, neat library.\n",
    "- [This](https://grantcuster.github.io/umap-explorer/) and [this](http://doc.gold.ac.uk/~lfedd001/three/demo.html) for cool visualizations of UMAP projections.\n",
    "- [whatlies](https://rasahq.github.io/whatlies/): \"A library that tries help you to understand. What lies in word embeddings?\". This didn't exist when I wrote this function – would be my first choice now. It goes way beyond of what I showed and has integration with other NLP tools as well."
   ]
  },
  {
   "cell_type": "markdown",
   "metadata": {},
   "source": [
    "Bonus: Funny games in high dimensions!\n",
    "{{< video https://www.youtu.be/6_yU9eJ0NxA >}}"
   ]
  },
  {
   "cell_type": "markdown",
   "metadata": {},
   "source": [
    "----\n",
    "Any bugs, questions, comments, suggestions? Ping me on [twitter](https://www.twitter.com/fabridamicelli) or drop me an e-mail (fabridamicelli at gmail)."
   ]
  }
 ],
 "metadata": {
  "kernelspec": {
   "display_name": "Python 3 (ipykernel)",
   "language": "python",
   "name": "python3"
  }
 },
 "nbformat": 4,
 "nbformat_minor": 4
}
