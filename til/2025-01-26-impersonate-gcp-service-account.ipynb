{
 "cells": [
  {
   "cell_type": "raw",
   "metadata": {},
   "source": [
    "---\n",
    "author: Fabrizio Damicelli\n",
    "badges: true\n",
    "categories:\n",
    "- Google Cloud Platform\n",
    "comments: false\n",
    "date: '2025-01-26'\n",
    "title: Impersonate Google Cloud Service Account \n",
    "description: A little trick to run/test GCP workflows locally\n",
    "filters:\n",
    "- social-share\n",
    "output-file: impersonate-gcp-service-account.html\n",
    "share:\n",
    "  description: A little trick to run/test GCP workflows locally\n",
    "  linkedin: true\n",
    "  mastodon: true\n",
    "  permalink: '\"https://fabridamicelli.github.io/posts/impersonate-gcp-service-account.html\"'\n",
    "  reddit: true\n",
    "  twitter: true\n",
    "toc: true\n",
    "\n",
    "---\n"
   ]
  },
  {
   "cell_type": "markdown",
   "metadata": {},
   "source": [
    "Google Cloud Platform (GCP) uses so-called [\"Service accounts\"](https://cloud.google.com/iam/docs/service-account-overview) to manage granular permissions:\n",
    "> A service account is a special kind of account typically used by an application or compute workload, such as a Compute Engine instance, rather than a person.\n",
    "\n",
    "For example, you might have a service account dedicated to trigger a particular workload on GCP from [Github actions](https://github.com/features/actions).\n",
    "This allows us to have very granular permissions that we can give/revoke.\n",
    "So far so good, but sometimes we want to run the workflow from our local machine, for example to test it.\n",
    "\n",
    "In such case we can *impersonate* the service account that we want to test and trigger the workload on its behalf like this:"
   ]
  },
  {
   "cell_type": "markdown",
   "metadata": {},
   "source": [
    "1) Create short-lived credentials and store them locally:\n",
    "\n",
    "```bash\n",
    "gcloud iam service-accounts keys create /local/path/to/credentials.json \\\n",
    "  --iam-account \"name-of-service-account@name-of-gcp-project.iam.gserviceaccount.com\"\n",
    "```\n",
    "\n",
    "2) Pass the credentials when runnning the workload (example with bigquery client):\n",
    "\n",
    "```python\n",
    "from google.oauth2 import service_account\n",
    "\n",
    "def get_impersonated_client(project):\n",
    "    credentials = service_account.Credentials.from_service_account_file(\"/local/path/to/credentials.json\")\n",
    "    return bigquery.Client(credentials=credentials, project=project)\n",
    "```\n",
    "\n",
    "The returned client will act as if it was our target service account (and not using the credentials from the user logged-in authenticated in the local machine)\n",
    "\n",
    "Read more about impersonation on GCP [here](https://cloud.google.com/docs/authentication/use-service-account-impersonation)."
   ]
  },
  {
   "cell_type": "markdown",
   "metadata": {},
   "source": [
    "<div style=\"text-align: right; font-size: 40px; font-family: 'Inconsolata', monospace;\">\n",
    "  /Fin\n",
    "</div>\n",
    "    \n",
    "<div style=\"font-family: 'Inconsolata', monospace;\">\n",
    "Any bugs, questions, comments, suggestions? Ping me on [twitter](https://www.twitter.com/fabridamicelli) or drop me an e-mail (fabridamicelli at gmail).  \n",
    "Share this article on your favourite platform:\n",
    "</div>"
   ]
  }
 ],
 "metadata": {
  "kernelspec": {
   "display_name": "Python 3 (ipykernel)",
   "language": "python",
   "name": "python3"
  },
  "language_info": {
   "codemirror_mode": {
    "name": "ipython",
    "version": 3
   },
   "file_extension": ".py",
   "mimetype": "text/x-python",
   "name": "python",
   "nbconvert_exporter": "python",
   "pygments_lexer": "ipython3",
   "version": "3.13.1"
  }
 },
 "nbformat": 4,
 "nbformat_minor": 4
}
