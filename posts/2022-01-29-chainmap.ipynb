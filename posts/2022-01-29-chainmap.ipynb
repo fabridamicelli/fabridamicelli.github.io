{
 "cells": [
  {
   "cell_type": "raw",
   "id": "962c962b",
   "metadata": {},
   "source": [
    "---\n",
    "aliases:\n",
    "- /ChainMap/collections/python/python-standard-library/2022/01/29/chainmap\n",
    "author: Fabrizio Damicelli\n",
    "badges: false\n",
    "branch: master\n",
    "categories:\n",
    "- python\n",
    "- collections\n",
    "- ChainMap\n",
    "- python-standard-library\n",
    "comments: false\n",
    "date: '2022-01-29'\n",
    "description: An elegant solution to efficiently carry out a look up over more than one dictionary.\n",
    "output-file: 2022-01-29-chainmap.html\n",
    "title: from collections import ChainMap\n",
    "toc: false\n",
    "---"
   ]
  },
  {
   "cell_type": "markdown",
   "id": "0bbf792c-f4e5-4b86-b982-ece8974f27de",
   "metadata": {},
   "source": [
    "The built-in collections module is a handy bag of tools to be aware of. \n",
    "Here we explore collections.ChainMap, an elegant solution to efficiently carry out a look up over more than one dictionary."
   ]
  },
  {
   "cell_type": "markdown",
   "id": "1e817b98-d6a5-4f3b-befe-d402352bb951",
   "metadata": {},
   "source": [
    "{{< video https://youtu.be/3voMK5jNC54 >}}"
   ]
  },
  {
   "cell_type": "code",
   "execution_count": null,
   "id": "59375680-2516-48b1-b50f-7907ddd5afe9",
   "metadata": {},
   "outputs": [],
   "source": [
    "# Here's the gist of it, watch the video for more details.\n",
    "\n",
    "dict1 = {\n",
    "    \"a\": 1, \n",
    "    \"b\": 2,\n",
    "    \"c\": 3,\n",
    "}    \n",
    "\n",
    "dict2 = {\n",
    "    \"d\": 4,\n",
    "    \"f\": 0,\n",
    "}    \n",
    "\n",
    "dict3 = {\n",
    "    \"g\": 6,\n",
    "    \"h\": 7,\n",
    "    \"f\": 10,\n",
    "}    \n",
    "\n",
    "dicts = (dict1, dict3, dict2)\n",
    "\n",
    "key = \"f\""
   ]
  },
  {
   "cell_type": "code",
   "execution_count": null,
   "id": "967f95dc-1183-49ab-b13f-462192724126",
   "metadata": {},
   "outputs": [
    {
     "name": "stdout",
     "output_type": "stream",
     "text": [
      "10\n"
     ]
    }
   ],
   "source": [
    "for d in dicts:\n",
    "    val = d.get(key)\n",
    "    if val is not None:\n",
    "        print(val)\n",
    "        break"
   ]
  },
  {
   "cell_type": "code",
   "execution_count": null,
   "id": "d78c289b-8e09-4183-b0c1-136b9eeccf6f",
   "metadata": {},
   "outputs": [
    {
     "data": {
      "text/plain": [
       "10"
      ]
     },
     "execution_count": null,
     "metadata": {},
     "output_type": "execute_result"
    }
   ],
   "source": [
    "from collections import ChainMap\n",
    "\n",
    "ChainMap(*dicts)[key]"
   ]
  },
  {
   "cell_type": "markdown",
   "id": "f360afbb-86b3-4205-b1e1-0b2158248370",
   "metadata": {},
   "source": [
    "----\n",
    "Any bugs, questions, comments, suggestions? Ping me on [twitter](https://www.twitter.com/fabridamicelli) or drop me an e-mail (fabridamicelli at gmail)."
   ]
  }
 ],
 "metadata": {
  "kernelspec": {
   "display_name": "Python 3 (ipykernel)",
   "language": "python",
   "name": "python3"
  }
 },
 "nbformat": 4,
 "nbformat_minor": 5
}
