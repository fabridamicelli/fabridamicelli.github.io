{
 "cells": [
  {
   "cell_type": "raw",
   "metadata": {},
   "source": [
    "---\n",
    "aliases:\n",
    "- /functional-programming/functools/python/python-standard-library/2021/10/10/merge_dicts\n",
    "author: Fabrizio Damicelli\n",
    "badges: false\n",
    "branch: master\n",
    "categories:\n",
    "- python\n",
    "- functools\n",
    "- functional-programming\n",
    "- python-standard-library\n",
    "comments: false\n",
    "date: '2021-10-10'\n",
    "description: An elegant way to merge *many* dictionaries in Python by leveraging some\n",
    "  functional tools.\n",
    "output-file: 2021-10-10-merge_dicts.html\n",
    "title: 'Merging Python dictionaries: A functional take'\n",
    "toc: false\n",
    "\n",
    "---\n",
    "\n"
   ]
  },
  {
   "cell_type": "markdown",
   "id": "3877f167-9bdb-4fae-a952-7be1bb0eba93",
   "metadata": {},
   "source": [
    "### Merging dictionaries"
   ]
  },
  {
   "cell_type": "markdown",
   "id": "dc2d3cc5-2058-4f16-8bf4-faa502403830",
   "metadata": {},
   "source": [
    "Say we have these two dictionaries that we would like to merge:"
   ]
  },
  {
   "cell_type": "code",
   "execution_count": 2,
   "id": "ea55eb8e-d9bf-4bee-9679-79dde8ff3735",
   "metadata": {},
   "outputs": [],
   "source": [
    "d1 = {\"a\": 1, \"b\": 2}\n",
    "d2 = {\"a\": 2, \"c\": 3, \"d\": 4}"
   ]
  },
  {
   "cell_type": "markdown",
   "id": "51b4853d-b924-4ed8-8c98-a352cd656ce0",
   "metadata": {},
   "source": [
    "A kind of cannonical way to do it would be this:"
   ]
  },
  {
   "cell_type": "code",
   "execution_count": 3,
   "id": "4895415a-8920-4c8c-9b53-c822d6a6ab70",
   "metadata": {},
   "outputs": [
    {
     "data": {
      "text/plain": [
       "{'a': 2, 'b': 2, 'c': 3, 'd': 4}"
      ]
     },
     "execution_count": 3,
     "metadata": {},
     "output_type": "execute_result"
    }
   ],
   "source": [
    "d3 = {}\n",
    "for d in [d1, d2]:\n",
    "    for k, v in d.items():\n",
    "        d3[k] = v\n",
    "\n",
    "d3"
   ]
  },
  {
   "cell_type": "markdown",
   "id": "256e8ae6-2d9d-4935-9281-eaf9f8115dd9",
   "metadata": {},
   "source": [
    ":::{.callout-warning}\n",
    "\n",
    "Notice that we are *updating* the items, so later appeared keys will overwrite the values under existing keys.\n",
    "\n",
    ":::"
   ]
  },
  {
   "cell_type": "markdown",
   "id": "de61ce4d-e06c-4aa7-8c53-d1b7b52ba9f3",
   "metadata": {},
   "source": [
    "That works.\n",
    "But it's arguably not so nice.\n",
    "Here's an alternative:"
   ]
  },
  {
   "cell_type": "code",
   "execution_count": 4,
   "id": "e75e362c-ec03-4eca-865e-88622a912eb3",
   "metadata": {},
   "outputs": [
    {
     "data": {
      "text/plain": [
       "{'a': 2, 'b': 2, 'c': 3, 'd': 4}"
      ]
     },
     "execution_count": 4,
     "metadata": {},
     "output_type": "execute_result"
    }
   ],
   "source": [
    "d3 = {k: v for d in [d1, d2] for k, v in d.items()}\n",
    "\n",
    "d3"
   ]
  },
  {
   "cell_type": "markdown",
   "id": "59e861d1-27c1-4a05-a1fe-16573651ef0c",
   "metadata": {},
   "source": [
    "That's compact and kind of nice because of the dictionary comprehension.\n",
    "But, as Michael Kennedy puts it in [this video](https://www.youtube.com/watch?v=ZMkUoHj5GU0), it's a bit of a \"too clever\" alternative, that might be not so easy to read."
   ]
  },
  {
   "cell_type": "markdown",
   "id": "c08ddb3f-7a6c-4015-aa2f-e78a045ea12f",
   "metadata": {},
   "source": [
    "What many people consider to be a \"more pythonic\" way is the following:"
   ]
  },
  {
   "cell_type": "code",
   "execution_count": 5,
   "id": "901d6e6c-0165-4302-a0e3-e2e9a009c6a5",
   "metadata": {},
   "outputs": [
    {
     "data": {
      "text/plain": [
       "{'a': 2, 'b': 2, 'c': 3, 'd': 4}"
      ]
     },
     "execution_count": 5,
     "metadata": {},
     "output_type": "execute_result"
    }
   ],
   "source": [
    "d3 = {**d1, **d2}\n",
    "d3"
   ]
  },
  {
   "cell_type": "markdown",
   "id": "054ed196-5062-496b-af82-5284e7b396a0",
   "metadata": {},
   "source": [
    ":::{.callout-warning}\n",
    "\n",
    "This will only work from Python 3.5 on.\n",
    "\n",
    ":::"
   ]
  },
  {
   "cell_type": "markdown",
   "id": "7b619ee6-b091-4b28-afcf-b9ddedeba1a5",
   "metadata": {},
   "source": [
    "Beautiful."
   ]
  },
  {
   "cell_type": "markdown",
   "id": "d39b0a31-c0a6-499d-906d-7489ddc7a4fb",
   "metadata": {},
   "source": [
    "That's where most tutorials on merging dictionaries in Python end.\n",
    "Let's go beyond that.\n",
    "What if we have more dictionaries to merge, say, three:"
   ]
  },
  {
   "cell_type": "code",
   "execution_count": 6,
   "id": "604d13e4-be36-4ea1-89ed-3ee4f8c9394a",
   "metadata": {},
   "outputs": [
    {
     "data": {
      "text/plain": [
       "{'a': 2, 'b': 2, 'c': 3, 'd': 4, 'f': 6, 'g': 9}"
      ]
     },
     "execution_count": 6,
     "metadata": {},
     "output_type": "execute_result"
    }
   ],
   "source": [
    "d1 = {\"a\": 1, \"b\": 2}\n",
    "d2 = {\"a\": 2, \"c\": 3, \"d\": 4}\n",
    "d3 = {\"c\": 3, \"f\": 6, \"g\": 9}\n",
    "\n",
    "\n",
    "d4 = {**d1, **d2, **d3}\n",
    "d4"
   ]
  },
  {
   "cell_type": "markdown",
   "id": "f85e2465-7aff-4bc0-b082-228398e27809",
   "metadata": {},
   "source": [
    "*Question:* And how about having 10 thousand dictionaries? Or not even knowing how many you have?\n",
    "\n",
    "*Answer:* Let's get functional! :)\n",
    "\n",
    "We can easily extend the logic of what we've been doing so far with one functional concept: `reduce` (aka \"fold\" in other languages)."
   ]
  },
  {
   "cell_type": "markdown",
   "id": "75eb0605-feb0-4809-9d0a-2e06ef07b161",
   "metadata": {},
   "source": [
    "### Detour: What is `reduce`"
   ]
  },
  {
   "cell_type": "markdown",
   "id": "95303751-bf40-4336-a272-4203d072492b",
   "metadata": {},
   "source": [
    "If you're alredy familiar with this concept, jumpt to the next subsection.\n",
    "\n",
    "You can check the details for yourself if you're not yet familiar with the concept, eg [this nice Real Python's tutorial](https://realpython.com/python-reduce-function/).\n",
    "In essence `reduce` is a higher order function that will recursively apply a combining operation to the elements of an iterable.\n",
    "That's mouthful, let's look at a couple of quick examples:"
   ]
  },
  {
   "cell_type": "code",
   "execution_count": 19,
   "id": "d6857919-fe2b-456b-ac6c-5fbb972f1f1a",
   "metadata": {},
   "outputs": [],
   "source": [
    "from functools import reduce\n",
    "from operator import add, pow"
   ]
  },
  {
   "cell_type": "code",
   "execution_count": 20,
   "id": "87eed11c-e458-430c-8203-680998f6b7ad",
   "metadata": {},
   "outputs": [
    {
     "data": {
      "text/plain": [
       "\u001b[0;31mSignature:\u001b[0m \u001b[0madd\u001b[0m\u001b[0;34m(\u001b[0m\u001b[0ma\u001b[0m\u001b[0;34m,\u001b[0m \u001b[0mb\u001b[0m\u001b[0;34m,\u001b[0m \u001b[0;34m/\u001b[0m\u001b[0;34m)\u001b[0m\u001b[0;34m\u001b[0m\u001b[0;34m\u001b[0m\u001b[0m\n",
       "\u001b[0;31mDocstring:\u001b[0m Same as a + b.\n",
       "\u001b[0;31mType:\u001b[0m      builtin_function_or_method\n"
      ]
     },
     "metadata": {},
     "output_type": "display_data"
    }
   ],
   "source": [
    "add??"
   ]
  },
  {
   "cell_type": "code",
   "execution_count": 21,
   "id": "c0a13b3b-3f0c-452b-9ed3-1ecce89b9863",
   "metadata": {},
   "outputs": [
    {
     "data": {
      "text/plain": [
       "\u001b[0;31mSignature:\u001b[0m \u001b[0mpow\u001b[0m\u001b[0;34m(\u001b[0m\u001b[0ma\u001b[0m\u001b[0;34m,\u001b[0m \u001b[0mb\u001b[0m\u001b[0;34m,\u001b[0m \u001b[0;34m/\u001b[0m\u001b[0;34m)\u001b[0m\u001b[0;34m\u001b[0m\u001b[0;34m\u001b[0m\u001b[0m\n",
       "\u001b[0;31mDocstring:\u001b[0m Same as a ** b.\n",
       "\u001b[0;31mType:\u001b[0m      builtin_function_or_method\n"
      ]
     },
     "metadata": {},
     "output_type": "display_data"
    }
   ],
   "source": [
    "pow??"
   ]
  },
  {
   "cell_type": "markdown",
   "id": "853de4a6-51a3-4cea-989c-808b1b91df42",
   "metadata": {},
   "source": [
    "Both `add` and `pow` take two arguments and return one, so they \"reduce\" (or \"fold\") the two inputs into one."
   ]
  },
  {
   "cell_type": "code",
   "execution_count": 22,
   "id": "cf81cb93-80ba-4490-bfec-1ca2abace839",
   "metadata": {},
   "outputs": [
    {
     "data": {
      "text/plain": [
       "10"
      ]
     },
     "execution_count": 22,
     "metadata": {},
     "output_type": "execute_result"
    }
   ],
   "source": [
    "reduce(add, (1,2,3,4))"
   ]
  },
  {
   "cell_type": "code",
   "execution_count": 23,
   "id": "dfa100e4-2fcb-44b5-8794-0d0d1c460cd1",
   "metadata": {},
   "outputs": [
    {
     "data": {
      "text/plain": [
       "10"
      ]
     },
     "execution_count": 23,
     "metadata": {},
     "output_type": "execute_result"
    }
   ],
   "source": [
    "1+2+3+4"
   ]
  },
  {
   "cell_type": "code",
   "execution_count": 24,
   "id": "079ef836-96c2-44aa-94cc-19e0448fbbb4",
   "metadata": {},
   "outputs": [
    {
     "data": {
      "text/plain": [
       "1152921504606846976"
      ]
     },
     "execution_count": 24,
     "metadata": {},
     "output_type": "execute_result"
    }
   ],
   "source": [
    "reduce(pow, (2, 3, 4, 5))"
   ]
  },
  {
   "cell_type": "code",
   "execution_count": 25,
   "id": "86a29aff-fb55-48f7-affc-8ceebce4f662",
   "metadata": {},
   "outputs": [
    {
     "data": {
      "text/plain": [
       "1152921504606846976"
      ]
     },
     "execution_count": 25,
     "metadata": {},
     "output_type": "execute_result"
    }
   ],
   "source": [
    "((2 ** 3) ** 4) ** 5   # notice the succesive (recursive) nature of the operation"
   ]
  },
  {
   "cell_type": "markdown",
   "id": "5199a4cc-bc73-49cc-9720-68dfe991b13b",
   "metadata": {},
   "source": [
    "### Back to dictionaries"
   ]
  },
  {
   "cell_type": "markdown",
   "id": "7cc2ce14-d21e-4794-80cd-eb39fb9fb3e8",
   "metadata": {},
   "source": [
    "Let's apply that to dictionary merging:"
   ]
  },
  {
   "cell_type": "code",
   "execution_count": 26,
   "id": "73c3d809-1284-4a01-8565-2ff708566798",
   "metadata": {},
   "outputs": [],
   "source": [
    "def merge(d1, d2):\n",
    "    \"\"\"Return a new dictionary which results from merging d1 and d2\"\"\"\n",
    "    return {**d1, **d2}"
   ]
  },
  {
   "cell_type": "markdown",
   "id": "3591118a-c856-4888-ba4e-db4c0d1df973",
   "metadata": {},
   "source": [
    "So far nothing new.\n",
    "But notice that we now have an operation that *takes two arguments and returns one*, in other words a \"reducing\" or \"folding\" operation, so we can now use that!"
   ]
  },
  {
   "cell_type": "code",
   "execution_count": 27,
   "id": "8ac37458-42f2-4d6a-b830-2b54b8eceb14",
   "metadata": {},
   "outputs": [],
   "source": [
    "d1 = {\"a\": 1, \"b\": 2}\n",
    "d2 = {\"a\": 2, \"c\": 3, \"d\": 4}\n",
    "d3 = {\"c\": 4, \"f\": 6, \"g\": 9}"
   ]
  },
  {
   "cell_type": "code",
   "execution_count": 28,
   "id": "c7020677-7f07-4837-81ec-155ef9a3b350",
   "metadata": {},
   "outputs": [
    {
     "data": {
      "text/plain": [
       "{'a': 2, 'b': 2, 'c': 4, 'd': 4, 'f': 6, 'g': 9}"
      ]
     },
     "execution_count": 28,
     "metadata": {},
     "output_type": "execute_result"
    }
   ],
   "source": [
    "reduce(merge, (d1, d2, d3))"
   ]
  },
  {
   "cell_type": "markdown",
   "id": "dfdf6999-10bb-4638-bd36-98e57d97a085",
   "metadata": {},
   "source": [
    "Even some nice non-trivial properties come for free, eg it does the right thing when passing only one argument:"
   ]
  },
  {
   "cell_type": "code",
   "execution_count": 29,
   "id": "d76ce694-337a-4963-a6ba-b4a4df81bcc8",
   "metadata": {},
   "outputs": [
    {
     "data": {
      "text/plain": [
       "{'a': 1, 'b': 2}"
      ]
     },
     "execution_count": 29,
     "metadata": {},
     "output_type": "execute_result"
    }
   ],
   "source": [
    "reduce(merge, (d1,))   # notice that d1 it has to be in an iterable"
   ]
  },
  {
   "cell_type": "markdown",
   "id": "5022a0c5-c093-4594-8db0-9b562616a895",
   "metadata": {},
   "source": [
    "I think that is nice.\n",
    "But it can get nicer, because we can put all that together and by exploiting the arbitrary positional arguments (aka `*args`) we make it more general:"
   ]
  },
  {
   "cell_type": "code",
   "execution_count": 30,
   "id": "f9daf83a-ce43-428d-8eae-8be4be643812",
   "metadata": {},
   "outputs": [],
   "source": [
    "def merge_dicts(*dicts):\n",
    "    return reduce(lambda d1,d2: {**d1, **d2},  dicts)"
   ]
  },
  {
   "cell_type": "markdown",
   "id": "508f7bce-cd8d-4c3c-97fc-9bd05a23616a",
   "metadata": {},
   "source": [
    "Now we can use the very same function to merge as many dictionaries as we'd like, just passing them as positional arguments:"
   ]
  },
  {
   "cell_type": "code",
   "execution_count": 31,
   "id": "48c8a3b9-4d62-42f1-b1b7-6e17db75b719",
   "metadata": {},
   "outputs": [
    {
     "data": {
      "text/plain": [
       "{'a': 1, 'b': 2}"
      ]
     },
     "execution_count": 31,
     "metadata": {},
     "output_type": "execute_result"
    }
   ],
   "source": [
    "merge_dicts(d1)"
   ]
  },
  {
   "cell_type": "code",
   "execution_count": 32,
   "id": "caab9d8a-706b-4a94-a908-362fe6e229ce",
   "metadata": {},
   "outputs": [
    {
     "data": {
      "text/plain": [
       "{'a': 2, 'b': 2, 'c': 3, 'd': 4}"
      ]
     },
     "execution_count": 32,
     "metadata": {},
     "output_type": "execute_result"
    }
   ],
   "source": [
    "merge_dicts(d1, d2)"
   ]
  },
  {
   "cell_type": "code",
   "execution_count": 33,
   "id": "2c72e5e8-ef79-4655-9b01-a3a42142cd68",
   "metadata": {},
   "outputs": [
    {
     "data": {
      "text/plain": [
       "{'a': 1, 'b': 2, 'c': 4, 'd': 4, 'f': 6, 'g': 9}"
      ]
     },
     "execution_count": 33,
     "metadata": {},
     "output_type": "execute_result"
    }
   ],
   "source": [
    "merge_dicts(d1, d2, d3, d1)"
   ]
  },
  {
   "cell_type": "markdown",
   "id": "f5528c77-6b5b-400b-a29f-04638c8ebbd1",
   "metadata": {},
   "source": [
    "How cool is that?  :)"
   ]
  },
  {
   "cell_type": "markdown",
   "id": "010ed44a-6bd8-4579-98d3-87acf26473d1",
   "metadata": {},
   "source": [
    "Here's the video version of this tutorial "
   ]
  },
  {
   "cell_type": "markdown",
   "id": "d379d7ef-3a10-4d0e-8617-c9b37232e351",
   "metadata": {},
   "source": [
    "{{< video https://youtu.be/c3kewP44aks >}}"
   ]
  },
  {
   "cell_type": "markdown",
   "id": "af6dd08a-8b2f-431a-be17-d0e932c6f295",
   "metadata": {},
   "source": [
    "**Fin**"
   ]
  },
  {
   "cell_type": "markdown",
   "id": "634f3034-47e2-4032-be5f-0352f1eba2bb",
   "metadata": {},
   "source": []
  },
  {
   "cell_type": "markdown",
   "id": "24daa3e4-c169-4d1c-8e68-b399a98e8ac7",
   "metadata": {},
   "source": [
    "**Edit:**\n",
    "\n",
    "If you are using Python >= 3.9, there are a couple of better alternatives:  \n",
    "The first, more compact:"
   ]
  },
  {
   "cell_type": "code",
   "execution_count": 40,
   "id": "955eb682-b67a-4ba6-afb7-cb5afc3f3e7d",
   "metadata": {},
   "outputs": [],
   "source": [
    "import operator\n",
    "\n",
    "def merge_dicts(*dicts):\n",
    "    return reduce(operator.__or__, dicts)"
   ]
  },
  {
   "cell_type": "code",
   "execution_count": 41,
   "id": "fd446c3d-03e1-4cea-b2cc-9de2bc7a090f",
   "metadata": {},
   "outputs": [
    {
     "data": {
      "text/plain": [
       "{'a': 2, 'b': 2, 'c': 4, 'd': 4, 'f': 6, 'g': 9}"
      ]
     },
     "execution_count": 41,
     "metadata": {},
     "output_type": "execute_result"
    }
   ],
   "source": [
    "merge_dicts_or(d1,d2,d3)"
   ]
  },
  {
   "cell_type": "markdown",
   "id": "4e364312-394c-49e7-ae1e-08684f7e90da",
   "metadata": {},
   "source": [
    "The second, more readable:"
   ]
  },
  {
   "cell_type": "code",
   "execution_count": 42,
   "id": "4a65a124-ce39-40d9-ab11-3e7162329813",
   "metadata": {},
   "outputs": [],
   "source": [
    "def merge_dicts(*dicts):\n",
    "    ret = {}\n",
    "    for d in dicts:\n",
    "        ret |= d\n",
    "    return ret"
   ]
  },
  {
   "cell_type": "code",
   "execution_count": 43,
   "id": "27a77c45-5913-4493-997c-bb1637eab706",
   "metadata": {},
   "outputs": [
    {
     "data": {
      "text/plain": [
       "{'a': 2, 'b': 2, 'c': 4, 'd': 4, 'f': 6, 'g': 9}"
      ]
     },
     "execution_count": 43,
     "metadata": {},
     "output_type": "execute_result"
    }
   ],
   "source": [
    "merge_dicts_or(d1,d2,d3)"
   ]
  },
  {
   "cell_type": "markdown",
   "id": "e3d8a15f-53dc-4d09-a325-012da6b56679",
   "metadata": {},
   "source": [
    "Both were pointed out by Anthony Sottile in this tweet - thanks!:\n",
    "> twitter: https://twitter.com/codewithanthony/status/1447598310466981888?s=20"
   ]
  },
  {
   "cell_type": "code",
   "execution_count": null,
   "id": "8a1ff4a4-27d9-41a3-b939-77fced424add",
   "metadata": {},
   "outputs": [],
   "source": []
  },
  {
   "cell_type": "markdown",
   "id": "0371f210-9e7b-4b23-8225-485ca08c8846",
   "metadata": {},
   "source": [
    "References:\n",
    "- [Python `functools` documentation](https://docs.python.org/3/library/functools.html#functools.reduce)\n",
    "- [Michael Kennedy's tutorial](https://www.youtube.com/watch?v=ZMkUoHj5GU0&t=272s)\n",
    "- [Real Python's article on reduce](https://realpython.com/python-reduce-function/)"
   ]
  },
  {
   "cell_type": "markdown",
   "id": "64fbbc72-d99d-46a1-88f3-c4ff7742919e",
   "metadata": {},
   "source": [
    "----\n",
    "Any bugs, questions, comments, suggestions? Ping me on [twitter](https://www.twitter.com/fabridamicelli) or drop me an e-mail (fabridamicelli at gmail)."
   ]
  }
 ],
 "metadata": {
  "kernelspec": {
   "display_name": "Python 3 (ipykernel)",
   "language": "python",
   "name": "python3"
  },
  "language_info": {
   "codemirror_mode": {
    "name": "ipython",
    "version": 3
   },
   "file_extension": ".py",
   "mimetype": "text/x-python",
   "name": "python",
   "nbconvert_exporter": "python",
   "pygments_lexer": "ipython3",
   "version": "3.9.7"
  }
 },
 "nbformat": 4,
 "nbformat_minor": 5
}
