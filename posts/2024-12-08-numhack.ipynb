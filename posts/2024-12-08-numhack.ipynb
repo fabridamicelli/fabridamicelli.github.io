{
 "cells": [
  {
   "cell_type": "raw",
   "id": "a0645709",
   "metadata": {},
   "source": [
    "---\n",
    "author: Fabrizio Damicelli\n",
    "badges: false\n",
    "branch: master\n",
    "categories:\n",
    "- hackathon\n",
    "- numfocus\n",
    "comments: false\n",
    "date: \"2024-12-08\"\n",
    "description: \"We won on the Build category with an app to help build better cities.\"\n",
    "output-file: numhack.html\n",
    "title: \"NumHack 2024: We got 1st place!\"\n",
    "toc: false\n",
    "\n",
    "---\n"
   ]
  },
  {
   "cell_type": "markdown",
   "id": "6641d5b4-53f5-4915-abe7-b540a6a01e4a",
   "metadata": {},
   "source": [
    "NumFocus organized a hackathon, the [NumHack 2024](https://pydata.org/numhack), and together with [Jurij Wollert](https://www.linkedin.com/in/jurij-wollert-2985a2207/) and [Francesco Bruzzesi](https://www.linkedin.com/in/francesco-bruzzesi/) I participated.\n",
    "\n",
    "We put in a few days on intense work and it paid off: We got 1st place in the \"Build\" category!🥳\n",
    "\n",
    "The project we built is a prototype of an app that aims at empowering communities to build better cities.\n",
    "The app facilitates how citizens can report issues to the local authorities, and keep track of the status of the issue."
   ]
  },
  {
   "cell_type": "markdown",
   "id": "68b8126a-b764-411b-a834-2d326eda69eb",
   "metadata": {},
   "source": [
    "If you want to see the app in action, watch this short demo video:"
   ]
  },
  {
   "cell_type": "markdown",
   "id": "5bd9494e-5532-4b4d-9ce4-3ec9b4468972",
   "metadata": {},
   "source": [
    "<div style=\"display: flex; justify-content: center; align-items: center; width:100%\">\n",
    "    \n",
    "<iframe \n",
    "    src=\"https://drive.google.com/file/d/1LdL8C3gbD0zsMX4-NNfKo68huBDYRFSP/preview\"\n",
    "    allow=\"autoplay\"\n",
    "    style=\"width: 70%; height:300px\"></iframe>\n",
    "    \n",
    "</div>"
   ]
  },
  {
   "cell_type": "markdown",
   "id": "2d7ff0b0-426c-43b3-9412-8c157ec7734e",
   "metadata": {},
   "source": [
    "I think Francesco did a great job explaining in more detail how the competition and our work went on those days, so I wont repeat that, check out his blogpost [here](https://fbruzzesi.github.io/blog/2024/12/08/we-won-a-hackaton-/)."
   ]
  },
  {
   "cell_type": "markdown",
   "id": "b4e50ada-853d-40f3-b10d-799dc91ee2b2",
   "metadata": {},
   "source": [
    "The repository with all the code is [here](https://github.com/FBruzzesi/moin-moin)."
   ]
  },
  {
   "cell_type": "markdown",
   "id": "e12e34ba-338c-4be9-8750-10b3751c208e",
   "metadata": {},
   "source": [
    "<div style=\"text-align: right; font-size: 40px; font-family: 'Inconsolata', monospace;\">\n",
    "  /Fin\n",
    "</div>\n",
    "    \n",
    "<div style=\"font-family: 'Inconsolata', monospace;\">\n",
    "Any bugs, questions, comments, suggestions? Ping me on [twitter](https://www.twitter.com/fabridamicelli) or drop me an e-mail (fabridamicelli at gmail).  \n",
    "Share this article on your favourite platform:\n",
    "</div>"
   ]
  }
 ],
 "metadata": {
  "kernelspec": {
   "display_name": "Python 3 (ipykernel)",
   "language": "python",
   "name": "python3"
  },
  "language_info": {
   "codemirror_mode": {
    "name": "ipython",
    "version": 3
   },
   "file_extension": ".py",
   "mimetype": "text/x-python",
   "name": "python",
   "nbconvert_exporter": "python",
   "pygments_lexer": "ipython3",
   "version": "3.13.1"
  }
 },
 "nbformat": 4,
 "nbformat_minor": 5
}
