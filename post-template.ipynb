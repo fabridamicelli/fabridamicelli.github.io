{
 "cells": [
  {
   "cell_type": "raw",
   "id": "a0645709",
   "metadata": {},
   "source": [
    "---\n",
    "author: Fabrizio Damicelli\n",
    "badges: false\n",
    "branch: master\n",
    "categories:\n",
    "- TODO\n",
    "comments: false\n",
    "date: \"TODO\"\n",
    "description: \"TODO\"\n",
    "output-file: TODO.html\n",
    "title: \"TODO\"\n",
    "toc: false\n",
    "\n",
    "---\n"
   ]
  },
  {
   "cell_type": "markdown",
   "id": "6641d5b4-53f5-4915-abe7-b540a6a01e4a",
   "metadata": {},
   "source": [
    "::: {.callout-note title=\"Summary\"}\n",
    "\n",
    ":::"
   ]
  },
  {
   "cell_type": "code",
   "execution_count": null,
   "id": "b05655d4-5d45-41a7-962c-11d52360ed31",
   "metadata": {},
   "outputs": [],
   "source": [
    "#| output: false\n",
    "#| code-fold: true\n",
    "\n"
   ]
  },
  {
   "cell_type": "markdown",
   "id": "e938b077-1c2e-41ad-8651-2fd67341e38f",
   "metadata": {},
   "source": [
    "::: {.callout-note title=\"Note\"}\n",
    "\n",
    "\n",
    ":::"
   ]
  },
  {
   "cell_type": "markdown",
   "id": "7edaa200-3d68-451c-a6d9-d8117f427a33",
   "metadata": {},
   "source": [
    "::: {.callout-warning title=\"Note\"}\n",
    "\n",
    "\n",
    ":::"
   ]
  },
  {
   "cell_type": "markdown",
   "id": "8ebffdf5-8919-45c2-8116-0efc9a437fdd",
   "metadata": {},
   "source": [
    "<img align=\"center\" src=\"path-to.png\"  style=\"height:35%;\"/>"
   ]
  },
  {
   "cell_type": "markdown",
   "id": "a373caed-7449-478e-9e97-d628529251d8",
   "metadata": {},
   "source": [
    "{{< video https://youtu.be/some-cool-video >}}"
   ]
  },
  {
   "cell_type": "markdown",
   "id": "c6bf1cb7-66bf-43bf-9637-a4123e5ee5f3",
   "metadata": {
    "jp-MarkdownHeadingCollapsed": true
   },
   "source": [
    "# TODO\n"
   ]
  },
  {
   "cell_type": "markdown",
   "id": "e12e34ba-338c-4be9-8750-10b3751c208e",
   "metadata": {},
   "source": [
    "<div style=\"text-align: right; font-size: 40px; font-family: 'Inconsolata', monospace;\">\n",
    "  /Fin\n",
    "</div>\n",
    "    \n",
    "<div style=\"font-family: 'Inconsolata', monospace;\">\n",
    "Any bugs, questions, comments, suggestions? Ping me on [twitter](https://www.twitter.com/fabridamicelli) or drop me an e-mail (fabridamicelli at gmail).  \n",
    "Share this article on your favourite platform:\n",
    "</div>"
   ]
  }
 ],
 "metadata": {
  "kernelspec": {
   "display_name": "Python 3 (ipykernel)",
   "language": "python",
   "name": "python3"
  },
  "language_info": {
   "codemirror_mode": {
    "name": "ipython",
    "version": 3
   },
   "file_extension": ".py",
   "mimetype": "text/x-python",
   "name": "python",
   "nbconvert_exporter": "python",
   "pygments_lexer": "ipython3",
   "version": "3.11.9"
  }
 },
 "nbformat": 4,
 "nbformat_minor": 5
}
