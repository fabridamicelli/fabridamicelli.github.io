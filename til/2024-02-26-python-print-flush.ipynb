{
  "cells": [
    {
      "cell_type": "raw",
      "metadata": {},
      "source": [
        "---\n",
        "aliases:\n",
        "- /python-print-flush\n",
        "- /til/2024-02-26-python-print-flush.html\n",
        "author: Fabrizio Damicelli\n",
        "badges: true\n",
        "categories:\n",
        "- python\n",
        "comments: false\n",
        "date: '2024-02-26'\n",
        "description: A useful parameter in Python's `print` function to consume stream output\n",
        "  in a subsequent program.\n",
        "output-file: python-print-flush.html\n",
        "title: Force Python's `print` function to flush the stream\n",
        "toc: true\n",
        "\n",
        "---\n"
      ]
    },
    {
      "cell_type": "markdown",
      "metadata": {},
      "source": [
        "Say we have a python program that prints to `stdout` and we want to write that output into a file.  \n",
        "We can achieve that like this:"
      ]
    },
    {
      "cell_type": "code",
      "execution_count": null,
      "metadata": {},
      "outputs": [],
      "source": [
        "%%bash\n",
        "python -c 'print(\"great output\\nas always\")' > file.txt"
      ]
    },
    {
      "cell_type": "markdown",
      "metadata": {},
      "source": [
        "Which works fine:"
      ]
    },
    {
      "cell_type": "code",
      "execution_count": null,
      "metadata": {},
      "outputs": [
        {
          "name": "stdout",
          "output_type": "stream",
          "text": [
            "great output\n",
            "as always\n"
          ]
        }
      ],
      "source": [
        "%%bash\n",
        "cat file.txt"
      ]
    },
    {
      "cell_type": "markdown",
      "metadata": {},
      "source": [
        "Now, if we want to do the same **while** the program is still running, things are a bit different.  \n",
        "For example, this program will not write to file until we interrumpt it:"
      ]
    },
    {
      "cell_type": "code",
      "execution_count": null,
      "metadata": {},
      "outputs": [],
      "source": [
        "%%bash\n",
        "python -c '\\\n",
        "while True:\n",
        "    print(\"great output\\nas always\")' \\\n",
        "> newfile.txt"
      ]
    },
    {
      "cell_type": "markdown",
      "metadata": {},
      "source": [
        "That is, the command on the left side of `>` will be run until it's done and only then the file will be written.  \n",
        "We want to fix that.  \n",
        "In other words, stream the program output directly into the file while it's being generated.  \n",
        "\n",
        "I found this solution to work, passing `flush=True` to the `print` function:"
      ]
    },
    {
      "cell_type": "code",
      "execution_count": null,
      "metadata": {},
      "outputs": [],
      "source": [
        "%%bash\n",
        "python -c '\\\n",
        "import time\n",
        "while True:\n",
        "    print(\"great output\\nas always\", flush=True) # <----- HERE\n",
        "    time.sleep(2)' \\\n",
        "> newfile.txt"
      ]
    },
    {
      "cell_type": "markdown",
      "metadata": {},
      "source": [
        "As the docstrings say, that forces the stream to be flushed:"
      ]
    },
    {
      "cell_type": "code",
      "execution_count": null,
      "metadata": {},
      "outputs": [
        {
          "data": {
            "text/plain": [
              "\u001b[0;31mDocstring:\u001b[0m\n",
              "print(value, ..., sep=' ', end='\\n', file=sys.stdout, flush=False)\n",
              "\n",
              "Prints the values to a stream, or to sys.stdout by default.\n",
              "Optional keyword arguments:\n",
              "file:  a file-like object (stream); defaults to the current sys.stdout.\n",
              "sep:   string inserted between values, default a space.\n",
              "end:   string appended after the last value, default a newline.\n",
              "flush: whether to forcibly flush the stream.\n",
              "\u001b[0;31mType:\u001b[0m      builtin_function_or_method\n"
            ]
          },
          "metadata": {},
          "output_type": "display_data"
        }
      ],
      "source": [
        "print?"
      ]
    },
    {
      "cell_type": "markdown",
      "metadata": {},
      "source": [
        "**FIN** "
      ]
    },
    {
      "cell_type": "markdown",
      "metadata": {},
      "source": [
        "----\n",
        "Any bugs, questions, comments, suggestions? Ping me on [twitter](https://www.twitter.com/fabridamicelli) or drop me an e-mail (fabridamicelli at gmail)."
      ]
    }
  ],
  "metadata": {
    "kernelspec": {
      "display_name": "Python 3 (ipykernel)",
      "language": "python",
      "name": "python3"
    }
  },
  "nbformat": 4,
  "nbformat_minor": 4
}

